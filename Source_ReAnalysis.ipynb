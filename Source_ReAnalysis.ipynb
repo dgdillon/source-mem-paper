{
 "cells": [
  {
   "cell_type": "markdown",
   "metadata": {},
   "source": [
    "# Source re-analysis "
   ]
  },
  {
   "cell_type": "markdown",
   "metadata": {},
   "source": [
    "Simpler analysis, relying on ANOVAs and collapsing over encoding side, but **not** task in retrieval analyses."
   ]
  },
  {
   "cell_type": "code",
   "execution_count": 1,
   "metadata": {
    "collapsed": true
   },
   "outputs": [],
   "source": [
    "# Get the username and use that to set-up paths to data and figures\n",
    "uname  = !whoami\n",
    "uname = uname[0]\n",
    "path2code = '/Users/' + uname + '/Work/Expts/Code/'\n",
    "path2data = '/Users/' + uname + '/Work/Expts/SOURCE/Data/'\n",
    "path2analysis = '/Users/' + uname + '/Work/Expts/SOURCE/Analysis/'\n",
    "path2figs = '/Users/' + uname + '/Work/Expts/SOURCE/Analysis/Figures/'\n",
    "path2stims = '/Users/' + uname + '/Work/Expts/SOURCE/PsychoPy/Stimuli/'\n",
    "path2erps = '/Users/' + uname + '/Work/Expts/SOURCE/Analysis/ERPs/'"
   ]
  },
  {
   "cell_type": "code",
   "execution_count": 3,
   "metadata": {
    "collapsed": false
   },
   "outputs": [
    {
     "name": "stdout",
     "output_type": "stream",
     "text": [
      "/Users/ebarrick/Work/Expts/Code\n",
      "The rpy2.ipython extension is already loaded. To reload it, use:\n",
      "  %reload_ext rpy2.ipython\n",
      "\n",
      "Error in library(\"effsize\") : there is no package called ‘effsize’\n"
     ]
    },
    {
     "data": {
      "text/plain": [
       "array(['afex', 'reshape2', 'lsmeans', 'estimability', 'lmerTest', 'lme4',\n",
       "       'Matrix', 'mutoss', 'mvtnorm', 'ez', 'tools', 'stats', 'graphics',\n",
       "       'grDevices', 'utils', 'datasets', 'methods', 'base'], \n",
       "      dtype='|S12')"
      ]
     },
     "execution_count": 3,
     "metadata": {},
     "output_type": "execute_result"
    }
   ],
   "source": [
    "%cd {path2code}\n",
    "\n",
    "import csv, misc, os, re, SelfRep\n",
    "import numpy as np\n",
    "import pandas as pd\n",
    "import seaborn as sns\n",
    "import scipy as sp\n",
    "from matplotlib import pyplot as plt\n",
    "%matplotlib inline\n",
    "%load_ext rpy2.ipython\n",
    "\n",
    "%R library('ez')\n",
    "%R library('mutoss')\n",
    "%R library('lmerTest')\n",
    "%R library('lsmeans')\n",
    "%R lsm.options(disable.pbkrtest=TRUE)\n",
    "%R library('effsize')\n",
    "%R library ('afex')"
   ]
  },
  {
   "cell_type": "code",
   "execution_count": 4,
   "metadata": {
    "collapsed": true
   },
   "outputs": [],
   "source": [
    "def print_full(x):\n",
    "    pd.set_option('display.max_rows', len(x))\n",
    "    print(x)\n",
    "    pd.reset_option('display.max_rows')"
   ]
  },
  {
   "cell_type": "code",
   "execution_count": 5,
   "metadata": {
    "collapsed": true
   },
   "outputs": [],
   "source": [
    "sns.set_style('darkgrid')"
   ]
  },
  {
   "cell_type": "markdown",
   "metadata": {},
   "source": [
    "## Encoding"
   ]
  },
  {
   "cell_type": "code",
   "execution_count": 6,
   "metadata": {
    "collapsed": false
   },
   "outputs": [
    {
     "name": "stdout",
     "output_type": "stream",
     "text": [
      "/Users/ebarrick/Work/Expts/SOURCE/Data\n"
     ]
    }
   ],
   "source": [
    "# Assemble the trial-level encoding data . . . \n",
    "\n",
    "%cd {path2data}\n",
    "\n",
    "e_dfs = []\n",
    "ef_d = re.compile('Source_enc')\n",
    "\n",
    "subjects = !ls -d SM0*\n",
    "\n",
    "for subject in subjects:\n",
    "    curr_path = path2data + subject\n",
    "    for root, dirs, files in os.walk(curr_path):\n",
    "        for filename in files:\n",
    "            ef_m = ef_d.search(filename)\n",
    "            if ef_m:\n",
    "                file_path = curr_path + '/CSV/' + filename\n",
    "                e_df = pd.read_csv(file_path)\n",
    "                e_df['subject'] = subject\n",
    "                e_dfs.append(e_df)\n",
    "                \n",
    "enc_data = pd.concat(e_dfs)\n",
    "enc_data.RT = enc_data.RT.map(lambda x : np.nan if x < 0 else x) # Set RT to np.nan if negative (e.g., SM045, SM046)"
   ]
  },
  {
   "cell_type": "code",
   "execution_count": 7,
   "metadata": {
    "collapsed": false
   },
   "outputs": [
    {
     "name": "stderr",
     "output_type": "stream",
     "text": [
      "SelfRep.py:143: SettingWithCopyWarning: \n",
      "A value is trying to be set on a copy of a slice from a DataFrame.\n",
      "Try using .loc[row_indexer,col_indexer] = value instead\n",
      "\n",
      "See the the caveats in the documentation: http://pandas.pydata.org/pandas-docs/stable/indexing.html#indexing-view-versus-copy\n",
      "SelfRep.py:148: SettingWithCopyWarning: \n",
      "A value is trying to be set on a copy of a slice from a DataFrame.\n",
      "Try using .loc[row_indexer,col_indexer] = value instead\n",
      "\n",
      "See the the caveats in the documentation: http://pandas.pydata.org/pandas-docs/stable/indexing.html#indexing-view-versus-copy\n",
      "SelfRep.py:153: SettingWithCopyWarning: \n",
      "A value is trying to be set on a copy of a slice from a DataFrame.\n",
      "Try using .loc[row_indexer,col_indexer] = value instead\n",
      "\n",
      "See the the caveats in the documentation: http://pandas.pydata.org/pandas-docs/stable/indexing.html#indexing-view-versus-copy\n",
      "SelfRep.py:160: SettingWithCopyWarning: \n",
      "A value is trying to be set on a copy of a slice from a DataFrame.\n",
      "Try using .loc[row_indexer,col_indexer] = value instead\n",
      "\n",
      "See the the caveats in the documentation: http://pandas.pydata.org/pandas-docs/stable/indexing.html#indexing-view-versus-copy\n",
      "SelfRep.py:163: SettingWithCopyWarning: \n",
      "A value is trying to be set on a copy of a slice from a DataFrame.\n",
      "Try using .loc[row_indexer,col_indexer] = value instead\n",
      "\n",
      "See the the caveats in the documentation: http://pandas.pydata.org/pandas-docs/stable/indexing.html#indexing-view-versus-copy\n"
     ]
    }
   ],
   "source": [
    "# Assemble self-report and demographics\n",
    "demo = SelfRep.demo_proc(path2data + 'SOURCE_SelfReport_Data.xlsx')\n",
    "bdi = SelfRep.bdi_proc(path2data + 'SOURCE_SelfReport_Data.xlsx')\n",
    "masq = SelfRep.masq_proc(path2data + 'SOURCE_SelfReport_Data.xlsx')\n",
    "rsq = SelfRep.rsq_proc(path2data + 'SOURCE_SelfReport_Data.xlsx')\n",
    "psqi = SelfRep.psqi_proc(path2data + 'SOURCE_SelfReport_Data.xlsx')\n",
    "wtar = SelfRep.wtar_proc(path2data + 'SOURCE_SelfReport_Data.xlsx')\n",
    "\n",
    "sr = pd.merge(left=demo,right=bdi,left_on='subject',right_on='subject')\n",
    "sr = pd.merge(left=sr,right=masq,left_on='subject',right_on='subject')\n",
    "sr = pd.merge(left=sr,right=rsq,left_on='subject',right_on='subject')\n",
    "sr = pd.merge(left=sr,right=psqi,left_on='subject',right_on='subject')\n",
    "sr = pd.merge(left=sr,right=wtar,left_on='subject',right_on='subject')"
   ]
  },
  {
   "cell_type": "code",
   "execution_count": 8,
   "metadata": {
    "collapsed": false
   },
   "outputs": [],
   "source": [
    "# Merge the encoding and self-report data, then drop subjects based on the MINI\n",
    "all_subs = pd.merge(enc_data,sr,on='subject')\n",
    "del all_subs['Notes']\n",
    "all_subs.Group = all_subs.Group.astype(int)\n",
    "all_subs.Gender = all_subs.Gender.astype(str)\n",
    "all_subs.Race = all_subs.Race.astype(str)\n",
    "all_subs['Highest Degree'] = all_subs['Highest Degree'].astype(str)\n",
    "all_subs.Occupation = all_subs.Occupation.astype(str)\n",
    "all_subs.Income = all_subs.Income.astype(str)\n",
    "all_subs.Inclusion = all_subs.Inclusion.astype(int)\n",
    "enc = all_subs[all_subs.Inclusion == 1]"
   ]
  },
  {
   "cell_type": "code",
   "execution_count": 9,
   "metadata": {
    "collapsed": false
   },
   "outputs": [
    {
     "data": {
      "text/plain": [
       "Group\n",
       "0    34\n",
       "1    26\n",
       "Name: subject, dtype: int64"
      ]
     },
     "execution_count": 9,
     "metadata": {},
     "output_type": "execute_result"
    }
   ],
   "source": [
    "# Number of usable subjects per group (not taking ERP data quality into account)\n",
    "enc.groupby('Group')['subject'].nunique()"
   ]
  },
  {
   "cell_type": "code",
   "execution_count": 10,
   "metadata": {
    "collapsed": true
   },
   "outputs": [],
   "source": [
    "# List of participants with usable ERPs\n",
    "erpSubs_all = ['SM011', 'SM013', 'SM014', 'SM017', 'SM018', 'SM019', 'SM021', 'SM022', \n",
    "               'SM023', 'SM024', 'SM028', 'SM032', 'SM040', 'SM041', 'SM042', 'SM043', \n",
    "               'SM044', 'SM045', 'SM056', 'SM058', 'SM070', 'SM072', 'SM036', 'SM035', \n",
    "               'SM015', 'SM026', 'SM031', 'SM037', 'SM038', 'SM039', 'SM046', 'SM047', \n",
    "               'SM048', 'SM049', 'SM050', 'SM051', 'SM055', 'SM059', 'SM060', 'SM062', \n",
    "               'SM063', 'SM064', 'SM066', 'SM067', 'SM069', 'SM071', 'SM073', 'SM074']"
   ]
  },
  {
   "cell_type": "code",
   "execution_count": 11,
   "metadata": {
    "collapsed": false
   },
   "outputs": [
    {
     "name": "stderr",
     "output_type": "stream",
     "text": [
      "/Users/ebarrick/anaconda/lib/python2.7/site-packages/ipykernel/__main__.py:16: SettingWithCopyWarning: \n",
      "A value is trying to be set on a copy of a slice from a DataFrame.\n",
      "Try using .loc[row_indexer,col_indexer] = value instead\n",
      "\n",
      "See the the caveats in the documentation: http://pandas.pydata.org/pandas-docs/stable/indexing.html#indexing-view-versus-copy\n",
      "/Users/ebarrick/anaconda/lib/python2.7/site-packages/pandas/core/generic.py:2177: SettingWithCopyWarning: \n",
      "A value is trying to be set on a copy of a slice from a DataFrame.\n",
      "Try using .loc[row_indexer,col_indexer] = value instead\n",
      "\n",
      "See the the caveats in the documentation: http://pandas.pydata.org/pandas-docs/stable/indexing.html#indexing-view-versus-copy\n",
      "  self[name] = value\n",
      "/Users/ebarrick/anaconda/lib/python2.7/site-packages/pandas/core/frame.py:2524: SettingWithCopyWarning: \n",
      "A value is trying to be set on a copy of a slice from a DataFrame\n",
      "\n",
      "See the the caveats in the documentation: http://pandas.pydata.org/pandas-docs/stable/indexing.html#indexing-view-versus-copy\n",
      "  **kwargs)\n",
      "/Users/ebarrick/anaconda/lib/python2.7/site-packages/ipykernel/__main__.py:20: SettingWithCopyWarning: \n",
      "A value is trying to be set on a copy of a slice from a DataFrame.\n",
      "Try using .loc[row_indexer,col_indexer] = value instead\n",
      "\n",
      "See the the caveats in the documentation: http://pandas.pydata.org/pandas-docs/stable/indexing.html#indexing-view-versus-copy\n"
     ]
    }
   ],
   "source": [
    "# Track encoding accuracy and add to df\n",
    "d = {}\n",
    "d[1] = {'vitality': 'living', 'mobility': 'immobile'}\n",
    "d[2] = {'vitality': 'non-living', 'mobility': 'immobile'}\n",
    "d[3] = {'vitality': 'living', 'mobility': 'mobile'}\n",
    "d[4] = {'vitality': 'non-living', 'mobility': 'mobile'}\n",
    "\n",
    "accuracy = []\n",
    "for i, row_i in enc.iterrows():\n",
    "    if row_i.response == 'no_response':\n",
    "        accuracy.append(999)\n",
    "    elif row_i.response in d[row_i.type].values():\n",
    "        accuracy.append(1)\n",
    "    else:\n",
    "        accuracy.append(0)\n",
    "enc['accuracy'] = accuracy\n",
    "enc.task = enc.task.replace(to_replace={'living_non-living':'animacy','mobile_immobile':'mobility'})\n",
    "enc.Group = enc.Group.replace(to_replace={0:'control',1:'MDD'})\n",
    "enc.rename(columns={'Group':'group'},inplace=True)\n",
    "enc['RT (ms)'] = 1000*enc.RT"
   ]
  },
  {
   "cell_type": "code",
   "execution_count": 12,
   "metadata": {
    "collapsed": false
   },
   "outputs": [],
   "source": [
    "enc_clean = enc[~(enc.accuracy == 999)] # Was having difficulty dropping NaNs for accuracy . . . "
   ]
  },
  {
   "cell_type": "code",
   "execution_count": 13,
   "metadata": {
    "collapsed": false
   },
   "outputs": [
    {
     "data": {
      "text/plain": [
       "group\n",
       "MDD        24\n",
       "control    24\n",
       "Name: subject, dtype: int64"
      ]
     },
     "execution_count": 13,
     "metadata": {},
     "output_type": "execute_result"
    }
   ],
   "source": [
    "# Okay, since we're very much focused on the ERP group, I'm running with data analysis on the ERP subs.\n",
    "# Maybe when I'm done I will confirm with the larger group (but since their ERPs are bad their behavior may be bad)\n",
    "erp_enc = enc_clean[enc_clean.subject.isin(erpSubs_all)]\n",
    "erp_enc.groupby('group')['subject'].nunique()"
   ]
  },
  {
   "cell_type": "code",
   "execution_count": 14,
   "metadata": {
    "collapsed": false
   },
   "outputs": [
    {
     "data": {
      "image/png": "[encoded data removed]",
      "text/plain": [
       "<matplotlib.figure.Figure at 0x1106df8d0>"
      ]
     },
     "metadata": {},
     "output_type": "display_data"
    }
   ],
   "source": [
    "sns.factorplot(y='accuracy',x='task',hue='group',col='side',units='subject',ci=68,kind='bar',data=erp_enc)\n",
    "sns.plt.savefig(path2figs + 'Enc_acc.pdf')"
   ]
  },
  {
   "cell_type": "code",
   "execution_count": 15,
   "metadata": {
    "collapsed": false
   },
   "outputs": [
    {
     "data": {
      "text/plain": [
       "<seaborn.axisgrid.FacetGrid at 0x11f8db7d0>"
      ]
     },
     "execution_count": 15,
     "metadata": {},
     "output_type": "execute_result"
    },
    {
     "data": {
      "image/png": "[encoded data removed]",
      "text/plain": [
       "<matplotlib.figure.Figure at 0x11f8db510>"
      ]
     },
     "metadata": {},
     "output_type": "display_data"
    }
   ],
   "source": [
    "# RT\n",
    "sns.factorplot(y='RT (ms)',x='task',hue='group',col='side',units='subject',ci=68,kind='bar',data=erp_enc)"
   ]
  },
  {
   "cell_type": "code",
   "execution_count": 16,
   "metadata": {
    "collapsed": false
   },
   "outputs": [
    {
     "data": {
      "image/png": "[encoded data removed]",
      "text/plain": [
       "<matplotlib.figure.Figure at 0x11f8db690>"
      ]
     },
     "metadata": {},
     "output_type": "display_data"
    }
   ],
   "source": [
    "# Accuracy is so high that limiting RT to correct responses probably won't make much difference, but let's check.\n",
    "# Nope, not much different . . . \n",
    "sns.factorplot(y='RT (ms)',x='task',hue='group',col='side',units='subject',ci=68,kind='bar',\n",
    "               data=erp_enc[erp_enc.accuracy == 1])\n",
    "sns.plt.savefig(path2figs + 'Enc_corr_RT.pdf')"
   ]
  },
  {
   "cell_type": "code",
   "execution_count": 17,
   "metadata": {
    "collapsed": false
   },
   "outputs": [
    {
     "name": "stderr",
     "output_type": "stream",
     "text": [
      "/Users/ebarrick/anaconda/lib/python2.7/site-packages/rpy2/robjects/functions.py:106: UserWarning: Warning:\n",
      "  res = super(Function, self).__call__(*new_args, **new_kwargs)\n",
      "/Users/ebarrick/anaconda/lib/python2.7/site-packages/rpy2/robjects/functions.py:106: UserWarning:  Collapsing data to cell means. *IF* the requested effects are a subset of the full design, you must use the \"within_full\" argument, else results may be inaccurate.\n",
      "\n",
      "  res = super(Function, self).__call__(*new_args, **new_kwargs)\n"
     ]
    },
    {
     "data": {
      "text/plain": [
       "$ANOVA\n",
       "           Effect DFn DFd            F            p p<.05          ges\n",
       "2           group   1  46 5.286410e-02 0.8191717990       5.607941e-04\n",
       "3            task   1  46 1.269532e+01 0.0008668515     * 7.131818e-02\n",
       "5            side   1  46 3.669157e+00 0.0616566688       8.083771e-03\n",
       "4      group:task   1  46 4.689247e-02 0.8295191334       2.835761e-04\n",
       "6      group:side   1  46 1.190111e-04 0.9913430522       2.643382e-07\n",
       "7       task:side   1  46 3.260768e+00 0.0775019841       9.222821e-03\n",
       "8 group:task:side   1  46 1.841210e-01 0.6698583594       5.253432e-04\n",
       "\n"
      ]
     },
     "metadata": {},
     "output_type": "display_data"
    }
   ],
   "source": [
    "# ANOVA on encoding accuracy; only effect is Task\n",
    "\n",
    "%Rpush erp_enc\n",
    "# %R str(erp_enc)\n",
    "\n",
    "%R enc_acc.aov <- ezANOVA(dv=accuracy, wid=subject, within=.(task,side), between=group, data=erp_enc)\n",
    "%R print(enc_acc.aov)"
   ]
  },
  {
   "cell_type": "code",
   "execution_count": 18,
   "metadata": {
    "collapsed": false
   },
   "outputs": [
    {
     "name": "stdout",
     "output_type": "stream",
     "text": [
      "task\n",
      "animacy     95.872667\n",
      "mobility    92.357490\n",
      "Name: accuracy, dtype: float64\n",
      "task\n",
      "animacy     4.871214\n",
      "mobility    6.256944\n",
      "Name: accuracy, dtype: float64\n"
     ]
    }
   ],
   "source": [
    "# Give me the descriptives by task\n",
    "g = erp_enc.groupby(['subject','task'])['accuracy'].mean()\n",
    "df = g.to_frame()\n",
    "df.reset_index(inplace=True)\n",
    "df.head()\n",
    "print 100*(df.groupby('task')['accuracy'].mean())\n",
    "print 100*(df.groupby('task')['accuracy'].std())"
   ]
  },
  {
   "cell_type": "code",
   "execution_count": 19,
   "metadata": {
    "collapsed": false
   },
   "outputs": [
    {
     "name": "stdout",
     "output_type": "stream",
     "text": [
      "task\n",
      "animacy     0.958727\n",
      "mobility    0.923575\n",
      "Name: accuracy, dtype: float64\n",
      "task\n",
      "animacy     0.048712\n",
      "mobility    0.062569\n",
      "Name: accuracy, dtype: float64\n"
     ]
    },
    {
     "data": {
      "text/plain": [
       "'data.frame':\t96 obs. of  3 variables:\n",
       " $ subject : Factor w/ 48 levels \"SM011\",\"SM013\",..: 1 1 2 2 3 3 4 4 5 5 ...\n",
       " $ task    : Factor w/ 2 levels \"animacy\",\"mobility\": 1 2 1 2 1 2 1 2 1 2 ...\n",
       " $ accuracy: num  0.872 0.896 0.936 0.841 0.979 ...\n"
      ]
     },
     "metadata": {},
     "output_type": "display_data"
    },
    {
     "name": "stdout",
     "output_type": "stream",
     "text": [
      "\n",
      "Error in withVisible({ : could not find function \"cohen.d\"\n",
      "\n",
      "Error in print(enc_acc.es) : object 'enc_acc.es' not found\n"
     ]
    },
    {
     "name": "stderr",
     "output_type": "stream",
     "text": [
      "/Users/ebarrick/anaconda/lib/python2.7/site-packages/rpy2/robjects/functions.py:106: UserWarning: Error in withVisible({ : could not find function \"cohen.d\"\n",
      "\n",
      "  res = super(Function, self).__call__(*new_args, **new_kwargs)\n",
      "/Users/ebarrick/anaconda/lib/python2.7/site-packages/rpy2/robjects/functions.py:106: UserWarning: Error in print(enc_acc.es) : object 'enc_acc.es' not found\n",
      "\n",
      "  res = super(Function, self).__call__(*new_args, **new_kwargs)\n"
     ]
    }
   ],
   "source": [
    "# To compute effect size with Cohen's d using R, need to aggregate w/in subs first\n",
    "g = erp_enc.groupby(['subject','task'])['accuracy'].mean()\n",
    "df = g.to_frame()\n",
    "df.reset_index(inplace=True)\n",
    "print df.groupby('task')['accuracy'].mean()\n",
    "print df.groupby('task')['accuracy'].std()\n",
    "# sp.stats.pearsonr(df[df.task == 'mobile_immobile']['accuracy'],df[df.task == 'living_non-living']['accuracy'])\n",
    "df.head()\n",
    "\n",
    "%Rpush df\n",
    "%R str(df)\n",
    "%R enc_acc.es <- cohen.d(accuracy ~ task, data=df, paired=TRUE)\n",
    "%R print(enc_acc.es)"
   ]
  },
  {
   "cell_type": "code",
   "execution_count": 20,
   "metadata": {
    "collapsed": false
   },
   "outputs": [
    {
     "data": {
      "text/plain": [
       "$ANOVA\n",
       "           Effect DFn DFd            F            p p<.05          ges\n",
       "2           group   1  44  1.428687345 2.383815e-01       2.842469e-02\n",
       "3            task   1  44 54.340126090 3.274053e-09     * 5.484625e-02\n",
       "5            side   1  44  2.487041351 1.219508e-01       1.432249e-03\n",
       "4      group:task   1  44  0.306525403 5.826229e-01       3.272263e-04\n",
       "6      group:side   1  44  0.006295257 9.371198e-01       3.630528e-06\n",
       "7       task:side   1  44  2.911975463 9.497383e-02       1.758468e-03\n",
       "8 group:task:side   1  44  6.401324593 1.505800e-02     * 3.857468e-03\n",
       "\n"
      ]
     },
     "metadata": {},
     "output_type": "display_data"
    }
   ],
   "source": [
    "# ANOVA on encoding RT (correct trials only, as in IGD & AW, 2005). This gives an effect of Task and a \n",
    "# Group x Task x Side interaction.\n",
    "\n",
    "erp_enc_corr = erp_enc[erp_enc.accuracy == 1]\n",
    "erp_enc_corr = erp_enc_corr[~((erp_enc_corr.subject == 'SM045') | (erp_enc_corr.subject == 'SM046'))]\n",
    "\n",
    "%Rpush erp_enc_corr\n",
    "\n",
    "%R enc_rt.aov <- ezANOVA(dv=RT, wid=subject, within=.(task,side), between=group,\\\n",
    "                         data=erp_enc_corr)\n",
    "%R print(enc_rt.aov)"
   ]
  },
  {
   "cell_type": "code",
   "execution_count": 21,
   "metadata": {
    "collapsed": false
   },
   "outputs": [
    {
     "name": "stdout",
     "output_type": "stream",
     "text": [
      "task\n",
      "animacy     1669.104595\n",
      "mobility    1808.675773\n",
      "Name: RT, dtype: float64\n",
      "task\n",
      "animacy     289.831544\n",
      "mobility    290.846999\n",
      "Name: RT, dtype: float64\n"
     ]
    },
    {
     "data": {
      "text/plain": [
       "'data.frame':\t92 obs. of  3 variables:\n",
       " $ subject: Factor w/ 46 levels \"SM011\",\"SM013\",..: 1 1 2 2 3 3 4 4 5 5 ...\n",
       " $ task   : Factor w/ 2 levels \"animacy\",\"mobility\": 1 2 1 2 1 2 1 2 1 2 ...\n",
       " $ RT     : num  1.39 1.59 1.76 2.09 1.78 ...\n"
      ]
     },
     "metadata": {},
     "output_type": "display_data"
    },
    {
     "name": "stdout",
     "output_type": "stream",
     "text": [
      "\n",
      "Error in withVisible({ : could not find function \"cohen.d\"\n",
      "\n",
      "Error in print(enc_rt.es) : object 'enc_rt.es' not found\n"
     ]
    },
    {
     "name": "stderr",
     "output_type": "stream",
     "text": [
      "/Users/ebarrick/anaconda/lib/python2.7/site-packages/rpy2/robjects/functions.py:106: UserWarning: Error in print(enc_rt.es) : object 'enc_rt.es' not found\n",
      "\n",
      "  res = super(Function, self).__call__(*new_args, **new_kwargs)\n"
     ]
    }
   ],
   "source": [
    "# Compute effect size for RT, again aggregating w/in subs first\n",
    "g = erp_enc_corr.groupby(['subject','task'])['RT'].mean()\n",
    "df = g.to_frame()\n",
    "df.reset_index(inplace=True)\n",
    "print 1000*(df.groupby('task')['RT'].mean())\n",
    "print 1000*(df.groupby('task')['RT'].std())\n",
    "df.head()\n",
    "\n",
    "%Rpush df\n",
    "%R str(df)\n",
    "%R enc_rt.es <- cohen.d(RT ~ task, data=df, paired=T)\n",
    "%R print(enc_rt.es)"
   ]
  },
  {
   "cell_type": "code",
   "execution_count": 22,
   "metadata": {
    "collapsed": false
   },
   "outputs": [
    {
     "data": {
      "text/plain": [
       "<seaborn.axisgrid.FacetGrid at 0x120a54410>"
      ]
     },
     "execution_count": 22,
     "metadata": {},
     "output_type": "execute_result"
    },
    {
     "data": {
      "image/png": "[encoded data removed]",
      "text/plain": [
       "<matplotlib.figure.Figure at 0x120a54b10>"
      ]
     },
     "metadata": {},
     "output_type": "display_data"
    }
   ],
   "source": [
    "# Interaction seems to reflect a bigger difference in RT by task for MDDs vs. controls on left side vs. right,\n",
    "# but the GxT is not significant under either side considered separately, see below.\n",
    "\n",
    "sns.factorplot(y='RT (ms)',x='task',hue='group',col='side',units='subject',ci=68,kind='bar',data=erp_enc_corr)"
   ]
  },
  {
   "cell_type": "code",
   "execution_count": 23,
   "metadata": {
    "collapsed": false
   },
   "outputs": [
    {
     "data": {
      "text/plain": [
       "$ANOVA\n",
       "      Effect DFn DFd         F            p p<.05         ges\n",
       "2      group   1  44  1.566831 2.172816e-01       0.031585039\n",
       "3       task   1  44 22.574689 2.182309e-05     * 0.041361303\n",
       "4 group:task   1  44  3.680605 6.155159e-02       0.006985417\n",
       "\n"
      ]
     },
     "metadata": {},
     "output_type": "display_data"
    }
   ],
   "source": [
    "# Okay, so let's look for Group x Task at each level of Side. Left first; no Group x Task here.\n",
    "\n",
    "left = erp_enc_corr[erp_enc_corr.side == 'left']\n",
    "\n",
    "%Rpush left\n",
    "\n",
    "%R left_rt.aov <- ezANOVA(dv=RT, wid=subject, within=task, between=group, data=left)\n",
    "%R print(left_rt.aov)"
   ]
  },
  {
   "cell_type": "code",
   "execution_count": 24,
   "metadata": {
    "collapsed": false
   },
   "outputs": [
    {
     "data": {
      "text/plain": [
       "$ANOVA\n",
       "      Effect DFn DFd         F            p p<.05         ges\n",
       "2      group   1  44  1.242841 2.709765e-01       0.025738341\n",
       "3       task   1  44 50.232695 8.510457e-09     * 0.068803320\n",
       "4 group:task   1  44  1.222999 2.747830e-01       0.001795673\n",
       "\n"
      ]
     },
     "metadata": {},
     "output_type": "display_data"
    }
   ],
   "source": [
    "# Now right . . . no significant Group x Task here either.\n",
    "\n",
    "right = erp_enc_corr[erp_enc_corr.side == 'right']\n",
    "\n",
    "%Rpush right\n",
    "\n",
    "%R right_rt.aov <- ezANOVA(dv=RT, wid=subject, within=task, between=group, data=right)\n",
    "%R print(right_rt.aov)"
   ]
  },
  {
   "cell_type": "markdown",
   "metadata": {},
   "source": [
    "**Summary:** at encoding, everyone is slower and less accurate for mobility vs. animacy judgments. There are no reliable group differences, but if anything, the MDD group is a little quicker."
   ]
  },
  {
   "cell_type": "markdown",
   "metadata": {},
   "source": [
    "## Retrieval"
   ]
  },
  {
   "cell_type": "code",
   "execution_count": 25,
   "metadata": {
    "collapsed": true
   },
   "outputs": [],
   "source": [
    "# Response options:\n",
    "# 'Question': 1 = sure living/non-living, 2 = prob living/non-living, 4 = prob mobile/immobile, 5 = sure mob/immob\n",
    "# 'Side': 1 = sure left, 2 = prob left, 4 = prob right, 5 = sure right\n",
    "# 'Odd_even': 1 = sure odd, 2 = prob odd, 4 = prob even, 5 = sure even\n",
    "# 3 = guess for all prompts\n",
    "\n",
    "# Conditions:\n",
    "# 1 = left/living_non-living\n",
    "# 2 = right/living_non-living\n",
    "# 3 = left/mobile_immobile\n",
    "# 4 = right/mobile_immobile\n",
    "\n",
    "def CompAcc(trialtype):\n",
    "    \n",
    "    prompt, condition, response = trialtype\n",
    "    \n",
    "    CondDict = {1 : 'left/living_non-living', 2 : 'right/living_non-living',\n",
    "                3 : 'left/mobile_immobile', 4 : 'right/mobile_immobile',\n",
    "                5 : 'odd', 6 : 'even'}\n",
    "    \n",
    "    RespDicts = {'Question' : {1 : 'living_non-living', 2 : 'living_non-living', 3 : 'guess',\n",
    "                                4 : 'mobile_immobile', 5 : 'mobile_immobile', 999 : 'no_response'},\n",
    "                'Side' : {1 : 'left', 2 : 'left', 3 : 'guess', 4 : 'right', 5 : 'right', 999 : 'no_response'},\n",
    "                'Odd_even' : {1 : 'odd', 2 : 'odd', 3 : 'guess', 4 : 'even', 5 : 'even', 999 : 'no_response'}}\n",
    "    \n",
    "    if response == 1 or response == 5:\n",
    "        Confidence = 'high'\n",
    "    elif response == 2 or response == 4:\n",
    "        Confidence = 'low'\n",
    "    elif response == 3 or response == 999:\n",
    "        Accuracy = np.nan\n",
    "        Confidence = np.nan \n",
    "        \n",
    "    CurrCond = CondDict[condition]\n",
    "    CurrResp = RespDicts[prompt][response]\n",
    "    \n",
    "    if '/' in CurrCond:\n",
    "        ActualSide = CurrCond.split('/')[0]\n",
    "        ActualTask = CurrCond.split('/')[1]\n",
    "    \n",
    "    else:\n",
    "        Parity = CurrCond\n",
    "          \n",
    "    if CurrResp != 'guess' and CurrResp != 'no_response':\n",
    "        if prompt == 'Odd_even':\n",
    "            if Parity == CurrResp:\n",
    "                Accuracy = 1\n",
    "            elif Parity != CurrResp:\n",
    "                Accuracy = 0\n",
    "    \n",
    "        elif prompt == 'Question' and ActualTask == CurrResp:\n",
    "            Accuracy = 1\n",
    "\n",
    "        elif prompt == 'Question' and ActualTask != CurrResp:\n",
    "            Accuracy = 0\n",
    "\n",
    "        elif prompt == 'Side' and ActualSide == CurrResp:\n",
    "            Accuracy = 1\n",
    "\n",
    "        elif prompt == 'Side' and ActualSide != CurrResp:\n",
    "            Accuracy = 0\n",
    "\n",
    "    return (Accuracy,Confidence)"
   ]
  },
  {
   "cell_type": "code",
   "execution_count": 26,
   "metadata": {
    "collapsed": false
   },
   "outputs": [
    {
     "name": "stdout",
     "output_type": "stream",
     "text": [
      "/Users/ebarrick/Work/Expts/SOURCE/Data\n",
      "Number of retrieval trials that are not (0) outliers vs. are (1) outliers:\n",
      "0    16711\n",
      "1      281\n",
      "dtype: int64\n",
      "Number of retrieval trials with no response: 10\n"
     ]
    },
    {
     "name": "stderr",
     "output_type": "stream",
     "text": [
      "/Users/ebarrick/anaconda/lib/python2.7/site-packages/ipykernel/__main__.py:37: SettingWithCopyWarning: \n",
      "A value is trying to be set on a copy of a slice from a DataFrame.\n",
      "Try using .loc[row_indexer,col_indexer] = value instead\n",
      "\n",
      "See the the caveats in the documentation: http://pandas.pydata.org/pandas-docs/stable/indexing.html#indexing-view-versus-copy\n"
     ]
    }
   ],
   "source": [
    "# Assemble the retrieval dataframe.\n",
    "%cd {path2data}\n",
    "subjects = !ls -d SM0*\n",
    "\n",
    "r_dfs = []\n",
    "rf_d = re.compile('Source_ret')\n",
    "\n",
    "for subject in subjects:\n",
    "    curr_path = path2data + subject\n",
    "    for root, dirs, files in os.walk(curr_path):\n",
    "        for filename in files:\n",
    "            rf_m = rf_d.search(filename)\n",
    "            if rf_m:\n",
    "                file_path = curr_path + '/CSV/' + filename\n",
    "                r_df = pd.read_csv(file_path)\n",
    "                r_df['subject'] = subject\n",
    "                r_dfs.append(r_df)\n",
    "                \n",
    "ret_data = pd.concat(r_dfs)\n",
    "ret_data.RT = ret_data.RT.map(lambda x: np.nan if x <0 else x) # 45 and 46 are still in, but dropna will remove them\n",
    "\n",
    "# Code accuracy\n",
    "ret_data['accuracy'], ret_data['confidence'] = zip(*ret_data[['prompt','condition','response']].apply(CompAcc, axis=1))\n",
    "\n",
    "# Mark outliers, mean +/- 3SDs\n",
    "dfs = []\n",
    "for sub in ret_data.subject.unique():\n",
    "    outlier = []\n",
    "    df = ret_data[ret_data.subject == sub]\n",
    "    for i, row_i in df.iterrows():\n",
    "        if np.isnan(row_i.RT):\n",
    "            outlier.append(np.nan)\n",
    "        elif abs(row_i.RT-df.RT.mean()) <= df.RT.std()*3:\n",
    "            outlier.append(0)\n",
    "        else:\n",
    "            outlier.append(1)\n",
    "    df['outlier'] = outlier\n",
    "    dfs.append(df)\n",
    "ret = pd.concat(dfs)\n",
    "\n",
    "print \"Number of retrieval trials that are not (0) outliers vs. are (1) outliers:\"\n",
    "print ret.outlier.value_counts()\n",
    "\n",
    "# Count number of trials with no response, drop them, and drop outliers.\n",
    "print \"Number of retrieval trials with no response: \" + str(len(ret[ret.RT == 999])) \n",
    "ret_clean = ret[~((ret.RT == 999) | (ret.outlier == 1))]\n",
    "\n",
    "ret_clean.to_csv(path2analysis + 'ret_clean.csv',index=False)"
   ]
  },
  {
   "cell_type": "code",
   "execution_count": 27,
   "metadata": {
    "collapsed": false
   },
   "outputs": [],
   "source": [
    "# Merge the retrieval and self-report data\n",
    "ret = pd.merge(ret_clean,sr,on='subject')\n",
    "ret = ret[~(ret.Inclusion == 0)] # Drop subjects who should be excluded based on MINI\n",
    "\n",
    "# Fix dtype issues\n",
    "del ret['Notes']\n",
    "ret.Group = ret.Group.astype(int)\n",
    "ret.Gender = ret.Gender.astype(str)\n",
    "ret.Race = ret.Race.astype(str)\n",
    "ret['Highest Degree'] = ret['Highest Degree'].astype(str)\n",
    "ret.Occupation = ret.Occupation.astype(str)\n",
    "ret.Income = ret.Income.astype(str)\n",
    "ret.Inclusion = ret.Inclusion.astype(int)\n",
    "ret.confidence = ret.confidence.astype(str)\n",
    "\n",
    "# Rename a couple things\n",
    "ret.rename(columns={'Group':'group','Gender':'gender','prompt':'cue'},inplace=True)\n",
    "\n",
    "# Add guesses\n",
    "ret['guess'] = ret.response.map(lambda x: 1 if x == 3 else 0)\n",
    "\n",
    "# Go with group names rather than numbers\n",
    "ret.group = ret.group.replace(to_replace={0:'control',1:'MDD'})\n",
    "\n",
    "# And grab just those subjects with clean ERP data\n",
    "erp_ret = ret[ret.subject.isin(erpSubs_all)]"
   ]
  },
  {
   "cell_type": "code",
   "execution_count": 28,
   "metadata": {
    "collapsed": false
   },
   "outputs": [
    {
     "name": "stderr",
     "output_type": "stream",
     "text": [
      "/Users/ebarrick/anaconda/lib/python2.7/site-packages/ipykernel/__main__.py:23: SettingWithCopyWarning: \n",
      "A value is trying to be set on a copy of a slice from a DataFrame.\n",
      "Try using .loc[row_indexer,col_indexer] = value instead\n",
      "\n",
      "See the the caveats in the documentation: http://pandas.pydata.org/pandas-docs/stable/indexing.html#indexing-view-versus-copy\n"
     ]
    }
   ],
   "source": [
    "# We need to know which words were encoded on the left vs. right and with what question. \n",
    "# This information is contained in \"condition\" but let's make columns with more obvious names.\n",
    "\n",
    "def EncodingCondition(value):\n",
    "\n",
    "    CondDict = {1 : 'left/living_non-living', 2 : 'right/living_non-living',\n",
    "                3 : 'left/mobile_immobile', 4 : 'right/mobile_immobile'}\n",
    "    \n",
    "    if value == 5 or value == 6: # These are odd/even trials\n",
    "        side = 'none'\n",
    "        question = 'none'\n",
    "    else:\n",
    "        condition = CondDict[value]\n",
    "        side = condition.split('/')[0]\n",
    "        question = condition.split('/')[1]\n",
    "        if question == 'living_non-living':\n",
    "            question = 'animacy'\n",
    "        elif question == 'mobile_immobile':\n",
    "            question = 'mobility'\n",
    "    \n",
    "    return (side, question)\n",
    "\n",
    "erp_ret['encoding_location'],erp_ret['encoding_task'] = zip(*erp_ret.condition.map(EncodingCondition))"
   ]
  },
  {
   "cell_type": "code",
   "execution_count": 29,
   "metadata": {
    "collapsed": false
   },
   "outputs": [
    {
     "data": {
      "text/plain": [
       "group\n",
       "MDD        24\n",
       "control    24\n",
       "Name: subject, dtype: int64"
      ]
     },
     "execution_count": 29,
     "metadata": {},
     "output_type": "execute_result"
    }
   ],
   "source": [
    "erp_ret.groupby('group')['subject'].nunique()"
   ]
  },
  {
   "cell_type": "markdown",
   "metadata": {},
   "source": [
    "### Guesses "
   ]
  },
  {
   "cell_type": "markdown",
   "metadata": {},
   "source": [
    "IGD pointed to the guesses and wants to know if there are group differences there. Let's look at that again here. Guesses were response 3, which yielded accuracy = 999."
   ]
  },
  {
   "cell_type": "code",
   "execution_count": 30,
   "metadata": {
    "collapsed": false
   },
   "outputs": [
    {
     "data": {
      "text/html": [
       "<div>\n",
       "<table border=\"1\" class=\"dataframe\">\n",
       "  <thead>\n",
       "    <tr style=\"text-align: right;\">\n",
       "      <th></th>\n",
       "      <th>subject</th>\n",
       "      <th>group</th>\n",
       "      <th>cue</th>\n",
       "      <th>encoding_task</th>\n",
       "      <th>count</th>\n",
       "    </tr>\n",
       "  </thead>\n",
       "  <tbody>\n",
       "    <tr>\n",
       "      <th>0</th>\n",
       "      <td>SM011</td>\n",
       "      <td>control</td>\n",
       "      <td>Question</td>\n",
       "      <td>mobility</td>\n",
       "      <td>1</td>\n",
       "    </tr>\n",
       "    <tr>\n",
       "      <th>1</th>\n",
       "      <td>SM011</td>\n",
       "      <td>control</td>\n",
       "      <td>Side</td>\n",
       "      <td>mobility</td>\n",
       "      <td>1</td>\n",
       "    </tr>\n",
       "    <tr>\n",
       "      <th>2</th>\n",
       "      <td>SM013</td>\n",
       "      <td>control</td>\n",
       "      <td>Question</td>\n",
       "      <td>animacy</td>\n",
       "      <td>5</td>\n",
       "    </tr>\n",
       "    <tr>\n",
       "      <th>3</th>\n",
       "      <td>SM013</td>\n",
       "      <td>control</td>\n",
       "      <td>Question</td>\n",
       "      <td>mobility</td>\n",
       "      <td>2</td>\n",
       "    </tr>\n",
       "    <tr>\n",
       "      <th>4</th>\n",
       "      <td>SM013</td>\n",
       "      <td>control</td>\n",
       "      <td>Side</td>\n",
       "      <td>animacy</td>\n",
       "      <td>5</td>\n",
       "    </tr>\n",
       "  </tbody>\n",
       "</table>\n",
       "</div>"
      ],
      "text/plain": [
       "  subject    group       cue encoding_task  count\n",
       "0   SM011  control  Question      mobility      1\n",
       "1   SM011  control      Side      mobility      1\n",
       "2   SM013  control  Question       animacy      5\n",
       "3   SM013  control  Question      mobility      2\n",
       "4   SM013  control      Side       animacy      5"
      ]
     },
     "execution_count": 30,
     "metadata": {},
     "output_type": "execute_result"
    }
   ],
   "source": [
    "# First, let's see how many people there are with no guesses. We can do that by subtracting out the number of people\n",
    "# with guesses . . . \n",
    "guess = erp_ret[erp_ret.response == 3]\n",
    "g = guess.groupby(['subject','group','cue','encoding_task'])['response'].value_counts()\n",
    "df = g.to_frame()\n",
    "df.reset_index(inplace=True)\n",
    "cols = ['subject','group','cue','encoding_task','response','count']\n",
    "df.columns = cols\n",
    "df = df[['subject','group','cue','encoding_task','count']]\n",
    "df.head()"
   ]
  },
  {
   "cell_type": "code",
   "execution_count": 31,
   "metadata": {
    "collapsed": false
   },
   "outputs": [
    {
     "name": "stdout",
     "output_type": "stream",
     "text": [
      "['Question' 'Side']\n",
      "The number of Side guesses = 523\n",
      "The number of Question guesses = 358\n",
      "The number of Odd/Even guesses = 0\n"
     ]
    }
   ],
   "source": [
    "# Since this df is based on the erp_ret trials where the response was guess, the fact that there are no Odd/Even cues\n",
    "# implies that nobody ever guessed on Odd/Even trials. Here are two ways to confirm that . . . \n",
    "print df.cue.unique()\n",
    "\n",
    "s_guess = 0\n",
    "q_guess = 0\n",
    "n_guess = 0\n",
    "\n",
    "for i, row_i in erp_ret.iterrows():\n",
    "    if row_i.response == 3 and row_i.cue == 'Side':\n",
    "        s_guess = s_guess + 1\n",
    "    elif row_i.response == 3 and row_i.cue == 'Question':\n",
    "        q_guess = q_guess + 1\n",
    "    elif row_i.response == 3 and row_i.cue == 'Odd_even':\n",
    "        n_guess = n_guess + 1\n",
    "\n",
    "print 'The number of Side guesses = ' + str(s_guess)\n",
    "print 'The number of Question guesses = ' + str(q_guess)\n",
    "print 'The number of Odd/Even guesses = ' + str(n_guess)"
   ]
  },
  {
   "cell_type": "code",
   "execution_count": 32,
   "metadata": {
    "collapsed": false
   },
   "outputs": [
    {
     "data": {
      "text/plain": [
       "group\n",
       "MDD        22\n",
       "control    21\n",
       "Name: subject, dtype: int64"
      ]
     },
     "execution_count": 32,
     "metadata": {},
     "output_type": "execute_result"
    }
   ],
   "source": [
    "# Okay, since the df above only holds data for people who've guessed, let's use that to figure out who never guessed.\n",
    "# Since there are 24 people per group, this implies that 3 controls and 2 MDDs never guessed.\n",
    "df.groupby('group')['subject'].nunique()"
   ]
  },
  {
   "cell_type": "code",
   "execution_count": 33,
   "metadata": {
    "collapsed": false
   },
   "outputs": [
    {
     "name": "stdout",
     "output_type": "stream",
     "text": [
      "There are 10 controls and 5 depressed adults who did not guess in response to the Question or the Side cue, or both.\n"
     ]
    },
    {
     "data": {
      "text/plain": [
       "count    36.000000\n",
       "mean      3.500000\n",
       "std       3.459975\n",
       "min       1.000000\n",
       "25%       1.000000\n",
       "50%       2.000000\n",
       "75%       5.000000\n",
       "max      14.000000\n",
       "Name: count, dtype: float64"
      ]
     },
     "execution_count": 33,
     "metadata": {},
     "output_type": "execute_result"
    }
   ],
   "source": [
    "# For the ANOVA, we're going to need a df that includes only subjects who guessed at least once for each task and cue.\n",
    "# Also, get a count of subjects who did not guess in at least one of the four conditions defined by (Cue x Task). \n",
    "\n",
    "mdd_ct = 0\n",
    "hc_ct = 0\n",
    "no_guesses = []\n",
    "\n",
    "for sub in df.subject.unique():\n",
    "    num = int(df[df.subject == sub]['subject'].value_counts())\n",
    "    if num != 4: # There are 4 conditions (2 Cues x 2 Task) and we're looking for people who don't have all 4\n",
    "        sdf = df[df.subject == sub]\n",
    "        sdf.reset_index(inplace=True,drop=True)\n",
    "        group = sdf.group.ix[0]\n",
    "        if group == 'control':\n",
    "            hc_ct = hc_ct + 1\n",
    "        elif group == 'MDD':\n",
    "            mdd_ct = mdd_ct + 1\n",
    "        no_guesses.append(sub)\n",
    "print \"There are \" + str(hc_ct) + \" controls and \" + str(mdd_ct) + \" depressed adults who did not guess in response \\\n",
    "to the Question or the Side cue, or both.\"\n",
    "\n",
    "nog = df[df['subject'].isin(no_guesses)]\n",
    "nog['count'].describe() # Shows that the people who did not guess in at least one condition did not guess much overall."
   ]
  },
  {
   "cell_type": "markdown",
   "metadata": {},
   "source": [
    "Putting together the 3 controls who never guessed and the 10 controls who did not guess in at least 1 condition, we have 11 controls with guesses in all 4 conditions (Cue x Task). For the MDDs, there were 2 who never guessed and 5 who did not guess in at least 1 condition, which leaves 17 who guessed at least once in all 4 conditions. So we're going to be graphing and running ANOVAs on guess data from HC = 11 and MDD = 17."
   ]
  },
  {
   "cell_type": "code",
   "execution_count": 34,
   "metadata": {
    "collapsed": false
   },
   "outputs": [
    {
     "data": {
      "text/html": [
       "<div>\n",
       "<table border=\"1\" class=\"dataframe\">\n",
       "  <thead>\n",
       "    <tr style=\"text-align: right;\">\n",
       "      <th></th>\n",
       "      <th>subject</th>\n",
       "      <th>group</th>\n",
       "      <th>cue</th>\n",
       "      <th>encoding_task</th>\n",
       "      <th>count</th>\n",
       "    </tr>\n",
       "  </thead>\n",
       "  <tbody>\n",
       "    <tr>\n",
       "      <th>0</th>\n",
       "      <td>SM011</td>\n",
       "      <td>control</td>\n",
       "      <td>Question</td>\n",
       "      <td>mobility</td>\n",
       "      <td>1</td>\n",
       "    </tr>\n",
       "    <tr>\n",
       "      <th>1</th>\n",
       "      <td>SM011</td>\n",
       "      <td>control</td>\n",
       "      <td>Side</td>\n",
       "      <td>mobility</td>\n",
       "      <td>1</td>\n",
       "    </tr>\n",
       "    <tr>\n",
       "      <th>2</th>\n",
       "      <td>SM013</td>\n",
       "      <td>control</td>\n",
       "      <td>Question</td>\n",
       "      <td>animacy</td>\n",
       "      <td>5</td>\n",
       "    </tr>\n",
       "    <tr>\n",
       "      <th>3</th>\n",
       "      <td>SM013</td>\n",
       "      <td>control</td>\n",
       "      <td>Question</td>\n",
       "      <td>mobility</td>\n",
       "      <td>2</td>\n",
       "    </tr>\n",
       "    <tr>\n",
       "      <th>4</th>\n",
       "      <td>SM013</td>\n",
       "      <td>control</td>\n",
       "      <td>Side</td>\n",
       "      <td>animacy</td>\n",
       "      <td>5</td>\n",
       "    </tr>\n",
       "  </tbody>\n",
       "</table>\n",
       "</div>"
      ],
      "text/plain": [
       "  subject    group       cue encoding_task  count\n",
       "0   SM011  control  Question      mobility      1\n",
       "1   SM011  control      Side      mobility      1\n",
       "2   SM013  control  Question       animacy      5\n",
       "3   SM013  control  Question      mobility      2\n",
       "4   SM013  control      Side       animacy      5"
      ]
     },
     "execution_count": 34,
     "metadata": {},
     "output_type": "execute_result"
    }
   ],
   "source": [
    "df.head()"
   ]
  },
  {
   "cell_type": "code",
   "execution_count": 35,
   "metadata": {
    "collapsed": false
   },
   "outputs": [
    {
     "data": {
      "image/png": "[encoded data removed]",
      "text/plain": [
       "<matplotlib.figure.Figure at 0x120fa2090>"
      ]
     },
     "metadata": {},
     "output_type": "display_data"
    }
   ],
   "source": [
    "# Now plot the guess data, excluding the subjects with no guesses in one more more condition\n",
    "# So looks like the MDDs guess more, everybody guesses more under Side vs. Question\n",
    "df = df[~(df['subject'].isin(no_guesses))]\n",
    "sns.factorplot(y='count',x='group',hue='cue',col='encoding_task',units='subject',ci=68,kind='bar',data=df,\n",
    "              order = ['MDD','control'], col_order=['mobility','animacy'])\n",
    "sns.plt.savefig(path2figs + 'Guessing_GxCxT.pdf')"
   ]
  },
  {
   "cell_type": "code",
   "execution_count": 36,
   "metadata": {
    "collapsed": false
   },
   "outputs": [
    {
     "name": "stdout",
     "output_type": "stream",
     "text": [
      "group    cue       encoding_task\n",
      "MDD      Question  animacy          7.058824\n",
      "                   mobility         5.235294\n",
      "         Side      animacy          8.176471\n",
      "                   mobility         8.058824\n",
      "control  Question  animacy          6.636364\n",
      "                   mobility         4.454545\n",
      "         Side      animacy          7.818182\n",
      "                   mobility         5.636364\n",
      "Name: count, dtype: float64\n",
      "group    cue       encoding_task\n",
      "MDD      Question  animacy          3.381394\n",
      "                   mobility         3.363953\n",
      "         Side      animacy          3.450277\n",
      "                   mobility         4.436646\n",
      "control  Question  animacy          3.294624\n",
      "                   mobility         2.583162\n",
      "         Side      animacy          4.400413\n",
      "                   mobility         4.006812\n",
      "Name: count, dtype: float64\n"
     ]
    }
   ],
   "source": [
    "# Let's get the descriptives there in case we want to use a table instead of a graph\n",
    "print df.groupby(['group','cue','encoding_task'])['count'].mean()\n",
    "print df.groupby(['group','cue','encoding_task'])['count'].std()"
   ]
  },
  {
   "cell_type": "code",
   "execution_count": 37,
   "metadata": {
    "collapsed": false
   },
   "outputs": [
    {
     "name": "stderr",
     "output_type": "stream",
     "text": [
      "/Users/ebarrick/anaconda/lib/python2.7/site-packages/rpy2/robjects/functions.py:106: UserWarning:  Data is unbalanced (unequal N per group). Make sure you specified a well-considered value for the type argument to ezANOVA().\n",
      "\n",
      "  res = super(Function, self).__call__(*new_args, **new_kwargs)\n"
     ]
    },
    {
     "data": {
      "text/plain": [
       "$ANOVA\n",
       "                   Effect DFn DFd          F           p p<.05         ges\n",
       "2                   group   1  26  0.7479166 0.395046059       0.018592008\n",
       "3                     cue   1  26  8.2669324 0.007950142     * 0.052316078\n",
       "5           encoding_task   1  26 10.8891916 0.002809452     * 0.040193826\n",
       "4               group:cue   1  26  0.4448165 0.510682896       0.002961557\n",
       "6     group:encoding_task   1  26  1.8212954 0.188793793       0.006955515\n",
       "7       cue:encoding_task   1  26  2.0576233 0.163365674       0.005339207\n",
       "8 group:cue:encoding_task   1  26  1.3314033 0.259052481       0.003461304\n",
       "\n"
      ]
     },
     "metadata": {},
     "output_type": "display_data"
    }
   ],
   "source": [
    "# ANOVA on guesses; effects of Cue and Task, people guessed more in to Side vs. Question and for Animacy vs. Mobility.\n",
    "# No effect of Group, no interactions.\n",
    "\n",
    "%Rpush df\n",
    "# %R str(df)\n",
    "\n",
    "%R guess.aov <- ezANOVA(dv=count, wid=subject, within=.(cue,encoding_task), between=group, data=df)\n",
    "%R print(guess.aov)"
   ]
  },
  {
   "cell_type": "code",
   "execution_count": 38,
   "metadata": {
    "collapsed": false
   },
   "outputs": [
    {
     "name": "stdout",
     "output_type": "stream",
     "text": [
      "cue\n",
      "Question    5.910714\n",
      "Side        7.571429\n",
      "Name: count, dtype: float64\n",
      "cue\n",
      "Question    3.298908\n",
      "Side        4.071440\n",
      "Name: count, dtype: float64\n"
     ]
    }
   ],
   "source": [
    "# Give me descriptives for the main effect of Cue\n",
    "print df.groupby('cue')['count'].mean()\n",
    "print df.groupby('cue')['count'].std()"
   ]
  },
  {
   "cell_type": "code",
   "execution_count": 39,
   "metadata": {
    "collapsed": false
   },
   "outputs": [
    {
     "name": "stdout",
     "output_type": "stream",
     "text": [
      "encoding_task\n",
      "animacy     7.464286\n",
      "mobility    6.017857\n",
      "Name: count, dtype: float64\n",
      "encoding_task\n",
      "animacy     3.557140\n",
      "mobility    3.891674\n",
      "Name: count, dtype: float64\n"
     ]
    }
   ],
   "source": [
    "# Now descriptives for the main effect of Task\n",
    "print df.groupby('encoding_task')['count'].mean()\n",
    "print df.groupby('encoding_task')['count'].std()"
   ]
  },
  {
   "cell_type": "markdown",
   "metadata": {},
   "source": [
    "So the **bottom line for guesses** is that everyone guessed more in response to Side versus Question cue and in response to words from the animacy vs. mobility task, but there are no group differences."
   ]
  },
  {
   "cell_type": "markdown",
   "metadata": {},
   "source": [
    "### Accuracy "
   ]
  },
  {
   "cell_type": "markdown",
   "metadata": {},
   "source": [
    "#### Odd/Even "
   ]
  },
  {
   "cell_type": "markdown",
   "metadata": {},
   "source": [
    "We are ultimately going to want to run Group x Cue x Task, and since there is no Task when Cue == Odd_even, we're going to have to drop the Odd/Even trials from the analysis. But first let's look at the accuracy data from those trials, to see whether there are any group differences."
   ]
  },
  {
   "cell_type": "code",
   "execution_count": 40,
   "metadata": {
    "collapsed": false
   },
   "outputs": [
    {
     "data": {
      "text/plain": [
       "<seaborn.axisgrid.FacetGrid at 0x11ffe3150>"
      ]
     },
     "execution_count": 40,
     "metadata": {},
     "output_type": "execute_result"
    },
    {
     "data": {
      "image/png": "[encoded data removed]",
      "text/plain": [
       "<matplotlib.figure.Figure at 0x11fb562d0>"
      ]
     },
     "metadata": {},
     "output_type": "display_data"
    }
   ],
   "source": [
    "# Shows that both groups are extremely accurate on Odd/Even trials \n",
    "oe = erp_ret[erp_ret.cue == 'Odd_even']\n",
    "sns.factorplot(y='accuracy',x='group',units='subject',ci=68,kind='bar',data=oe)"
   ]
  },
  {
   "cell_type": "code",
   "execution_count": 41,
   "metadata": {
    "collapsed": false
   },
   "outputs": [
    {
     "name": "stdout",
     "output_type": "stream",
     "text": [
      "group\n",
      "MDD        99.131944\n",
      "control    98.423784\n",
      "Name: accuracy, dtype: float64\n",
      "group\n",
      "MDD        1.362214\n",
      "control    3.963357\n",
      "Name: accuracy, dtype: float64\n",
      "t(46) = -0.83, p = 0.412\n"
     ]
    },
    {
     "data": {
      "text/plain": [
       "(-0.8278041907455097, 0.41205557739647902)"
      ]
     },
     "execution_count": 41,
     "metadata": {},
     "output_type": "execute_result"
    }
   ],
   "source": [
    "# T-test on the group difference in accuracy on Odd/Even trials, no difference.\n",
    "g = oe.groupby(['group','subject'])['accuracy'].mean()\n",
    "df = g.to_frame()\n",
    "df.reset_index(inplace=True)\n",
    "print 100*(df.groupby('group')['accuracy'].mean())\n",
    "print 100*(df.groupby('group')['accuracy'].std())\n",
    "misc.ttest_2s(df[df.group == 'control']['accuracy'],df[df.group == 'MDD']['accuracy'])"
   ]
  },
  {
   "cell_type": "markdown",
   "metadata": {},
   "source": [
    "#### Group x Cue x Task "
   ]
  },
  {
   "cell_type": "markdown",
   "metadata": {},
   "source": [
    "Okay, for the rest of the accuracy analysis we want to exclude the Odd/Even trials. So let's set up a df without those."
   ]
  },
  {
   "cell_type": "code",
   "execution_count": 42,
   "metadata": {
    "collapsed": false
   },
   "outputs": [
    {
     "data": {
      "text/html": [
       "<div>\n",
       "<table border=\"1\" class=\"dataframe\">\n",
       "  <thead>\n",
       "    <tr style=\"text-align: right;\">\n",
       "      <th></th>\n",
       "      <th>subject</th>\n",
       "      <th>run</th>\n",
       "      <th>trial</th>\n",
       "      <th>cue</th>\n",
       "      <th>item</th>\n",
       "      <th>condition</th>\n",
       "      <th>response</th>\n",
       "      <th>RT</th>\n",
       "      <th>iti_dur(ms)</th>\n",
       "      <th>accuracy</th>\n",
       "      <th>...</th>\n",
       "      <th>PSQI_Latency</th>\n",
       "      <th>PSQI_DayDys</th>\n",
       "      <th>PSQI_Efficiency</th>\n",
       "      <th>PSQI_Quality</th>\n",
       "      <th>PSQI_Medication</th>\n",
       "      <th>WTAR_NatEng</th>\n",
       "      <th>WTAR_StdScore</th>\n",
       "      <th>guess</th>\n",
       "      <th>encoding_location</th>\n",
       "      <th>encoding_task</th>\n",
       "    </tr>\n",
       "  </thead>\n",
       "  <tbody>\n",
       "    <tr>\n",
       "      <th>0</th>\n",
       "      <td>SM011</td>\n",
       "      <td>1</td>\n",
       "      <td>2</td>\n",
       "      <td>Question</td>\n",
       "      <td>desk</td>\n",
       "      <td>4</td>\n",
       "      <td>1</td>\n",
       "      <td>3.201</td>\n",
       "      <td>501</td>\n",
       "      <td>0</td>\n",
       "      <td>...</td>\n",
       "      <td>0</td>\n",
       "      <td>0</td>\n",
       "      <td>0</td>\n",
       "      <td>0</td>\n",
       "      <td>0</td>\n",
       "      <td>yes</td>\n",
       "      <td>89</td>\n",
       "      <td>0</td>\n",
       "      <td>right</td>\n",
       "      <td>mobility</td>\n",
       "    </tr>\n",
       "    <tr>\n",
       "      <th>1</th>\n",
       "      <td>SM011</td>\n",
       "      <td>1</td>\n",
       "      <td>3</td>\n",
       "      <td>Question</td>\n",
       "      <td>fern</td>\n",
       "      <td>1</td>\n",
       "      <td>1</td>\n",
       "      <td>0.784</td>\n",
       "      <td>501</td>\n",
       "      <td>1</td>\n",
       "      <td>...</td>\n",
       "      <td>0</td>\n",
       "      <td>0</td>\n",
       "      <td>0</td>\n",
       "      <td>0</td>\n",
       "      <td>0</td>\n",
       "      <td>yes</td>\n",
       "      <td>89</td>\n",
       "      <td>0</td>\n",
       "      <td>left</td>\n",
       "      <td>animacy</td>\n",
       "    </tr>\n",
       "    <tr>\n",
       "      <th>2</th>\n",
       "      <td>SM011</td>\n",
       "      <td>1</td>\n",
       "      <td>5</td>\n",
       "      <td>Question</td>\n",
       "      <td>balloon</td>\n",
       "      <td>2</td>\n",
       "      <td>1</td>\n",
       "      <td>1.067</td>\n",
       "      <td>1002</td>\n",
       "      <td>1</td>\n",
       "      <td>...</td>\n",
       "      <td>0</td>\n",
       "      <td>0</td>\n",
       "      <td>0</td>\n",
       "      <td>0</td>\n",
       "      <td>0</td>\n",
       "      <td>yes</td>\n",
       "      <td>89</td>\n",
       "      <td>0</td>\n",
       "      <td>right</td>\n",
       "      <td>animacy</td>\n",
       "    </tr>\n",
       "    <tr>\n",
       "      <th>3</th>\n",
       "      <td>SM011</td>\n",
       "      <td>1</td>\n",
       "      <td>7</td>\n",
       "      <td>Question</td>\n",
       "      <td>pine</td>\n",
       "      <td>4</td>\n",
       "      <td>1</td>\n",
       "      <td>0.567</td>\n",
       "      <td>2004</td>\n",
       "      <td>0</td>\n",
       "      <td>...</td>\n",
       "      <td>0</td>\n",
       "      <td>0</td>\n",
       "      <td>0</td>\n",
       "      <td>0</td>\n",
       "      <td>0</td>\n",
       "      <td>yes</td>\n",
       "      <td>89</td>\n",
       "      <td>0</td>\n",
       "      <td>right</td>\n",
       "      <td>mobility</td>\n",
       "    </tr>\n",
       "    <tr>\n",
       "      <th>4</th>\n",
       "      <td>SM011</td>\n",
       "      <td>1</td>\n",
       "      <td>8</td>\n",
       "      <td>Question</td>\n",
       "      <td>sparrow</td>\n",
       "      <td>3</td>\n",
       "      <td>1</td>\n",
       "      <td>0.850</td>\n",
       "      <td>1002</td>\n",
       "      <td>0</td>\n",
       "      <td>...</td>\n",
       "      <td>0</td>\n",
       "      <td>0</td>\n",
       "      <td>0</td>\n",
       "      <td>0</td>\n",
       "      <td>0</td>\n",
       "      <td>yes</td>\n",
       "      <td>89</td>\n",
       "      <td>0</td>\n",
       "      <td>left</td>\n",
       "      <td>mobility</td>\n",
       "    </tr>\n",
       "  </tbody>\n",
       "</table>\n",
       "<p>5 rows × 45 columns</p>\n",
       "</div>"
      ],
      "text/plain": [
       "  subject  run  trial       cue     item  condition  response     RT  \\\n",
       "0   SM011    1      2  Question     desk          4         1  3.201   \n",
       "1   SM011    1      3  Question     fern          1         1  0.784   \n",
       "2   SM011    1      5  Question  balloon          2         1  1.067   \n",
       "3   SM011    1      7  Question     pine          4         1  0.567   \n",
       "4   SM011    1      8  Question  sparrow          3         1  0.850   \n",
       "\n",
       "   iti_dur(ms)  accuracy      ...       PSQI_Latency  PSQI_DayDys  \\\n",
       "0          501         0      ...                  0            0   \n",
       "1          501         1      ...                  0            0   \n",
       "2         1002         1      ...                  0            0   \n",
       "3         2004         0      ...                  0            0   \n",
       "4         1002         0      ...                  0            0   \n",
       "\n",
       "  PSQI_Efficiency  PSQI_Quality PSQI_Medication WTAR_NatEng  WTAR_StdScore  \\\n",
       "0               0             0               0         yes             89   \n",
       "1               0             0               0         yes             89   \n",
       "2               0             0               0         yes             89   \n",
       "3               0             0               0         yes             89   \n",
       "4               0             0               0         yes             89   \n",
       "\n",
       "  guess encoding_location  encoding_task  \n",
       "0     0             right       mobility  \n",
       "1     0              left        animacy  \n",
       "2     0             right        animacy  \n",
       "3     0             right       mobility  \n",
       "4     0              left       mobility  \n",
       "\n",
       "[5 rows x 45 columns]"
      ]
     },
     "execution_count": 42,
     "metadata": {},
     "output_type": "execute_result"
    }
   ],
   "source": [
    "noe = erp_ret[~(erp_ret.cue == 'Odd_even')]\n",
    "noe.reset_index(inplace = True,drop=True)\n",
    "noe.head()"
   ]
  },
  {
   "cell_type": "code",
   "execution_count": 43,
   "metadata": {
    "collapsed": false
   },
   "outputs": [
    {
     "data": {
      "image/png": "[encoded data removed]",
      "text/plain": [
       "<matplotlib.figure.Figure at 0x11fb65c50>"
      ]
     },
     "metadata": {},
     "output_type": "display_data"
    }
   ],
   "source": [
    "# I think this is a good way to plot the data b/c it highlights the gorup difference in the cue effect for words from\n",
    "# the mobility task. \n",
    "sns.set_style('darkgrid')\n",
    "sns.factorplot(y='accuracy',x='group',hue='cue',col='encoding_task',units='subject',ci=68,kind='bar',data=noe,\n",
    "              order = ['MDD','control'])\n",
    "sns.plt.savefig(path2figs + 'Ret_Acc_GxCxT.pdf')"
   ]
  },
  {
   "cell_type": "code",
   "execution_count": 44,
   "metadata": {
    "collapsed": false
   },
   "outputs": [
    {
     "data": {
      "text/plain": [
       "$ANOVA\n",
       "                   Effect DFn DFd          F            p p<.05         ges\n",
       "2                   group   1  46  0.1162829 7.346542e-01       0.001695008\n",
       "3                     cue   1  46 17.4695553 1.292625e-04     * 0.032951144\n",
       "5           encoding_task   1  46 31.9513678 9.575239e-07     * 0.085567263\n",
       "4               group:cue   1  46  6.4161901 1.478263e-02     * 0.012359934\n",
       "6     group:encoding_task   1  46  2.4375720 1.253137e-01       0.007088177\n",
       "7       cue:encoding_task   1  46 22.3489956 2.180290e-05     * 0.048053265\n",
       "8 group:cue:encoding_task   1  46  0.8438853 3.630799e-01       0.001902430\n",
       "\n"
      ]
     },
     "metadata": {},
     "output_type": "display_data"
    }
   ],
   "source": [
    "# For guesses, response == 3 and accuracy == NaN. \n",
    "# We don't want to analyze those trials and ez will complain about them. Let's drop.\n",
    "# End up with effects of Cue and Task, plus Group x Cue and Cue x Task interactions. \n",
    "# Initially I followed up the interactions, but I think I would recommend going straight to the Group x Cue ANOVAs,\n",
    "# separately by task. Or you could start with that--rather than Group x Cue x Task, you could do two Group x Cues.\n",
    "# That might be too cheesy and it'd mean all the other ANOVAs would have to be done that way too . . . \n",
    "\n",
    "noe_nog = noe[~(noe.response == 3)]\n",
    "%Rpush noe_nog\n",
    "# %R str(noe)\n",
    "\n",
    "%R ret_acc <- ezANOVA(dv=accuracy, wid=subject, within=.(cue,encoding_task), between=group, data=noe_nog)\n",
    "%R print(ret_acc)"
   ]
  },
  {
   "cell_type": "code",
   "execution_count": 45,
   "metadata": {
    "collapsed": false
   },
   "outputs": [
    {
     "name": "stderr",
     "output_type": "stream",
     "text": [
      "/Users/ebarrick/anaconda/lib/python2.7/site-packages/rpy2/robjects/functions.py:106: UserWarning: Contrasts set to contr.sum for the following variables: group\n",
      "\n",
      "  res = super(Function, self).__call__(*new_args, **new_kwargs)\n",
      "/Users/ebarrick/anaconda/lib/python2.7/site-packages/rpy2/robjects/functions.py:106: UserWarning: Converting to factor: Education_Years\n",
      "\n",
      "  res = super(Function, self).__call__(*new_args, **new_kwargs)\n",
      "/Users/ebarrick/anaconda/lib/python2.7/site-packages/rpy2/robjects/functions.py:106: UserWarning: Contrasts set to contr.sum for the following variables: group, Education_Years\n",
      "\n",
      "  res = super(Function, self).__call__(*new_args, **new_kwargs)\n",
      "/Users/ebarrick/anaconda/lib/python2.7/site-packages/rpy2/robjects/functions.py:106: UserWarning: Converting to factor: WTAR_StdScore\n",
      "\n",
      "  res = super(Function, self).__call__(*new_args, **new_kwargs)\n",
      "/Users/ebarrick/anaconda/lib/python2.7/site-packages/rpy2/robjects/functions.py:106: UserWarning: Contrasts set to contr.sum for the following variables: group, WTAR_StdScore\n",
      "\n",
      "  res = super(Function, self).__call__(*new_args, **new_kwargs)\n"
     ]
    },
    {
     "data": {
      "text/plain": [
       "                   Effect    df  MSE         F  ges p.value\n",
       "1                   group 1, 46 0.05      0.12 .002     .73\n",
       "2                     cue 1, 46 0.01 17.47 ***  .03   .0001\n",
       "3               group:cue 1, 46 0.01    6.42 *  .01     .01\n",
       "4           encoding_task 1, 46 0.01 31.95 ***  .09  <.0001\n",
       "5     group:encoding_task 1, 46 0.01      2.44 .007     .13\n",
       "6       cue:encoding_task 1, 46 0.01 22.35 ***  .05  <.0001\n",
       "7 group:cue:encoding_task 1, 46 0.01      0.84 .002     .36\n"
      ]
     },
     "metadata": {},
     "output_type": "display_data"
    },
    {
     "data": {
      "text/plain": [
       "                              Effect     df  MSE      F  ges p.value\n",
       "1                              group  1, 36 0.04   0.08 .001     .78\n",
       "2                    Education_Years 10, 36 0.04 2.09 +  .27     .05\n",
       "3                                cue  1, 36 0.01 5.66 *  .02     .02\n",
       "4                          group:cue  1, 36 0.01 4.42 *  .01     .04\n",
       "5                Education_Years:cue 10, 36 0.01   0.43  .01     .92\n",
       "6                      encoding_task  1, 36 0.01 6.61 *  .03     .01\n",
       "7                group:encoding_task  1, 36 0.01 6.38 *  .02     .02\n",
       "8      Education_Years:encoding_task 10, 36 0.01   1.48  .05     .19\n",
       "9                  cue:encoding_task  1, 36 0.01 3.77 +  .01     .06\n",
       "10           group:cue:encoding_task  1, 36 0.01 3.46 +  .01     .07\n",
       "11 Education_Years:cue:encoding_task 10, 36 0.01   1.19  .04     .33\n"
      ]
     },
     "metadata": {},
     "output_type": "display_data"
    },
    {
     "data": {
      "text/plain": [
       "                            Effect     df  MSE         F    ges p.value\n",
       "1                            group  1, 23 0.04      0.60    .02     .45\n",
       "2                    WTAR_StdScore 19, 23 0.04      1.34    .43     .25\n",
       "3                              cue  1, 23 0.01   7.99 **    .03    .010\n",
       "4                        group:cue  1, 23 0.01      0.88   .004     .36\n",
       "5                WTAR_StdScore:cue 19, 23 0.01      1.05    .08     .45\n",
       "6                    encoding_task  1, 23 0.01 14.30 ***    .09   .0010\n",
       "7              group:encoding_task  1, 23 0.01      0.00 <.0001    >.99\n",
       "8      WTAR_StdScore:encoding_task 19, 23 0.01      1.10    .12     .41\n",
       "9                cue:encoding_task  1, 23 0.01  13.61 **    .05    .001\n",
       "10         group:cue:encoding_task  1, 23 0.01      1.30   .005     .27\n",
       "11 WTAR_StdScore:cue:encoding_task 19, 23 0.01    2.08 *    .12     .05\n"
      ]
     },
     "metadata": {},
     "output_type": "display_data"
    }
   ],
   "source": [
    "# BP Reviewer 1 asked if the results still hold when including IQ or Education as covariates. Let's see . . . \n",
    "# adding Education makes no difference, but with WTAR in there the Group x Cue is n.s., although WTAR x G x C is sig.\n",
    "# This is fine but actually the Group x Cue for mobility trials is probably more important, let's check that too.\n",
    "\n",
    "%R library('afex') # ezANOVA doesn't play nice with covariates but this one does, let's use it going forward\n",
    "\n",
    "%R ret_acc_afex <- aov_ez(id='subject', dv='accuracy', data=noe_nog, between='group', within=c('cue','encoding_task'))\n",
    "\n",
    "%R ret_acc_educ <- aov_ez(id='subject', dv='accuracy', data=noe_nog, between='group', within=c('cue','encoding_task'),\\\n",
    "                  covariate=c('Education_Years'))\n",
    "\n",
    "noe_nog_wtar = noe_nog[noe_nog.WTAR_NatEng=='yes']\n",
    "%Rpush noe_nog_wtar\n",
    "\n",
    "%R ret_acc_wtar <- aov_ez(id='subject', dv='accuracy', data=noe_nog_wtar, between='group',\\\n",
    "                          within=c('cue','encoding_task'),covariate=c('WTAR_StdScore'))\n",
    "                   \n",
    "%R print(ret_acc_afex)\n",
    "%R print(ret_acc_educ)\n",
    "%R print(ret_acc_wtar)"
   ]
  },
  {
   "cell_type": "code",
   "execution_count": 46,
   "metadata": {
    "collapsed": false
   },
   "outputs": [
    {
     "data": {
      "text/plain": [
       "<matplotlib.axes._subplots.AxesSubplot at 0x1266d6d90>"
      ]
     },
     "execution_count": 46,
     "metadata": {},
     "output_type": "execute_result"
    },
    {
     "data": {
      "image/png": "[encoded data removed]",
      "text/plain": [
       "<matplotlib.figure.Figure at 0x1209d9690>"
      ]
     },
     "metadata": {},
     "output_type": "display_data"
    }
   ],
   "source": [
    "g = noe_nog_wtar.groupby(['group','subject'])['WTAR_StdScore'].mean()\n",
    "df = g.to_frame()\n",
    "df.reset_index(inplace=True)\n",
    "df.head()\n",
    "sns.boxplot(y='WTAR_StdScore',x='group',data=df)"
   ]
  },
  {
   "cell_type": "code",
   "execution_count": 47,
   "metadata": {
    "collapsed": false
   },
   "outputs": [
    {
     "name": "stdout",
     "output_type": "stream",
     "text": [
      "Group difference under Question:\n",
      "t(46) = -0.57, p = 0.575\n",
      "\n",
      "Group difference under Side:\n",
      "t(46) = 1.19, p = 0.242\n"
     ]
    },
    {
     "data": {
      "text/plain": [
       "(1.1858011203853369, 0.24179010619890151)"
      ]
     },
     "execution_count": 47,
     "metadata": {},
     "output_type": "execute_result"
    }
   ],
   "source": [
    "# To follow-up the Group x Cue, we can just run b/w group t-tests at each level of Cue.\n",
    "# Neither one is significant, but looking at the t values you can see why there is an interaction: \n",
    "# it's MDD > HC under Question but MDD < HC under Side.\n",
    "\n",
    "g = noe_nog.groupby(['subject','group','cue'])['accuracy'].mean()\n",
    "df = g.to_frame()\n",
    "df.reset_index(inplace=True)\n",
    "\n",
    "print 'Group difference under Question:'\n",
    "misc.ttest_2s(df[(df.group == 'control') & (df.cue == 'Question')]['accuracy'],\n",
    "              df[(df.group == 'MDD') & (df.cue == 'Question')]['accuracy'])\n",
    "print '\\nGroup difference under Side:'\n",
    "misc.ttest_2s(df[(df.group == 'control') & (df.cue == 'Side')]['accuracy'],\n",
    "              df[(df.group == 'MDD') & (df.cue == 'Side')]['accuracy'])"
   ]
  },
  {
   "cell_type": "code",
   "execution_count": 48,
   "metadata": {
    "collapsed": false
   },
   "outputs": [
    {
     "name": "stdout",
     "output_type": "stream",
     "text": [
      "group    cue     \n",
      "MDD      Question    73.882341\n",
      "         Side        75.534648\n",
      "control  Question    72.031600\n",
      "         Side        79.471551\n",
      "Name: accuracy, dtype: float64\n",
      "\n",
      "\n",
      "group    cue     \n",
      "MDD      Question     9.202547\n",
      "         Side         9.841238\n",
      "control  Question    13.136984\n",
      "         Side        12.949650\n",
      "Name: accuracy, dtype: float64\n"
     ]
    }
   ],
   "source": [
    "# Here are the descriptives . . the group differences are pretty modest . . . \n",
    "print 100*(df.groupby(['group','cue'])['accuracy'].mean())\n",
    "print '\\n'\n",
    "print 100*(df.groupby(['group','cue'])['accuracy'].std())"
   ]
  },
  {
   "cell_type": "code",
   "execution_count": 49,
   "metadata": {
    "collapsed": false
   },
   "outputs": [
    {
     "name": "stdout",
     "output_type": "stream",
     "text": [
      "Task difference under Question:\n",
      "t(94) = 4.75, p = 0.000\n",
      "\n",
      "Task difference under Side:\n",
      "t(94) = 0.84, p = 0.402\n"
     ]
    },
    {
     "data": {
      "text/plain": [
       "(0.84211437083819451, 0.4018613871872595)"
      ]
     },
     "execution_count": 49,
     "metadata": {},
     "output_type": "execute_result"
    }
   ],
   "source": [
    "# To follow-up the Cue x Task, we can collapse over group and run b/w Task comparisons under each Cue.\n",
    "# No surprise here, big Task effect (mobility > animacy) under Question but not Side . . .\n",
    "\n",
    "g = noe_nog.groupby(['subject','cue','encoding_task'])['accuracy'].mean()\n",
    "df = g.to_frame()\n",
    "df.reset_index(inplace=True)\n",
    "df.head()\n",
    "\n",
    "print 'Task difference under Question:'\n",
    "misc.ttest_2s(df[(df.encoding_task == 'mobility') & (df.cue == 'Question')]['accuracy'],\n",
    "              df[(df.encoding_task == 'animacy') & (df.cue == 'Question')]['accuracy'])\n",
    "print '\\nTask difference under Side:'\n",
    "misc.ttest_2s(df[(df.encoding_task == 'mobility') & (df.cue == 'Side')]['accuracy'],\n",
    "              df[(df.encoding_task == 'animacy') & (df.cue == 'Side')]['accuracy'])"
   ]
  },
  {
   "cell_type": "code",
   "execution_count": 50,
   "metadata": {
    "collapsed": false
   },
   "outputs": [
    {
     "name": "stdout",
     "output_type": "stream",
     "text": [
      "Cue effect for words from the mobility task:\n",
      "t(94) = 0.38, p = 0.703\n",
      "\n",
      "Cue effect for words from the animacy task:\n",
      "t(94) = -3.95, p = 0.000\n"
     ]
    },
    {
     "data": {
      "text/plain": [
       "(-3.9457117875528387, 0.00015334692134536288)"
      ]
     },
     "execution_count": 50,
     "metadata": {},
     "output_type": "execute_result"
    }
   ],
   "source": [
    "# The other way to follow-up the Cue x Task is to collapse over group and run b/w Cue comparisons for each Task.\n",
    "# As with the second method of plotting the accuracy data, this is probably better b/c done this way you have the \n",
    "# Cue effect when the words/task are being held constant (cleaner look at the retrieval effects).\n",
    "\n",
    "# And what you find is a big Cue effect for words from the animacy task, no effect at all for words from mobility.\n",
    "\n",
    "g = noe_nog.groupby(['subject','cue','encoding_task'])['accuracy'].mean()\n",
    "df = g.to_frame()\n",
    "df.reset_index(inplace=True)\n",
    "df.head()\n",
    "\n",
    "print 'Cue effect for words from the mobility task:'\n",
    "misc.ttest_2s(df[(df.encoding_task == 'mobility') & (df.cue == 'Question')]['accuracy'],\n",
    "              df[(df.encoding_task == 'mobility') & (df.cue == 'Side')]['accuracy'])\n",
    "print '\\nCue effect for words from the animacy task:'\n",
    "misc.ttest_2s(df[(df.encoding_task == 'animacy') & (df.cue == 'Question')]['accuracy'],\n",
    "              df[(df.encoding_task == 'animacy') & (df.cue == 'Side')]['accuracy'])"
   ]
  },
  {
   "cell_type": "markdown",
   "metadata": {},
   "source": [
    "Of course the stinker here is there is no 3-way interaction. What if you look for Group x Cue only under for words from mobility?"
   ]
  },
  {
   "cell_type": "code",
   "execution_count": 51,
   "metadata": {
    "collapsed": false
   },
   "outputs": [
    {
     "data": {
      "text/plain": [
       "$ANOVA\n",
       "     Effect DFn DFd         F          p p<.05         ges\n",
       "2     group   1  46 0.1030273 0.74968041       0.001853273\n",
       "3       cue   1  46 0.4282893 0.51608849       0.001589656\n",
       "4 group:cue   1  46 6.4477479 0.01455471     * 0.023408729\n",
       "\n"
      ]
     },
     "metadata": {},
     "output_type": "display_data"
    }
   ],
   "source": [
    "# If you look only at data from the mobility task, you get a strong Group x Cue interaction, F > 6.3, p = 0.01.\n",
    "# No Cue effect here, F < 1.\n",
    "\n",
    "noe_nog_MI = noe_nog[noe_nog.encoding_task == 'mobility']\n",
    "%Rpush noe_nog_MI\n",
    "\n",
    "%R ret_acc_MI <- ezANOVA(dv=accuracy, wid=subject, within=cue, between=group, data=noe_nog_MI)\n",
    "%R print(ret_acc_MI)"
   ]
  },
  {
   "cell_type": "code",
   "execution_count": 52,
   "metadata": {
    "collapsed": false
   },
   "outputs": [
    {
     "data": {
      "text/plain": [
       "$ANOVA\n",
       "     Effect DFn DFd          F            p p<.05         ges\n",
       "2     group   1  46  0.9363400 3.382812e-01       0.015694990\n",
       "3       cue   1  46 35.8917049 2.987450e-07     * 0.144599069\n",
       "4 group:cue   1  46  0.9969703 3.232683e-01       0.004673578\n",
       "\n"
      ]
     },
     "metadata": {},
     "output_type": "display_data"
    }
   ],
   "source": [
    "# Make sure you don't get Group x Cue for animacy. No, F < 1; just a strong Cue effect (F > 35).\n",
    "noe_nog_LNL = noe_nog[noe_nog.encoding_task == 'animacy']\n",
    "%Rpush noe_nog_LNL\n",
    "\n",
    "%R ret_acc_LNL <- ezANOVA(dv=accuracy, wid=subject, within=cue, between=group, data=noe_nog_LNL)\n",
    "%R print(ret_acc_LNL)"
   ]
  },
  {
   "cell_type": "code",
   "execution_count": 53,
   "metadata": {
    "collapsed": false
   },
   "outputs": [
    {
     "name": "stdout",
     "output_type": "stream",
     "text": [
      "cue       encoding_task\n",
      "Question  animacy          65.923338\n",
      "          mobility         79.553235\n",
      "Side      animacy          76.436967\n",
      "          mobility         78.523520\n",
      "Name: accuracy, dtype: float64\n",
      "\n",
      "\n",
      "cue       encoding_task\n",
      "Question  animacy          14.180475\n",
      "          mobility         13.923627\n",
      "Side      animacy          11.819947\n",
      "          mobility         12.448846\n",
      "Name: accuracy, dtype: float64\n"
     ]
    }
   ],
   "source": [
    "# Here are the descriptives. 14% difference b/w tasks under Question, 3% under Side.\n",
    "\n",
    "print 100*(df.groupby(['cue','encoding_task'])['accuracy'].mean())\n",
    "print '\\n'\n",
    "print 100*(df.groupby(['cue','encoding_task'])['accuracy'].std())"
   ]
  },
  {
   "cell_type": "code",
   "execution_count": 54,
   "metadata": {
    "collapsed": false
   },
   "outputs": [
    {
     "data": {
      "text/html": [
       "<div>\n",
       "<table border=\"1\" class=\"dataframe\">\n",
       "  <thead>\n",
       "    <tr style=\"text-align: right;\">\n",
       "      <th></th>\n",
       "      <th>subject</th>\n",
       "      <th>group</th>\n",
       "      <th>Question</th>\n",
       "      <th>Side</th>\n",
       "      <th>Q-S</th>\n",
       "      <th>condition</th>\n",
       "    </tr>\n",
       "  </thead>\n",
       "  <tbody>\n",
       "    <tr>\n",
       "      <th>0</th>\n",
       "      <td>SM011</td>\n",
       "      <td>control</td>\n",
       "      <td>0.304348</td>\n",
       "      <td>0.434783</td>\n",
       "      <td>-0.130435</td>\n",
       "      <td>mobility</td>\n",
       "    </tr>\n",
       "    <tr>\n",
       "      <th>1</th>\n",
       "      <td>SM013</td>\n",
       "      <td>control</td>\n",
       "      <td>0.717391</td>\n",
       "      <td>0.700000</td>\n",
       "      <td>0.017391</td>\n",
       "      <td>mobility</td>\n",
       "    </tr>\n",
       "    <tr>\n",
       "      <th>2</th>\n",
       "      <td>SM014</td>\n",
       "      <td>control</td>\n",
       "      <td>0.744186</td>\n",
       "      <td>0.869565</td>\n",
       "      <td>-0.125379</td>\n",
       "      <td>mobility</td>\n",
       "    </tr>\n",
       "    <tr>\n",
       "      <th>3</th>\n",
       "      <td>SM015</td>\n",
       "      <td>MDD</td>\n",
       "      <td>0.765957</td>\n",
       "      <td>0.541667</td>\n",
       "      <td>0.224291</td>\n",
       "      <td>mobility</td>\n",
       "    </tr>\n",
       "    <tr>\n",
       "      <th>4</th>\n",
       "      <td>SM017</td>\n",
       "      <td>control</td>\n",
       "      <td>0.854167</td>\n",
       "      <td>0.860465</td>\n",
       "      <td>-0.006298</td>\n",
       "      <td>mobility</td>\n",
       "    </tr>\n",
       "  </tbody>\n",
       "</table>\n",
       "</div>"
      ],
      "text/plain": [
       "  subject    group  Question      Side       Q-S condition\n",
       "0   SM011  control  0.304348  0.434783 -0.130435  mobility\n",
       "1   SM013  control  0.717391  0.700000  0.017391  mobility\n",
       "2   SM014  control  0.744186  0.869565 -0.125379  mobility\n",
       "3   SM015      MDD  0.765957  0.541667  0.224291  mobility\n",
       "4   SM017  control  0.854167  0.860465 -0.006298  mobility"
      ]
     },
     "execution_count": 54,
     "metadata": {},
     "output_type": "execute_result"
    }
   ],
   "source": [
    "# Okay, now compute the Q-S difference scores for mobility\n",
    "noe_nog_MI.head()\n",
    "g = noe_nog_MI.groupby(['subject','group','cue'])['accuracy'].mean()\n",
    "df = g.to_frame()\n",
    "df.reset_index(inplace=True)\n",
    "table_MI = df.pivot_table(index=['subject','group'],columns='cue',values='accuracy')\n",
    "table_MI.reset_index(inplace=True)\n",
    "new_cols = ['subject','group','Question','Side']\n",
    "table_MI.columns = new_cols\n",
    "table_MI['Q-S'] = table_MI['Question']-table_MI['Side']\n",
    "table_MI['condition'] = 'mobility'\n",
    "table_MI.head()"
   ]
  },
  {
   "cell_type": "code",
   "execution_count": 55,
   "metadata": {
    "collapsed": false
   },
   "outputs": [
    {
     "name": "stdout",
     "output_type": "stream",
     "text": [
      "group\n",
      "MDD        5.025046\n",
      "control   -2.965615\n",
      "Name: Q-S, dtype: float64\n",
      "group\n",
      "MDD        11.949340\n",
      "control     9.740642\n",
      "Name: Q-S, dtype: float64\n",
      "t(46) = 2.54, p = 0.015\n"
     ]
    },
    {
     "data": {
      "text/plain": [
       "(2.5392415907979102, 0.014554707420496868)"
      ]
     },
     "execution_count": 55,
     "metadata": {},
     "output_type": "execute_result"
    }
   ],
   "source": [
    "# Give me descriptives and the b/w groups t-test\n",
    "print 100*(table_MI.groupby('group')['Q-S'].mean())\n",
    "print 100*(table_MI.groupby('group')['Q-S'].std())\n",
    "misc.ttest_2s(table_MI[table_MI.group == 'MDD']['Q-S'],\n",
    "             table_MI[table_MI.group == 'control']['Q-S'])"
   ]
  },
  {
   "cell_type": "code",
   "execution_count": 56,
   "metadata": {
    "collapsed": false
   },
   "outputs": [
    {
     "data": {
      "image/png": "[encoded data removed]",
      "text/plain": [
       "<matplotlib.figure.Figure at 0x1209838d0>"
      ]
     },
     "metadata": {},
     "output_type": "display_data"
    }
   ],
   "source": [
    "# And plot it . . . \n",
    "sns.factorplot(y='Q-S',x='group',units='subject',ci=68,kind='bar',data=table_MI,\n",
    "              order = ['MDD','control'])\n",
    "sns.plt.savefig(path2figs + 'QvS_MI.pdf')"
   ]
  },
  {
   "cell_type": "code",
   "execution_count": 57,
   "metadata": {
    "collapsed": false
   },
   "outputs": [
    {
     "data": {
      "text/html": [
       "<div>\n",
       "<table border=\"1\" class=\"dataframe\">\n",
       "  <thead>\n",
       "    <tr style=\"text-align: right;\">\n",
       "      <th></th>\n",
       "      <th>subject</th>\n",
       "      <th>group</th>\n",
       "      <th>Question</th>\n",
       "      <th>Side</th>\n",
       "      <th>Q-S</th>\n",
       "      <th>condition</th>\n",
       "    </tr>\n",
       "  </thead>\n",
       "  <tbody>\n",
       "    <tr>\n",
       "      <th>0</th>\n",
       "      <td>SM011</td>\n",
       "      <td>control</td>\n",
       "      <td>0.702128</td>\n",
       "      <td>0.437500</td>\n",
       "      <td>0.264628</td>\n",
       "      <td>animacy</td>\n",
       "    </tr>\n",
       "    <tr>\n",
       "      <th>1</th>\n",
       "      <td>SM013</td>\n",
       "      <td>control</td>\n",
       "      <td>0.476190</td>\n",
       "      <td>0.790698</td>\n",
       "      <td>-0.314507</td>\n",
       "      <td>animacy</td>\n",
       "    </tr>\n",
       "    <tr>\n",
       "      <th>2</th>\n",
       "      <td>SM014</td>\n",
       "      <td>control</td>\n",
       "      <td>0.723404</td>\n",
       "      <td>0.941176</td>\n",
       "      <td>-0.217772</td>\n",
       "      <td>animacy</td>\n",
       "    </tr>\n",
       "    <tr>\n",
       "      <th>3</th>\n",
       "      <td>SM015</td>\n",
       "      <td>MDD</td>\n",
       "      <td>0.413043</td>\n",
       "      <td>0.541667</td>\n",
       "      <td>-0.128623</td>\n",
       "      <td>animacy</td>\n",
       "    </tr>\n",
       "    <tr>\n",
       "      <th>4</th>\n",
       "      <td>SM017</td>\n",
       "      <td>control</td>\n",
       "      <td>0.652174</td>\n",
       "      <td>0.780488</td>\n",
       "      <td>-0.128314</td>\n",
       "      <td>animacy</td>\n",
       "    </tr>\n",
       "  </tbody>\n",
       "</table>\n",
       "</div>"
      ],
      "text/plain": [
       "  subject    group  Question      Side       Q-S condition\n",
       "0   SM011  control  0.702128  0.437500  0.264628   animacy\n",
       "1   SM013  control  0.476190  0.790698 -0.314507   animacy\n",
       "2   SM014  control  0.723404  0.941176 -0.217772   animacy\n",
       "3   SM015      MDD  0.413043  0.541667 -0.128623   animacy\n",
       "4   SM017  control  0.652174  0.780488 -0.128314   animacy"
      ]
     },
     "execution_count": 57,
     "metadata": {},
     "output_type": "execute_result"
    }
   ],
   "source": [
    "# Now compute the Q-S difference scores for animacy\n",
    "\n",
    "g = noe_nog_LNL.groupby(['subject','group','cue'])['accuracy'].mean()\n",
    "df = g.to_frame()\n",
    "df.reset_index(inplace=True)\n",
    "table_LNL = df.pivot_table(index=['subject','group'],columns='cue',values='accuracy')\n",
    "table_LNL.reset_index(inplace=True)\n",
    "new_cols = ['subject','group','Question','Side']\n",
    "table_LNL.columns = new_cols\n",
    "table_LNL['Q-S'] = table_LNL['Question']-table_LNL['Side']\n",
    "table_LNL['condition'] = 'animacy'\n",
    "table_LNL.head()"
   ]
  },
  {
   "cell_type": "code",
   "execution_count": 58,
   "metadata": {
    "collapsed": false
   },
   "outputs": [
    {
     "name": "stdout",
     "output_type": "stream",
     "text": [
      "group\n",
      "MDD        -8.761376\n",
      "control   -12.265881\n",
      "Name: Q-S, dtype: float64\n",
      "group\n",
      "MDD         9.822191\n",
      "control    14.113031\n",
      "Name: Q-S, dtype: float64\n",
      "t(46) = 1.00, p = 0.323\n"
     ]
    },
    {
     "data": {
      "text/plain": [
       "(0.99848401851382407, 0.32326834362609924)"
      ]
     },
     "execution_count": 58,
     "metadata": {},
     "output_type": "execute_result"
    }
   ],
   "source": [
    "# Give me descriptives and the b/w groups t-test\n",
    "print 100*(table_LNL.groupby('group')['Q-S'].mean())\n",
    "print 100*(table_LNL.groupby('group')['Q-S'].std())\n",
    "misc.ttest_2s(table_LNL[table_LNL.group == 'MDD']['Q-S'],\n",
    "             table_LNL[table_LNL.group == 'control']['Q-S'])"
   ]
  },
  {
   "cell_type": "code",
   "execution_count": 59,
   "metadata": {
    "collapsed": false
   },
   "outputs": [
    {
     "data": {
      "image/png": "[encoded data removed]",
      "text/plain": [
       "<matplotlib.figure.Figure at 0x1257b8ed0>"
      ]
     },
     "metadata": {},
     "output_type": "display_data"
    }
   ],
   "source": [
    "# And plot it . . . \n",
    "sns.factorplot(y='Q-S',x='group',units='subject',ci=68,kind='bar',data=table_LNL,\n",
    "              order = ['MDD','control'])\n",
    "sns.plt.savefig(path2figs + 'QvS_LNL.pdf')"
   ]
  },
  {
   "cell_type": "code",
   "execution_count": 60,
   "metadata": {
    "collapsed": false
   },
   "outputs": [
    {
     "name": "stdout",
     "output_type": "stream",
     "text": [
      "MDD . . . \n",
      "t(23) = 3.82, p = 0.001\n",
      "controls . . . \n",
      "t(23) = 2.83, p = 0.010\n"
     ]
    },
    {
     "data": {
      "text/plain": [
       "(2.8283273839001555, 0.0095281927944516273)"
      ]
     },
     "execution_count": 60,
     "metadata": {},
     "output_type": "execute_result"
    }
   ],
   "source": [
    "# Need to concat tables for w/in group t-tests\n",
    "both = pd.concat([table_MI,table_LNL])\n",
    "both.head()\n",
    "\n",
    "print 'MDD . . . '\n",
    "misc.ttest_2s(both[(both.group == 'MDD') & (both.condition == 'mobility')]['Q-S'],\n",
    "             both[(both.group == 'MDD') & (both.condition == 'animacy')]['Q-S'],\n",
    "             paired=True)\n",
    "\n",
    "print 'controls . . . '\n",
    "misc.ttest_2s(both[(both.group == 'control') & (both.condition == 'mobility')]['Q-S'],\n",
    "             both[(both.group == 'control') & (both.condition == 'animacy')]['Q-S'],\n",
    "             paired=True)"
   ]
  },
  {
   "cell_type": "code",
   "execution_count": 61,
   "metadata": {
    "collapsed": false
   },
   "outputs": [
    {
     "name": "stdout",
     "output_type": "stream",
     "text": [
      "t(46) = 1.28, p = 0.207\n"
     ]
    },
    {
     "data": {
      "text/plain": [
       "(1.2792348461266727, 0.20722975813559297)"
      ]
     },
     "execution_count": 61,
     "metadata": {},
     "output_type": "execute_result"
    }
   ],
   "source": [
    "# Any chance you get a sig b/w group diff for Q/MI? Nope\n",
    "misc.ttest_2s(both[(both.group == 'MDD') & (both.condition == 'mobility')]['Question'],\n",
    "             both[(both.group == 'control') & (both.condition == 'mobility')]['Question'])"
   ]
  },
  {
   "cell_type": "code",
   "execution_count": 62,
   "metadata": {
    "collapsed": false
   },
   "outputs": [
    {
     "data": {
      "text/plain": [
       "     Effect    df  MSE      F  ges p.value\n",
       "1     group 1, 46 0.03   0.10 .002     .75\n",
       "2       cue 1, 46 0.01   0.43 .002     .52\n",
       "3 group:cue 1, 46 0.01 6.45 *  .02     .01\n"
      ]
     },
     "metadata": {},
     "output_type": "display_data"
    },
    {
     "data": {
      "text/plain": [
       "               Effect     df  MSE       F   ges p.value\n",
       "1               group  1, 36 0.02    1.66   .04     .21\n",
       "2     Education_Years 10, 36 0.02  1.84 +   .29     .09\n",
       "3                 cue  1, 36 0.01    0.12 .0007     .74\n",
       "4           group:cue  1, 36 0.01 8.39 **   .05    .006\n",
       "5 Education_Years:cue 10, 36 0.01    0.59   .03     .81\n"
      ]
     },
     "metadata": {},
     "output_type": "display_data"
    },
    {
     "data": {
      "text/plain": [
       "             Effect     df  MSE      F    ges p.value\n",
       "1             group  1, 23 0.02   0.66    .02     .43\n",
       "2     WTAR_StdScore 19, 23 0.02 2.32 *    .62     .03\n",
       "3               cue  1, 23 0.00   0.28   .002     .60\n",
       "4         group:cue  1, 23 0.00   0.01 <.0001     .92\n",
       "5 WTAR_StdScore:cue 19, 23 0.00 2.79 *    .26     .01\n"
      ]
     },
     "metadata": {},
     "output_type": "display_data"
    }
   ],
   "source": [
    "# In response to BP Reviewer 1, let's repeat the Group x Cue under mobility with education and WTAR as covs to see\n",
    "# if they matter. Education does not matter but WTAR is significant and there is a Cue x WTAR interaction that\n",
    "# renders the Group x Cue effect n.s.\n",
    "\n",
    "noe_nog_MI_wtar = noe_nog_MI[noe_nog_MI.WTAR_NatEng == 'yes']\n",
    "%Rpush noe_nog_MI_wtar\n",
    "\n",
    "%R ret_acc_MI_afex <- aov_ez(id='subject', dv='accuracy', data=noe_nog_MI, between='group', within='cue')\n",
    "\n",
    "%R ret_acc_MI_educ <- aov_ez(id='subject', dv='accuracy', data=noe_nog_MI, between='group',\\\n",
    "                             within='cue', covariate=c('Education_Years'))\n",
    "\n",
    "%R ret_acc_MI_wtar <- aov_ez(id='subject', dv='accuracy', data=noe_nog_MI_wtar, between='group',\\\n",
    "                             within='cue',covariate=c('WTAR_StdScore'))\n",
    "\n",
    "%R print(ret_acc_MI_afex)\n",
    "%R print(ret_acc_MI_educ)\n",
    "%R print(ret_acc_MI_wtar)"
   ]
  },
  {
   "cell_type": "code",
   "execution_count": 63,
   "metadata": {
    "collapsed": false
   },
   "outputs": [
    {
     "data": {
      "text/plain": [
       "count    3792.000000\n",
       "mean      116.829905\n",
       "std         9.784776\n",
       "min        89.000000\n",
       "25%       113.000000\n",
       "50%       120.000000\n",
       "75%       124.000000\n",
       "max       128.000000\n",
       "Name: WTAR_StdScore, dtype: float64"
      ]
     },
     "execution_count": 63,
     "metadata": {},
     "output_type": "execute_result"
    }
   ],
   "source": [
    "noe_nog_MI_wtar.WTAR_StdScore.describe()"
   ]
  },
  {
   "cell_type": "code",
   "execution_count": 64,
   "metadata": {
    "collapsed": true
   },
   "outputs": [],
   "source": [
    "def MedSplit(wtar):\n",
    "    '''Based on the descriptive data, I am running a median split on WTAR scores to ease the graphing.'''\n",
    "    if wtar < 120:\n",
    "        out = 'low'\n",
    "    elif wtar > 120:\n",
    "        out = 'high'\n",
    "    elif wtar == 120:\n",
    "        out = np.nan\n",
    "        \n",
    "    return out"
   ]
  },
  {
   "cell_type": "code",
   "execution_count": 65,
   "metadata": {
    "collapsed": false
   },
   "outputs": [
    {
     "name": "stderr",
     "output_type": "stream",
     "text": [
      "/Users/ebarrick/anaconda/lib/python2.7/site-packages/ipykernel/__main__.py:2: SettingWithCopyWarning: \n",
      "A value is trying to be set on a copy of a slice from a DataFrame.\n",
      "Try using .loc[row_indexer,col_indexer] = value instead\n",
      "\n",
      "See the the caveats in the documentation: http://pandas.pydata.org/pandas-docs/stable/indexing.html#indexing-view-versus-copy\n",
      "  from ipykernel import kernelapp as app\n"
     ]
    },
    {
     "data": {
      "text/plain": [
       "<seaborn.axisgrid.FacetGrid at 0x120b49d50>"
      ]
     },
     "execution_count": 65,
     "metadata": {},
     "output_type": "execute_result"
    },
    {
     "data": {
      "image/png": "[encoded data removed]",
      "text/plain": [
       "<matplotlib.figure.Figure at 0x11fbc5b10>"
      ]
     },
     "metadata": {},
     "output_type": "display_data"
    }
   ],
   "source": [
    "\n",
    "noe_nog_MI_wtar['WTAR_cat'] = noe_nog_MI_wtar.WTAR_StdScore.apply(MedSplit)\n",
    "# g = sns.factorplot(y='accuracy',x='WTAR_StdScore',hue='cue',ci=68,kind='bar',data=noe_nog_MI_wtar)\n",
    "# g.set_xticklabels(rotation=90)\n",
    "sns.factorplot(y='accuracy',x='WTAR_cat',hue='cue',units='subject',ci=68,kind='bar',data=noe_nog_MI_wtar)"
   ]
  },
  {
   "cell_type": "code",
   "execution_count": 66,
   "metadata": {
    "collapsed": false
   },
   "outputs": [
    {
     "data": {
      "text/html": [
       "<div>\n",
       "<table border=\"1\" class=\"dataframe\">\n",
       "  <thead>\n",
       "    <tr style=\"text-align: right;\">\n",
       "      <th></th>\n",
       "      <th>subject</th>\n",
       "      <th>group</th>\n",
       "      <th>Question</th>\n",
       "      <th>Side</th>\n",
       "      <th>Q-S</th>\n",
       "      <th>condition</th>\n",
       "    </tr>\n",
       "  </thead>\n",
       "  <tbody>\n",
       "    <tr>\n",
       "      <th>0</th>\n",
       "      <td>SM011</td>\n",
       "      <td>control</td>\n",
       "      <td>0.304348</td>\n",
       "      <td>0.434783</td>\n",
       "      <td>-0.130435</td>\n",
       "      <td>mobility</td>\n",
       "    </tr>\n",
       "    <tr>\n",
       "      <th>1</th>\n",
       "      <td>SM013</td>\n",
       "      <td>control</td>\n",
       "      <td>0.717391</td>\n",
       "      <td>0.700000</td>\n",
       "      <td>0.017391</td>\n",
       "      <td>mobility</td>\n",
       "    </tr>\n",
       "    <tr>\n",
       "      <th>2</th>\n",
       "      <td>SM014</td>\n",
       "      <td>control</td>\n",
       "      <td>0.744186</td>\n",
       "      <td>0.869565</td>\n",
       "      <td>-0.125379</td>\n",
       "      <td>mobility</td>\n",
       "    </tr>\n",
       "    <tr>\n",
       "      <th>3</th>\n",
       "      <td>SM015</td>\n",
       "      <td>MDD</td>\n",
       "      <td>0.765957</td>\n",
       "      <td>0.541667</td>\n",
       "      <td>0.224291</td>\n",
       "      <td>mobility</td>\n",
       "    </tr>\n",
       "    <tr>\n",
       "      <th>4</th>\n",
       "      <td>SM017</td>\n",
       "      <td>control</td>\n",
       "      <td>0.854167</td>\n",
       "      <td>0.860465</td>\n",
       "      <td>-0.006298</td>\n",
       "      <td>mobility</td>\n",
       "    </tr>\n",
       "  </tbody>\n",
       "</table>\n",
       "</div>"
      ],
      "text/plain": [
       "  subject    group  Question      Side       Q-S condition\n",
       "0   SM011  control  0.304348  0.434783 -0.130435  mobility\n",
       "1   SM013  control  0.717391  0.700000  0.017391  mobility\n",
       "2   SM014  control  0.744186  0.869565 -0.125379  mobility\n",
       "3   SM015      MDD  0.765957  0.541667  0.224291  mobility\n",
       "4   SM017  control  0.854167  0.860465 -0.006298  mobility"
      ]
     },
     "execution_count": 66,
     "metadata": {},
     "output_type": "execute_result"
    }
   ],
   "source": [
    "table_MI.head()"
   ]
  },
  {
   "cell_type": "code",
   "execution_count": 67,
   "metadata": {
    "collapsed": false
   },
   "outputs": [
    {
     "ename": "AttributeError",
     "evalue": "'DataFrame' object has no attribute 'sort_values'",
     "output_type": "error",
     "traceback": [
      "\u001b[0;31m---------------------------------------------------------------------------\u001b[0m",
      "\u001b[0;31mAttributeError\u001b[0m                            Traceback (most recent call last)",
      "\u001b[0;32m<ipython-input-67-c09286432a34>\u001b[0m in \u001b[0;36m<module>\u001b[0;34m()\u001b[0m\n\u001b[1;32m      7\u001b[0m \u001b[0mtable_MI\u001b[0m\u001b[0;34m[\u001b[0m\u001b[0;34m'WTAR_StdScore'\u001b[0m\u001b[0;34m]\u001b[0m \u001b[0;34m=\u001b[0m \u001b[0mwtar_StdScore\u001b[0m\u001b[0;34m\u001b[0m\u001b[0m\n\u001b[1;32m      8\u001b[0m \u001b[0mtable_MI_wtar\u001b[0m \u001b[0;34m=\u001b[0m \u001b[0mtable_MI\u001b[0m\u001b[0;34m[\u001b[0m\u001b[0mtable_MI\u001b[0m\u001b[0;34m.\u001b[0m\u001b[0mWTAR_NatEng\u001b[0m \u001b[0;34m==\u001b[0m \u001b[0;34m'yes'\u001b[0m\u001b[0;34m]\u001b[0m\u001b[0;34m\u001b[0m\u001b[0m\n\u001b[0;32m----> 9\u001b[0;31m \u001b[0mtable_MI_wtar\u001b[0m\u001b[0;34m.\u001b[0m\u001b[0msort_values\u001b[0m\u001b[0;34m(\u001b[0m\u001b[0;34m'WTAR_StdScore'\u001b[0m\u001b[0;34m,\u001b[0m\u001b[0minplace\u001b[0m\u001b[0;34m=\u001b[0m\u001b[0mTrue\u001b[0m\u001b[0;34m)\u001b[0m\u001b[0;34m\u001b[0m\u001b[0m\n\u001b[0m",
      "\u001b[0;32m/Users/ebarrick/anaconda/lib/python2.7/site-packages/pandas/core/generic.pyc\u001b[0m in \u001b[0;36m__getattr__\u001b[0;34m(self, name)\u001b[0m\n\u001b[1;32m   2148\u001b[0m                 \u001b[0;32mreturn\u001b[0m \u001b[0mself\u001b[0m\u001b[0;34m[\u001b[0m\u001b[0mname\u001b[0m\u001b[0;34m]\u001b[0m\u001b[0;34m\u001b[0m\u001b[0m\n\u001b[1;32m   2149\u001b[0m             raise AttributeError(\"'%s' object has no attribute '%s'\" %\n\u001b[0;32m-> 2150\u001b[0;31m                                  (type(self).__name__, name))\n\u001b[0m\u001b[1;32m   2151\u001b[0m \u001b[0;34m\u001b[0m\u001b[0m\n\u001b[1;32m   2152\u001b[0m     \u001b[0;32mdef\u001b[0m \u001b[0m__setattr__\u001b[0m\u001b[0;34m(\u001b[0m\u001b[0mself\u001b[0m\u001b[0;34m,\u001b[0m \u001b[0mname\u001b[0m\u001b[0;34m,\u001b[0m \u001b[0mvalue\u001b[0m\u001b[0;34m)\u001b[0m\u001b[0;34m:\u001b[0m\u001b[0;34m\u001b[0m\u001b[0m\n",
      "\u001b[0;31mAttributeError\u001b[0m: 'DataFrame' object has no attribute 'sort_values'"
     ]
    }
   ],
   "source": [
    "wtar_native = []\n",
    "wtar_StdScore = []\n",
    "for i, row_i in table_MI.iterrows():\n",
    "    wtar_native.append(noe_nog[noe_nog.subject == row_i.subject].WTAR_NatEng.unique()[0])\n",
    "    wtar_StdScore.append(noe_nog[noe_nog.subject == row_i.subject].WTAR_StdScore.unique()[0])\n",
    "table_MI['WTAR_NatEng'] = wtar_native\n",
    "table_MI['WTAR_StdScore'] = wtar_StdScore\n",
    "table_MI_wtar = table_MI[table_MI.WTAR_NatEng == 'yes']\n",
    "table_MI_wtar.sort_values('WTAR_StdScore',inplace=True)"
   ]
  },
  {
   "cell_type": "code",
   "execution_count": null,
   "metadata": {
    "collapsed": false
   },
   "outputs": [],
   "source": [
    "g = sns.factorplot(y='Q-S',x='subject',data=table_MI_wtar[table_MI_wtar.group == 'MDD'],kind='bar')\n",
    "g.set_xticklabels(rotation=90)\n",
    "plt.suptitle('MDD')\n",
    "\n",
    "g = sns.factorplot(y='Q-S',x='subject',data=table_MI_wtar[table_MI_wtar.group == 'control'],kind='bar')\n",
    "g.set_xticklabels(rotation=90)\n",
    "plt.suptitle('controls')"
   ]
  },
  {
   "cell_type": "code",
   "execution_count": null,
   "metadata": {
    "collapsed": false
   },
   "outputs": [],
   "source": [
    "sns.set_style('white')\n",
    "sns.set_context('paper')\n",
    "\n",
    "fig = plt.figure()\n",
    "ax1 = fig.add_subplot(211)\n",
    "g = sns.barplot(y='Q-S',x='subject',data=table_MI_wtar[table_MI_wtar.group == 'MDD'],ax=ax1)\n",
    "g.set_xticklabels(table_MI_wtar[table_MI_wtar.group == 'MDD']['subject'],rotation=90)\n",
    "h = sns.pointplot(y='WTAR_StdScore',x='subject',data=table_MI_wtar[table_MI_wtar.group == 'MDD'],\\\n",
    "                  join=False,ax=ax1.twinx())\n",
    "\n",
    "ax2 = fig.add_subplot(212)\n",
    "g = sns.barplot(y='Q-S',x='subject',data=table_MI_wtar[table_MI_wtar.group == 'control'],ax=ax2)\n",
    "g.set_xticklabels(table_MI_wtar[table_MI_wtar.group == 'control']['subject'],rotation=90)\n",
    "h = sns.pointplot(y='WTAR_StdScore',x='subject',data=table_MI_wtar[table_MI_wtar.group == 'control'],\\\n",
    "                  join=False,ax=ax2.twinx())\n",
    "\n",
    "fig.tight_layout()"
   ]
  },
  {
   "cell_type": "code",
   "execution_count": null,
   "metadata": {
    "collapsed": false
   },
   "outputs": [],
   "source": [
    "sns.set_style('white')\n",
    "sns.set_context('paper')\n",
    "\n",
    "pal_dict = {'control':sns.xkcd_rgb['tan'],'MDD':sns.xkcd_rgb['light blue']}\n",
    "fig = plt.figure()\n",
    "ax1 = fig.add_subplot(111)\n",
    "g = sns.barplot(y='Q-S',x='subject',palette = table_MI_wtar['group'].map(pal_dict),data=table_MI_wtar,ax=ax1)\n",
    "g.set_xticklabels(table_MI_wtar['subject'],rotation=90)\n",
    "h = sns.pointplot(y='WTAR_StdScore',x='subject',data=table_MI_wtar,join=False,ax=ax1.twinx())\n",
    "plt.savefig(path2figs + 'Q-S_by_WTAR.pdf')"
   ]
  },
  {
   "cell_type": "code",
   "execution_count": null,
   "metadata": {
    "collapsed": false,
    "scrolled": true
   },
   "outputs": [],
   "source": [
    "noe_nog_MI_wtar_hc = noe_nog_MI_wtar[noe_nog_MI_wtar.group == 'control']\n",
    "noe_nog_MI_wtar_hc.sort_values('WTAR_StdScore',inplace=True)\n",
    "\n",
    "noe_nog_MI_wtar_mdd = noe_nog_MI_wtar[noe_nog_MI_wtar.group == 'MDD']\n",
    "noe_nog_MI_wtar_mdd.sort_values('WTAR_StdScore',inplace=True)\n",
    "\n",
    "g = sns.factorplot(y='accuracy',x='subject',hue='cue',ci=68,kind='bar',data=noe_nog_MI_wtar_hc,\n",
    "                  hue_order=['Question','Side'])\n",
    "g.set_xticklabels(rotation=90)\n",
    "plt.suptitle('Controls')\n",
    "\n",
    "g = sns.factorplot(y='accuracy',x='subject',hue='cue',ci=68,kind='bar',data=noe_nog_MI_wtar_mdd,\n",
    "                  hue_order=['Question','Side'])\n",
    "g.set_xticklabels(rotation=90)\n",
    "plt.suptitle('MDD')"
   ]
  },
  {
   "cell_type": "markdown",
   "metadata": {},
   "source": [
    "Okay, so the **bottom line** here is we have a Group x Cue effect for words from the mobility task but not the animacy task. For words from both tasks, we isolate the Cue effect by performing Q-S subtractions. For words from the mobility task, that difference score is more positive in MDD vs. HC, but for words from the animacy task, there is no group difference. This indicates that the MDD group was more affected by the cueing manipulation than the HC group for words from the mobility task, with the Qcue supporting the highest level of accuracy in MDD (when paired with words from the mobility task). This is in line with the idea that MDDs do best with deep encoding followed by conceptual retrieval (may be worth re-reading Ed Watkins's work on conceptual implicit retrieval in MDD)."
   ]
  },
  {
   "cell_type": "markdown",
   "metadata": {},
   "source": [
    "### Correct RT "
   ]
  },
  {
   "cell_type": "markdown",
   "metadata": {},
   "source": [
    "#### Odd/Even "
   ]
  },
  {
   "cell_type": "code",
   "execution_count": 68,
   "metadata": {
    "collapsed": false
   },
   "outputs": [
    {
     "data": {
      "text/plain": [
       "<seaborn.axisgrid.FacetGrid at 0x123f5a390>"
      ]
     },
     "execution_count": 68,
     "metadata": {},
     "output_type": "execute_result"
    },
    {
     "data": {
      "image/png": "[encoded data removed]",
      "text/plain": [
       "<matplotlib.figure.Figure at 0x123f45f90>"
      ]
     },
     "metadata": {},
     "output_type": "display_data"
    }
   ],
   "source": [
    "# Shows that on Odd/Even trials, the MDDs are actually a bit faster than the controls. No psychomotor slowing here!\n",
    "oe_corr = oe[oe.accuracy == 1]\n",
    "sns.factorplot(y='RT',x='group',units='subject',ci=68,kind='bar',data=oe_corr)"
   ]
  },
  {
   "cell_type": "code",
   "execution_count": 69,
   "metadata": {
    "collapsed": false
   },
   "outputs": [
    {
     "name": "stdout",
     "output_type": "stream",
     "text": [
      "group\n",
      "MDD        777.21508\n",
      "control    859.86735\n",
      "Name: RT, dtype: float64\n",
      "group\n",
      "MDD        225.646971\n",
      "control    299.182814\n",
      "Name: RT, dtype: float64\n",
      "t(44) = 1.06, p = 0.296\n"
     ]
    },
    {
     "data": {
      "text/plain": [
       "(1.0577755563355071, 0.29593071997468423)"
      ]
     },
     "execution_count": 69,
     "metadata": {},
     "output_type": "execute_result"
    }
   ],
   "source": [
    "# Drop the 2 subs with no RT data, then run a t-test on the group difference in correct RT on Odd/Even trials.\n",
    "# No difference. \n",
    "\n",
    "oe_corr_clean = oe_corr[~((oe_corr.subject == 'SM045') | (oe_corr.subject == 'SM046'))]\n",
    "g = oe_corr_clean.groupby(['group','subject'])['RT'].mean()\n",
    "df = g.to_frame()\n",
    "df.reset_index(inplace=True)\n",
    "df.head()\n",
    "print 1000*(df.groupby('group')['RT'].mean())\n",
    "print 1000*(df.groupby('group')['RT'].std())\n",
    "misc.ttest_2s(df[df.group == 'control']['RT'],df[df.group == 'MDD']['RT'])"
   ]
  },
  {
   "cell_type": "markdown",
   "metadata": {},
   "source": [
    "#### Group x Cue x Task "
   ]
  },
  {
   "cell_type": "code",
   "execution_count": 70,
   "metadata": {
    "collapsed": false,
    "scrolled": true
   },
   "outputs": [
    {
     "data": {
      "text/plain": [
       "<seaborn.axisgrid.FacetGrid at 0x11f8fab10>"
      ]
     },
     "execution_count": 70,
     "metadata": {},
     "output_type": "execute_result"
    },
    {
     "data": {
      "image/png": "[encoded data removed]",
      "text/plain": [
       "<matplotlib.figure.Figure at 0x11fa154d0>"
      ]
     },
     "metadata": {},
     "output_type": "display_data"
    }
   ],
   "source": [
    "# Strong effect of Cue, no big effects of Group or Task, maybe a Group x Cue x Task . . . \n",
    "noe_nog_corr = noe_nog[noe_nog.accuracy == 1]\n",
    "sns.factorplot(y='RT',x='cue',hue='encoding_task',col='group',units='subject',ci=68,kind='bar',data=noe_nog_corr)"
   ]
  },
  {
   "cell_type": "code",
   "execution_count": 71,
   "metadata": {
    "collapsed": false
   },
   "outputs": [
    {
     "data": {
      "image/png": "[encoded data removed]",
      "text/plain": [
       "<matplotlib.figure.Figure at 0x123d8ad10>"
      ]
     },
     "metadata": {},
     "output_type": "display_data"
    }
   ],
   "source": [
    "sns.factorplot(y='RT',x='group',hue='cue',col='encoding_task',units='subject',ci=68,kind='bar',data=noe_nog_corr,\n",
    "              order = ['MDD','control'])\n",
    "sns.plt.savefig(path2figs + 'Ret_RT_GxCxT_new.pdf')"
   ]
  },
  {
   "cell_type": "code",
   "execution_count": 72,
   "metadata": {
    "collapsed": false
   },
   "outputs": [
    {
     "data": {
      "text/plain": [
       "$ANOVA\n",
       "                   Effect DFn DFd            F            p p<.05          ges\n",
       "2                   group   1  44 6.665763e-03 9.353000e-01       1.221835e-04\n",
       "3                     cue   1  44 1.949858e+02 8.945357e-18     * 3.720393e-01\n",
       "5           encoding_task   1  44 2.908524e+00 9.516376e-02       1.886507e-03\n",
       "4               group:cue   1  44 2.097014e-02 8.855216e-01       6.371286e-05\n",
       "6     group:encoding_task   1  44 1.432397e+00 2.377826e-01       9.299617e-04\n",
       "7       cue:encoding_task   1  44 5.767113e-01 4.516539e-01       4.074069e-04\n",
       "8 group:cue:encoding_task   1  44 2.877739e+00 9.687706e-02       2.029626e-03\n",
       "\n"
      ]
     },
     "metadata": {},
     "output_type": "display_data"
    }
   ],
   "source": [
    "# First drop the two subs with no RT data, then run the ANOVA . . . and the only sig effect is the huge Cue effect.\n",
    "\n",
    "noe_nog_corr_clean = noe_nog_corr[~((noe_nog_corr.subject == 'SM045') | (noe_nog_corr.subject == 'SM046'))]\n",
    "%Rpush noe_nog_corr_clean\n",
    "# %R str(noe_nog_corr_clean)\n",
    "\n",
    "%R ret_rt <- ezANOVA(dv=RT, wid=subject, within=.(cue,encoding_task), between=group, data=noe_nog_corr_clean)\n",
    "%R print(ret_rt)"
   ]
  },
  {
   "cell_type": "code",
   "execution_count": 73,
   "metadata": {
    "collapsed": false
   },
   "outputs": [
    {
     "name": "stdout",
     "output_type": "stream",
     "text": [
      "cue\n",
      "Question    1619.105743\n",
      "Side         958.978519\n",
      "Name: RT, dtype: float64\n",
      "cue\n",
      "Question    519.317905\n",
      "Side        322.706800\n",
      "Name: RT, dtype: float64\n"
     ]
    }
   ],
   "source": [
    "# Here are the descriptives on the Cue effect (RT in ms)\n",
    "g = noe_nog_corr_clean.groupby(['subject','group','cue','encoding_task'])['RT'].mean()\n",
    "df = g.to_frame()\n",
    "df.reset_index(inplace=True)\n",
    "print 1000*(df.groupby('cue')['RT'].mean())\n",
    "print 1000*(df.groupby('cue')['RT'].std())"
   ]
  },
  {
   "cell_type": "markdown",
   "metadata": {},
   "source": [
    "So the **bottom line** with respect to correct RT is that there is only one strong effect: everyone is slower in response to the Question cue vs. the Side cue."
   ]
  },
  {
   "cell_type": "markdown",
   "metadata": {},
   "source": [
    "### Confidence "
   ]
  },
  {
   "cell_type": "markdown",
   "metadata": {},
   "source": [
    "Confidence is coded as \"high\" or \"low\", which isn't super helpful for ANOVAs, so let's re-express that as the percentage of high confidence responses . . . . "
   ]
  },
  {
   "cell_type": "code",
   "execution_count": 74,
   "metadata": {
    "collapsed": false
   },
   "outputs": [
    {
     "name": "stderr",
     "output_type": "stream",
     "text": [
      "/Users/ebarrick/anaconda/lib/python2.7/site-packages/ipykernel/__main__.py:1: SettingWithCopyWarning: \n",
      "A value is trying to be set on a copy of a slice from a DataFrame.\n",
      "Try using .loc[row_indexer,col_indexer] = value instead\n",
      "\n",
      "See the the caveats in the documentation: http://pandas.pydata.org/pandas-docs/stable/indexing.html#indexing-view-versus-copy\n",
      "  if __name__ == '__main__':\n",
      "/Users/ebarrick/anaconda/lib/python2.7/site-packages/ipykernel/__main__.py:2: SettingWithCopyWarning: \n",
      "A value is trying to be set on a copy of a slice from a DataFrame.\n",
      "Try using .loc[row_indexer,col_indexer] = value instead\n",
      "\n",
      "See the the caveats in the documentation: http://pandas.pydata.org/pandas-docs/stable/indexing.html#indexing-view-versus-copy\n",
      "  from ipykernel import kernelapp as app\n"
     ]
    }
   ],
   "source": [
    "oe['high_confidence'] = oe.confidence.apply(lambda x: 1 if x == 'high' else 0)\n",
    "noe_nog['high_confidence'] = noe_nog.confidence.apply(lambda x: 1 if x == 'high' else 0)"
   ]
  },
  {
   "cell_type": "markdown",
   "metadata": {},
   "source": [
    "#### Odd/Even "
   ]
  },
  {
   "cell_type": "code",
   "execution_count": 75,
   "metadata": {
    "collapsed": false
   },
   "outputs": [
    {
     "data": {
      "text/plain": [
       "<seaborn.axisgrid.FacetGrid at 0x125ac54d0>"
      ]
     },
     "execution_count": 75,
     "metadata": {},
     "output_type": "execute_result"
    },
    {
     "data": {
      "image/png": "[encoded data removed]",
      "text/plain": [
       "<matplotlib.figure.Figure at 0x11f909cd0>"
      ]
     },
     "metadata": {},
     "output_type": "display_data"
    }
   ],
   "source": [
    "# Shows that eveybody is super confidence on Odd/Even trials.\n",
    "sns.factorplot(y='high_confidence',x='group',units='subject',ci=68,kind='bar',data=oe)"
   ]
  },
  {
   "cell_type": "code",
   "execution_count": 76,
   "metadata": {
    "collapsed": false
   },
   "outputs": [
    {
     "name": "stdout",
     "output_type": "stream",
     "text": [
      "group\n",
      "MDD        99.869792\n",
      "control    99.694810\n",
      "Name: high_confidence, dtype: float64\n",
      "group\n",
      "MDD        0.351908\n",
      "control    0.653259\n",
      "Name: high_confidence, dtype: float64\n",
      "t(46) = -1.16, p = 0.254\n"
     ]
    },
    {
     "data": {
      "text/plain": [
       "(-1.155274634980042, 0.2539438198883528)"
      ]
     },
     "execution_count": 76,
     "metadata": {},
     "output_type": "execute_result"
    }
   ],
   "source": [
    "g = oe.groupby(['subject','group'])['high_confidence'].mean()\n",
    "df = g.to_frame()\n",
    "df.reset_index(inplace=True)\n",
    "df.head()\n",
    "print 100*(df.groupby('group')['high_confidence'].mean())\n",
    "print 100*(df.groupby('group')['high_confidence'].std())\n",
    "misc.ttest_2s(df[df.group == 'control']['high_confidence'],df[df.group == 'MDD']['high_confidence'])"
   ]
  },
  {
   "cell_type": "markdown",
   "metadata": {},
   "source": [
    "#### Group x Cue x Task "
   ]
  },
  {
   "cell_type": "code",
   "execution_count": 77,
   "metadata": {
    "collapsed": false
   },
   "outputs": [
    {
     "data": {
      "text/plain": [
       "<seaborn.axisgrid.FacetGrid at 0x1240a2250>"
      ]
     },
     "execution_count": 77,
     "metadata": {},
     "output_type": "execute_result"
    },
    {
     "data": {
      "image/png": "[encoded data removed]",
      "text/plain": [
       "<matplotlib.figure.Figure at 0x128b13050>"
      ]
     },
     "metadata": {},
     "output_type": "display_data"
    }
   ],
   "source": [
    "# So I'm seeing main effects of Cue (Q > S), Task (mobility > animacy, and probably a Group x Cue interaction\n",
    "# because there appears to be HC > MDD under Side but not Cue\n",
    "sns.factorplot(y='high_confidence',x='cue',hue='encoding_task',col='group',units='subject',ci=68,kind='bar',\n",
    "               data=noe_nog)"
   ]
  },
  {
   "cell_type": "code",
   "execution_count": 78,
   "metadata": {
    "collapsed": false
   },
   "outputs": [
    {
     "data": {
      "image/png": "[encoded data removed]",
      "text/plain": [
       "<matplotlib.figure.Figure at 0x123f36950>"
      ]
     },
     "metadata": {},
     "output_type": "display_data"
    }
   ],
   "source": [
    "sns.factorplot(y='high_confidence',x='group',hue='cue',col='encoding_task',units='subject',ci=68,kind='bar',\n",
    "               data=noe_nog,order = ['MDD','control'])\n",
    "sns.plt.savefig(path2figs + 'Ret_Conf_GxCxT_new.pdf')"
   ]
  },
  {
   "cell_type": "code",
   "execution_count": 79,
   "metadata": {
    "collapsed": false
   },
   "outputs": [
    {
     "name": "stdout",
     "output_type": "stream",
     "text": [
      "group    cue       encoding_task\n",
      "MDD      Question  animacy          61.993910\n",
      "                   mobility         65.848451\n",
      "         Side      animacy          42.425926\n",
      "                   mobility         45.459879\n",
      "control  Question  animacy          63.620718\n",
      "                   mobility         68.580769\n",
      "         Side      animacy          56.596250\n",
      "                   mobility         58.848322\n",
      "Name: high_confidence, dtype: float64\n",
      "\n",
      "\n",
      "group    cue       encoding_task\n",
      "MDD      Question  animacy          20.082089\n",
      "                   mobility         19.036603\n",
      "         Side      animacy          18.558922\n",
      "                   mobility         17.907900\n",
      "control  Question  animacy          26.318211\n",
      "                   mobility         23.254590\n",
      "         Side      animacy          24.170202\n",
      "                   mobility         25.825928\n",
      "Name: high_confidence, dtype: float64\n"
     ]
    }
   ],
   "source": [
    "# Let's get some descriptives\n",
    "g = noe_nog.groupby(['subject','group','cue','encoding_task'])['high_confidence'].mean()\n",
    "df = g.to_frame()\n",
    "df.reset_index(inplace=True)\n",
    "# df.head()\n",
    "print 100*(df.groupby(['group','cue','encoding_task'])['high_confidence'].mean())\n",
    "print '\\n'\n",
    "print 100*(df.groupby(['group','cue','encoding_task'])['high_confidence'].std())"
   ]
  },
  {
   "cell_type": "code",
   "execution_count": 80,
   "metadata": {
    "collapsed": false
   },
   "outputs": [
    {
     "data": {
      "text/plain": [
       "$ANOVA\n",
       "                   Effect DFn DFd            F            p p<.05          ges\n",
       "2                   group   1  46  2.101584506 1.539307e-01       3.282390e-02\n",
       "3                     cue   1  46 26.100952398 6.093812e-06     * 9.677930e-02\n",
       "5           encoding_task   1  46  6.722888266 1.271939e-02     * 6.579992e-03\n",
       "4               group:cue   1  46  4.367635639 4.218467e-02     * 1.761411e-02\n",
       "6     group:encoding_task   1  46  0.003541379 9.528041e-01       3.489052e-06\n",
       "7       cue:encoding_task   1  46  0.829521565 3.671590e-01       4.146030e-04\n",
       "8 group:cue:encoding_task   1  46  0.237331113 6.284539e-01       1.186555e-04\n",
       "\n"
      ]
     },
     "metadata": {},
     "output_type": "display_data"
    }
   ],
   "source": [
    "# Yup, main effects of Cue and Task plus a Group x Cue interaction\n",
    "\n",
    "%Rpush noe_nog\n",
    "# %R str(noe_nog)\n",
    "\n",
    "%R ret_conf <- ezANOVA(dv=high_confidence, wid=subject, within=.(cue,encoding_task), between=group, data=noe_nog)\n",
    "%R print(ret_conf)"
   ]
  },
  {
   "cell_type": "code",
   "execution_count": 81,
   "metadata": {
    "collapsed": false
   },
   "outputs": [
    {
     "name": "stdout",
     "output_type": "stream",
     "text": [
      "t(-2) = nan, p = nan\n",
      "t(-2) = nan, p = nan\n"
     ]
    },
    {
     "data": {
      "text/plain": [
       "(nan, nan)"
      ]
     },
     "execution_count": 81,
     "metadata": {},
     "output_type": "execute_result"
    }
   ],
   "source": [
    "# Okay, so let's just run b/w group t-tests on % high confidence responses at each level of cue\n",
    "g = noe_nog.groupby(['subject','group','cue'])['high_confidence'].mean()\n",
    "df = g.to_frame()\n",
    "df.reset_index(inplace=True)\n",
    "df.head()\n",
    "\n",
    "# Question: no difference\n",
    "misc.ttest_2s(df[(df.group == 0) & (df.cue == 'Question')]['high_confidence'],\n",
    "              df[(df.group == 1) & (df.cue == 'Question')]['high_confidence'], paired=False)\n",
    "\n",
    "# Side: group difference, HC > MDD\n",
    "misc.ttest_2s(df[(df.group == 0) & (df.cue == 'Side')]['high_confidence'],\n",
    "              df[(df.group == 1) & (df.cue == 'Side')]['high_confidence'], paired=False)"
   ]
  },
  {
   "cell_type": "markdown",
   "metadata": {},
   "source": [
    "So the **bottom line** with respect to confidence is that everybody is more confident in response to the Question vs. the Side cue and in response to words from the mobility vs. the animacy task, and the depressed group was less confident than the control group under the Side cue."
   ]
  },
  {
   "cell_type": "markdown",
   "metadata": {},
   "source": [
    "## ERPs "
   ]
  },
  {
   "cell_type": "markdown",
   "metadata": {},
   "source": [
    "Let's try the same Group x Cue x Task approach with the ANOVAs, relying on the MUT. The challenge with that is that's it not possible to simply run the ANOVA in one-step, so we will need to do it in a more piecemeal fashion. Here's how: (1) in controls, compute a \"mobility - animacy\" difference wave under the Question cue (so Q:M-A), repeat that under the Side cue (so S:M-A), and the compute a difference of differences (so Q:M-A minus S:M-A); (2) repeat all that in the MDD group; and (3) do Controls vs. MDD for Q:M-A minus S:M-A. That is the equivalent of the full 2 x 2 x 2 ANOVA. If we find significant group differences, we can look at the waveforms in electrodes that show the difference."
   ]
  },
  {
   "cell_type": "code",
   "execution_count": 82,
   "metadata": {
    "collapsed": false
   },
   "outputs": [
    {
     "name": "stdout",
     "output_type": "stream",
     "text": [
      "/Users/ebarrick/Work/Expts/SOURCE/Analysis/ERPs\n"
     ]
    }
   ],
   "source": [
    "%cd {path2erps}"
   ]
  },
  {
   "cell_type": "code",
   "execution_count": 83,
   "metadata": {
    "collapsed": true
   },
   "outputs": [],
   "source": [
    "#clean up csv files, adding in columns for cue, task, and laterality\n",
    "\n",
    "def elec2laterality(electrode):\n",
    "       \n",
    "    left = [48,49,43,56,44,38,57,63,128,39,45,50,32,33,40,46,58,64,68,34,51,35,41,47,25,26,27,59,65,28,52,36,69,\n",
    "           42,23,29,73,24,53,22,60,66,21,20,30,37,70,127,18,19,13,31,54,61,67,74,71,12,7]\n",
    "    right = [5,106,126,10,4,112,80,79,78,77,76,82,14,118,105,87,83,9,86,85,84,88,3,124,111,104,93,89,117,92,8,2,\n",
    "             123,98,91,90,110,103,116,97,1,122,109,102,96,95,94,115,108,101,125,121,114,100,99,120,113,107,119]\n",
    "    midline = [17,15,16,11,6,55,62,72,75,81]\n",
    "    \n",
    "    if electrode in left:\n",
    "        laterality = 'left'\n",
    "    elif electrode in right:\n",
    "        laterality = 'right'\n",
    "    elif electrode in midline:\n",
    "        laterality = 'midline'\n",
    "\n",
    "    return laterality\n",
    "\n",
    "def condition2task(condition):\n",
    "    \n",
    "    animacy = [97,111]\n",
    "    mobility = [104,118]\n",
    "    \n",
    "    if condition in animacy:\n",
    "        task = 'animacy'\n",
    "    elif condition in mobility:\n",
    "        task = 'mobility'\n",
    "\n",
    "    return task\n",
    "\n",
    "def condition2cue(condition):\n",
    "    \n",
    "    side = [97,104]\n",
    "    question = [111,118]\n",
    "    \n",
    "    if condition in side:\n",
    "        cue = 'Side'\n",
    "    elif condition in question:\n",
    "        cue = 'Question'\n",
    "\n",
    "    return cue\n",
    "    \n",
    "def make_clean_df(csv):\n",
    "    '''Read in a mean amps CSV and return a cleaned up df.'''\n",
    "    df = pd.read_csv(csv,sep=\"\\t\",skipinitialspace=True)\n",
    "    new_cols = ['time','uV','electrode','electrode_label','condition','subject']\n",
    "    df.columns = new_cols\n",
    "    df.electrode_label.replace({'E60':'P1','E52':'P3','E51':'P5',\n",
    "                                'E58':'P7','E85':'P2','E92':'P4','E97':'P6',\n",
    "                                'E96':'P8','E26':'AF7','E19':'F1',\n",
    "                                'E24':'F3','E27':'F5','E33':'F7',\n",
    "                               'E2':'AF8','E4':'F2','E124':'F4',\n",
    "                                'E123':'F6','E122':'F8',\n",
    "                               'E67':'PO3','E70':'O1','E62':'Pz',\n",
    "                                'E72':'POz','E75':'Oz','E77':'PO4','E83':'O2'},\n",
    "                               inplace=True)    \n",
    "    df.subject = df.subject.map(lambda x: x.strip('_ERPs'))\n",
    "    df['laterality'] = df.electrode.map(lambda x: elec2laterality(x))\n",
    "    df['task'] = df.condition.map(lambda x: condition2task(x))\n",
    "    df['cue'] = df.condition.map(lambda x: condition2cue(x))\n",
    "    df = df[['subject','time','condition','cue','task','laterality',\n",
    "             'electrode','electrode_label','uV']]\n",
    "    df.condition.replace({97:'animacy side hit', 104:'mobility side hit', \n",
    "                          111:'animacy question hit',\n",
    "                          118:'mobility question hit'},inplace=True)\n",
    "    \n",
    "    return df"
   ]
  },
  {
   "cell_type": "markdown",
   "metadata": {},
   "source": [
    "### The following analyses are based on the traditional 4 left (P3, P5, P7, P1) and 4 right (P4, P6, P8, P2) electrodes"
   ]
  },
  {
   "cell_type": "code",
   "execution_count": 84,
   "metadata": {
    "collapsed": false
   },
   "outputs": [
    {
     "data": {
      "text/html": [
       "<div>\n",
       "<table border=\"1\" class=\"dataframe\">\n",
       "  <thead>\n",
       "    <tr style=\"text-align: right;\">\n",
       "      <th></th>\n",
       "      <th>subject</th>\n",
       "      <th>time</th>\n",
       "      <th>condition</th>\n",
       "      <th>cue</th>\n",
       "      <th>task</th>\n",
       "      <th>laterality</th>\n",
       "      <th>electrode</th>\n",
       "      <th>electrode_label</th>\n",
       "      <th>uV</th>\n",
       "      <th>group</th>\n",
       "    </tr>\n",
       "  </thead>\n",
       "  <tbody>\n",
       "    <tr>\n",
       "      <th>0</th>\n",
       "      <td>SM011</td>\n",
       "      <td>[400.0  800.0]</td>\n",
       "      <td>animacy side hit</td>\n",
       "      <td>Side</td>\n",
       "      <td>animacy</td>\n",
       "      <td>left</td>\n",
       "      <td>51</td>\n",
       "      <td>P5</td>\n",
       "      <td>-0.992</td>\n",
       "      <td>control</td>\n",
       "    </tr>\n",
       "    <tr>\n",
       "      <th>1</th>\n",
       "      <td>SM011</td>\n",
       "      <td>[400.0  800.0]</td>\n",
       "      <td>animacy side hit</td>\n",
       "      <td>Side</td>\n",
       "      <td>animacy</td>\n",
       "      <td>left</td>\n",
       "      <td>52</td>\n",
       "      <td>P3</td>\n",
       "      <td>1.481</td>\n",
       "      <td>control</td>\n",
       "    </tr>\n",
       "    <tr>\n",
       "      <th>2</th>\n",
       "      <td>SM011</td>\n",
       "      <td>[400.0  800.0]</td>\n",
       "      <td>animacy side hit</td>\n",
       "      <td>Side</td>\n",
       "      <td>animacy</td>\n",
       "      <td>left</td>\n",
       "      <td>58</td>\n",
       "      <td>P7</td>\n",
       "      <td>-0.048</td>\n",
       "      <td>control</td>\n",
       "    </tr>\n",
       "    <tr>\n",
       "      <th>3</th>\n",
       "      <td>SM011</td>\n",
       "      <td>[400.0  800.0]</td>\n",
       "      <td>animacy side hit</td>\n",
       "      <td>Side</td>\n",
       "      <td>animacy</td>\n",
       "      <td>left</td>\n",
       "      <td>60</td>\n",
       "      <td>P1</td>\n",
       "      <td>-1.063</td>\n",
       "      <td>control</td>\n",
       "    </tr>\n",
       "    <tr>\n",
       "      <th>4</th>\n",
       "      <td>SM011</td>\n",
       "      <td>[400.0  800.0]</td>\n",
       "      <td>animacy side hit</td>\n",
       "      <td>Side</td>\n",
       "      <td>animacy</td>\n",
       "      <td>right</td>\n",
       "      <td>85</td>\n",
       "      <td>P2</td>\n",
       "      <td>-0.861</td>\n",
       "      <td>control</td>\n",
       "    </tr>\n",
       "  </tbody>\n",
       "</table>\n",
       "</div>"
      ],
      "text/plain": [
       "  subject            time         condition   cue     task laterality  \\\n",
       "0   SM011  [400.0  800.0]  animacy side hit  Side  animacy       left   \n",
       "1   SM011  [400.0  800.0]  animacy side hit  Side  animacy       left   \n",
       "2   SM011  [400.0  800.0]  animacy side hit  Side  animacy       left   \n",
       "3   SM011  [400.0  800.0]  animacy side hit  Side  animacy       left   \n",
       "4   SM011  [400.0  800.0]  animacy side hit  Side  animacy      right   \n",
       "\n",
       "   electrode electrode_label     uV    group  \n",
       "0         51              P5 -0.992  control  \n",
       "1         52              P3  1.481  control  \n",
       "2         58              P7 -0.048  control  \n",
       "3         60              P1 -1.063  control  \n",
       "4         85              P2 -0.861  control  "
      ]
     },
     "execution_count": 84,
     "metadata": {},
     "output_type": "execute_result"
    }
   ],
   "source": [
    "hc_par = make_clean_df(path2erps + 'MeanAmps/HC/HC_EncTask_RetCue_Parietal_400_800.txt')\n",
    "mdd_par = make_clean_df(path2erps + 'MeanAmps/MDD/MDD_EncTask_RetCue_Parietal_400_800.txt')\n",
    "hc_par['group'] = 'control'\n",
    "mdd_par['group'] = 'MDD'\n",
    "all_par = pd.concat([hc_par,mdd_par])\n",
    "all_par.head()"
   ]
  },
  {
   "cell_type": "code",
   "execution_count": 85,
   "metadata": {
    "collapsed": false
   },
   "outputs": [
    {
     "data": {
      "text/plain": [
       "array(['P5', 'P3', 'P7', 'P1', 'P2', 'P4', 'P8', 'P6'], dtype=object)"
      ]
     },
     "execution_count": 85,
     "metadata": {},
     "output_type": "execute_result"
    }
   ],
   "source": [
    "all_par.electrode_label.unique()"
   ]
  },
  {
   "cell_type": "code",
   "execution_count": 86,
   "metadata": {
    "collapsed": false
   },
   "outputs": [
    {
     "data": {
      "text/plain": [
       "group\n",
       "MDD        24\n",
       "control    24\n",
       "Name: subject, dtype: int64"
      ]
     },
     "execution_count": 86,
     "metadata": {},
     "output_type": "execute_result"
    }
   ],
   "source": [
    "all_par.groupby('group')['subject'].nunique()"
   ]
  },
  {
   "cell_type": "code",
   "execution_count": 87,
   "metadata": {
    "collapsed": false
   },
   "outputs": [
    {
     "data": {
      "text/plain": [
       "<seaborn.axisgrid.FacetGrid at 0x126072c10>"
      ]
     },
     "execution_count": 87,
     "metadata": {},
     "output_type": "execute_result"
    },
    {
     "data": {
      "image/png": "[encoded data removed]",
      "text/plain": [
       "<matplotlib.figure.Figure at 0x1260727d0>"
      ]
     },
     "metadata": {},
     "output_type": "display_data"
    }
   ],
   "source": [
    "f = sns.factorplot(y = 'uV', x = 'condition',hue='group',kind='bar',units='subject',ci=68,\n",
    "                   data=all_par)\n",
    "f.set_xticklabels(rotation=60)"
   ]
  },
  {
   "cell_type": "code",
   "execution_count": 88,
   "metadata": {
    "collapsed": false
   },
   "outputs": [
    {
     "data": {
      "text/plain": [
       "<seaborn.axisgrid.FacetGrid at 0x128b3f590>"
      ]
     },
     "execution_count": 88,
     "metadata": {},
     "output_type": "execute_result"
    },
    {
     "data": {
      "image/png": "[encoded data removed]",
      "text/plain": [
       "<matplotlib.figure.Figure at 0x12c40e590>"
      ]
     },
     "metadata": {},
     "output_type": "display_data"
    }
   ],
   "source": [
    "f = sns.factorplot(y = 'uV', x = 'condition',hue='group',col='laterality',kind='bar',units='subject',ci=68,\n",
    "                   data=all_par)\n",
    "f.set_xticklabels(rotation=60)"
   ]
  },
  {
   "cell_type": "code",
   "execution_count": 89,
   "metadata": {
    "collapsed": false
   },
   "outputs": [
    {
     "data": {
      "image/png": "[encoded data removed]",
      "text/plain": [
       "<matplotlib.figure.Figure at 0x12caa5e90>"
      ]
     },
     "metadata": {},
     "output_type": "display_data"
    }
   ],
   "source": [
    "f = sns.factorplot(y = 'uV', x = 'group',hue='cue',col='task',kind='bar',units='subject',ci=68,\n",
    "                   data=all_par, order =['MDD','control'],col_order=['mobility','animacy'],hue_order=['Question','Side'])\n",
    "f.set_xticklabels(rotation=60)\n",
    "sns.plt.savefig(path2figs + 'Par_uV_GxCxT.pdf')"
   ]
  },
  {
   "cell_type": "code",
   "execution_count": 90,
   "metadata": {
    "collapsed": false
   },
   "outputs": [
    {
     "data": {
      "text/plain": [
       "$ANOVA\n",
       "                      Effect DFn DFd           F          p p<.05          ges\n",
       "2                      group   1  46  4.48335496 0.03966354     * 5.293110e-02\n",
       "3                        cue   1  46 10.34378385 0.00237944     * 5.040041e-03\n",
       "5                       task   1  46  0.37900348 0.54117126       2.651048e-04\n",
       "7                 laterality   1  46  0.02152881 0.88398868       1.214792e-04\n",
       "4                  group:cue   1  46  0.03700366 0.84830432       1.812116e-05\n",
       "6                 group:task   1  46  0.10860080 0.74323871       7.597829e-05\n",
       "8           group:laterality   1  46  0.08108244 0.77711390       4.573648e-04\n",
       "9                   cue:task   1  46  1.95804988 0.16842945       2.697534e-03\n",
       "11            cue:laterality   1  46  1.41796608 0.23984712       5.016650e-04\n",
       "13           task:laterality   1  46  0.79427935 0.37744735       2.920873e-04\n",
       "10            group:cue:task   1  46  3.17517741 0.08136696       4.367004e-03\n",
       "12      group:cue:laterality   1  46  1.40922422 0.24127958       4.985737e-04\n",
       "14     group:task:laterality   1  46  1.20674391 0.27769457       4.436992e-04\n",
       "15       cue:task:laterality   1  46  0.03044076 0.86225953       1.026595e-05\n",
       "16 group:cue:task:laterality   1  46  0.30587652 0.58289963       1.031452e-04\n",
       "\n"
      ]
     },
     "metadata": {},
     "output_type": "display_data"
    }
   ],
   "source": [
    "#significant effect of group and cue, but not for GroupxCuexTask (though trending in the direction)\n",
    "\n",
    "%Rpush all_par\n",
    "\n",
    "%R erp_par <- ezANOVA(dv=uV, wid=subject, within=.(cue,task,laterality), between=group, data=all_par)\n",
    "%R print(erp_par)"
   ]
  },
  {
   "cell_type": "code",
   "execution_count": 91,
   "metadata": {
    "collapsed": false
   },
   "outputs": [
    {
     "data": {
      "text/html": [
       "<div>\n",
       "<table border=\"1\" class=\"dataframe\">\n",
       "  <thead>\n",
       "    <tr style=\"text-align: right;\">\n",
       "      <th></th>\n",
       "      <th>subject</th>\n",
       "      <th>group</th>\n",
       "      <th>condition</th>\n",
       "      <th>uV</th>\n",
       "    </tr>\n",
       "  </thead>\n",
       "  <tbody>\n",
       "    <tr>\n",
       "      <th>0</th>\n",
       "      <td>SM011</td>\n",
       "      <td>control</td>\n",
       "      <td>animacy question hit</td>\n",
       "      <td>1.505500</td>\n",
       "    </tr>\n",
       "    <tr>\n",
       "      <th>1</th>\n",
       "      <td>SM011</td>\n",
       "      <td>control</td>\n",
       "      <td>animacy side hit</td>\n",
       "      <td>-0.317625</td>\n",
       "    </tr>\n",
       "    <tr>\n",
       "      <th>2</th>\n",
       "      <td>SM011</td>\n",
       "      <td>control</td>\n",
       "      <td>mobility question hit</td>\n",
       "      <td>1.684625</td>\n",
       "    </tr>\n",
       "    <tr>\n",
       "      <th>3</th>\n",
       "      <td>SM011</td>\n",
       "      <td>control</td>\n",
       "      <td>mobility side hit</td>\n",
       "      <td>0.959875</td>\n",
       "    </tr>\n",
       "    <tr>\n",
       "      <th>4</th>\n",
       "      <td>SM013</td>\n",
       "      <td>control</td>\n",
       "      <td>animacy question hit</td>\n",
       "      <td>1.938375</td>\n",
       "    </tr>\n",
       "  </tbody>\n",
       "</table>\n",
       "</div>"
      ],
      "text/plain": [
       "  subject    group              condition        uV\n",
       "0   SM011  control   animacy question hit  1.505500\n",
       "1   SM011  control       animacy side hit -0.317625\n",
       "2   SM011  control  mobility question hit  1.684625\n",
       "3   SM011  control      mobility side hit  0.959875\n",
       "4   SM013  control   animacy question hit  1.938375"
      ]
     },
     "execution_count": 91,
     "metadata": {},
     "output_type": "execute_result"
    }
   ],
   "source": [
    "g = all_par.groupby(['subject','group','condition'])['uV'].mean()\n",
    "\n",
    "df2=pd.DataFrame(g)\n",
    "df2.reset_index(inplace=True)\n",
    "\n",
    "df2.head()"
   ]
  },
  {
   "cell_type": "code",
   "execution_count": 92,
   "metadata": {
    "collapsed": false
   },
   "outputs": [
    {
     "data": {
      "text/html": [
       "<div>\n",
       "<table border=\"1\" class=\"dataframe\">\n",
       "  <thead>\n",
       "    <tr style=\"text-align: right;\">\n",
       "      <th></th>\n",
       "      <th>subject</th>\n",
       "      <th>group</th>\n",
       "      <th>animacy question</th>\n",
       "      <th>animacy side</th>\n",
       "      <th>mobility question</th>\n",
       "      <th>mobility side</th>\n",
       "    </tr>\n",
       "  </thead>\n",
       "  <tbody>\n",
       "    <tr>\n",
       "      <th>0</th>\n",
       "      <td>SM011</td>\n",
       "      <td>control</td>\n",
       "      <td>1.505500</td>\n",
       "      <td>-0.317625</td>\n",
       "      <td>1.684625</td>\n",
       "      <td>0.959875</td>\n",
       "    </tr>\n",
       "    <tr>\n",
       "      <th>1</th>\n",
       "      <td>SM013</td>\n",
       "      <td>control</td>\n",
       "      <td>1.938375</td>\n",
       "      <td>1.436750</td>\n",
       "      <td>3.152250</td>\n",
       "      <td>1.768750</td>\n",
       "    </tr>\n",
       "    <tr>\n",
       "      <th>2</th>\n",
       "      <td>SM014</td>\n",
       "      <td>control</td>\n",
       "      <td>-0.235000</td>\n",
       "      <td>-1.564125</td>\n",
       "      <td>-1.428875</td>\n",
       "      <td>-0.442625</td>\n",
       "    </tr>\n",
       "    <tr>\n",
       "      <th>3</th>\n",
       "      <td>SM015</td>\n",
       "      <td>MDD</td>\n",
       "      <td>1.306375</td>\n",
       "      <td>0.613625</td>\n",
       "      <td>1.887500</td>\n",
       "      <td>1.378250</td>\n",
       "    </tr>\n",
       "    <tr>\n",
       "      <th>4</th>\n",
       "      <td>SM017</td>\n",
       "      <td>control</td>\n",
       "      <td>3.690625</td>\n",
       "      <td>4.321750</td>\n",
       "      <td>4.313875</td>\n",
       "      <td>4.182875</td>\n",
       "    </tr>\n",
       "  </tbody>\n",
       "</table>\n",
       "</div>"
      ],
      "text/plain": [
       "  subject    group  animacy question  animacy side  mobility question  \\\n",
       "0   SM011  control          1.505500     -0.317625           1.684625   \n",
       "1   SM013  control          1.938375      1.436750           3.152250   \n",
       "2   SM014  control         -0.235000     -1.564125          -1.428875   \n",
       "3   SM015      MDD          1.306375      0.613625           1.887500   \n",
       "4   SM017  control          3.690625      4.321750           4.313875   \n",
       "\n",
       "   mobility side  \n",
       "0       0.959875  \n",
       "1       1.768750  \n",
       "2      -0.442625  \n",
       "3       1.378250  \n",
       "4       4.182875  "
      ]
     },
     "execution_count": 92,
     "metadata": {},
     "output_type": "execute_result"
    }
   ],
   "source": [
    "df3 = df2.pivot_table(index=['subject','group'], columns='condition', values='uV')\n",
    "df3.reset_index(drop=False,inplace=True)\n",
    "df3.columns = ['subject','group','animacy question','animacy side','mobility question','mobility side']\n",
    "df3.head()"
   ]
  },
  {
   "cell_type": "code",
   "execution_count": 93,
   "metadata": {
    "collapsed": true
   },
   "outputs": [],
   "source": [
    "df3['animacy q-s'] = df3['animacy question']-df3['animacy side']\n",
    "df3['mobility q-s'] = df3['mobility question']-df3['mobility side']"
   ]
  },
  {
   "cell_type": "code",
   "execution_count": 94,
   "metadata": {
    "collapsed": false
   },
   "outputs": [
    {
     "data": {
      "text/html": [
       "<div>\n",
       "<table border=\"1\" class=\"dataframe\">\n",
       "  <thead>\n",
       "    <tr style=\"text-align: right;\">\n",
       "      <th></th>\n",
       "      <th>subject</th>\n",
       "      <th>group</th>\n",
       "      <th>animacy question</th>\n",
       "      <th>animacy side</th>\n",
       "      <th>mobility question</th>\n",
       "      <th>mobility side</th>\n",
       "      <th>animacy q-s</th>\n",
       "      <th>mobility q-s</th>\n",
       "    </tr>\n",
       "  </thead>\n",
       "  <tbody>\n",
       "    <tr>\n",
       "      <th>0</th>\n",
       "      <td>SM011</td>\n",
       "      <td>control</td>\n",
       "      <td>1.505500</td>\n",
       "      <td>-0.317625</td>\n",
       "      <td>1.684625</td>\n",
       "      <td>0.959875</td>\n",
       "      <td>1.823125</td>\n",
       "      <td>0.72475</td>\n",
       "    </tr>\n",
       "    <tr>\n",
       "      <th>1</th>\n",
       "      <td>SM013</td>\n",
       "      <td>control</td>\n",
       "      <td>1.938375</td>\n",
       "      <td>1.436750</td>\n",
       "      <td>3.152250</td>\n",
       "      <td>1.768750</td>\n",
       "      <td>0.501625</td>\n",
       "      <td>1.38350</td>\n",
       "    </tr>\n",
       "    <tr>\n",
       "      <th>2</th>\n",
       "      <td>SM014</td>\n",
       "      <td>control</td>\n",
       "      <td>-0.235000</td>\n",
       "      <td>-1.564125</td>\n",
       "      <td>-1.428875</td>\n",
       "      <td>-0.442625</td>\n",
       "      <td>1.329125</td>\n",
       "      <td>-0.98625</td>\n",
       "    </tr>\n",
       "    <tr>\n",
       "      <th>3</th>\n",
       "      <td>SM015</td>\n",
       "      <td>MDD</td>\n",
       "      <td>1.306375</td>\n",
       "      <td>0.613625</td>\n",
       "      <td>1.887500</td>\n",
       "      <td>1.378250</td>\n",
       "      <td>0.692750</td>\n",
       "      <td>0.50925</td>\n",
       "    </tr>\n",
       "    <tr>\n",
       "      <th>4</th>\n",
       "      <td>SM017</td>\n",
       "      <td>control</td>\n",
       "      <td>3.690625</td>\n",
       "      <td>4.321750</td>\n",
       "      <td>4.313875</td>\n",
       "      <td>4.182875</td>\n",
       "      <td>-0.631125</td>\n",
       "      <td>0.13100</td>\n",
       "    </tr>\n",
       "  </tbody>\n",
       "</table>\n",
       "</div>"
      ],
      "text/plain": [
       "  subject    group  animacy question  animacy side  mobility question  \\\n",
       "0   SM011  control          1.505500     -0.317625           1.684625   \n",
       "1   SM013  control          1.938375      1.436750           3.152250   \n",
       "2   SM014  control         -0.235000     -1.564125          -1.428875   \n",
       "3   SM015      MDD          1.306375      0.613625           1.887500   \n",
       "4   SM017  control          3.690625      4.321750           4.313875   \n",
       "\n",
       "   mobility side  animacy q-s  mobility q-s  \n",
       "0       0.959875     1.823125       0.72475  \n",
       "1       1.768750     0.501625       1.38350  \n",
       "2      -0.442625     1.329125      -0.98625  \n",
       "3       1.378250     0.692750       0.50925  \n",
       "4       4.182875    -0.631125       0.13100  "
      ]
     },
     "execution_count": 94,
     "metadata": {},
     "output_type": "execute_result"
    }
   ],
   "source": [
    "df3.head()"
   ]
  },
  {
   "cell_type": "code",
   "execution_count": 95,
   "metadata": {
    "collapsed": true
   },
   "outputs": [],
   "source": [
    "animacy_diff = df3[['subject', 'group', 'animacy q-s']].copy()\n",
    "animacy_diff['task'] = 'animacy'\n",
    "animacy_diff.columns = ['subject','group','value','task']\n",
    "\n",
    "mobility_diff=df3[['subject','group','mobility q-s']].copy()\n",
    "mobility_diff['task'] = 'mobility'\n",
    "mobility_diff.columns = ['subject','group','value','task']"
   ]
  },
  {
   "cell_type": "code",
   "execution_count": 96,
   "metadata": {
    "collapsed": false
   },
   "outputs": [
    {
     "data": {
      "text/html": [
       "<div>\n",
       "<table border=\"1\" class=\"dataframe\">\n",
       "  <thead>\n",
       "    <tr style=\"text-align: right;\">\n",
       "      <th></th>\n",
       "      <th>subject</th>\n",
       "      <th>group</th>\n",
       "      <th>value</th>\n",
       "      <th>task</th>\n",
       "    </tr>\n",
       "  </thead>\n",
       "  <tbody>\n",
       "    <tr>\n",
       "      <th>0</th>\n",
       "      <td>SM011</td>\n",
       "      <td>control</td>\n",
       "      <td>0.72475</td>\n",
       "      <td>mobility</td>\n",
       "    </tr>\n",
       "    <tr>\n",
       "      <th>1</th>\n",
       "      <td>SM013</td>\n",
       "      <td>control</td>\n",
       "      <td>1.38350</td>\n",
       "      <td>mobility</td>\n",
       "    </tr>\n",
       "    <tr>\n",
       "      <th>2</th>\n",
       "      <td>SM014</td>\n",
       "      <td>control</td>\n",
       "      <td>-0.98625</td>\n",
       "      <td>mobility</td>\n",
       "    </tr>\n",
       "    <tr>\n",
       "      <th>3</th>\n",
       "      <td>SM015</td>\n",
       "      <td>MDD</td>\n",
       "      <td>0.50925</td>\n",
       "      <td>mobility</td>\n",
       "    </tr>\n",
       "    <tr>\n",
       "      <th>4</th>\n",
       "      <td>SM017</td>\n",
       "      <td>control</td>\n",
       "      <td>0.13100</td>\n",
       "      <td>mobility</td>\n",
       "    </tr>\n",
       "  </tbody>\n",
       "</table>\n",
       "</div>"
      ],
      "text/plain": [
       "  subject    group    value      task\n",
       "0   SM011  control  0.72475  mobility\n",
       "1   SM013  control  1.38350  mobility\n",
       "2   SM014  control -0.98625  mobility\n",
       "3   SM015      MDD  0.50925  mobility\n",
       "4   SM017  control  0.13100  mobility"
      ]
     },
     "execution_count": 96,
     "metadata": {},
     "output_type": "execute_result"
    }
   ],
   "source": [
    "# Question-Side by task\n",
    "g = pd.concat([mobility_diff,animacy_diff])\n",
    "df4 = pd.DataFrame(g)\n",
    "df4.head()"
   ]
  },
  {
   "cell_type": "code",
   "execution_count": 97,
   "metadata": {
    "collapsed": false
   },
   "outputs": [
    {
     "data": {
      "text/plain": [
       "$ANOVA\n",
       "      Effect DFn DFd          F          p p<.05          ges\n",
       "2      group   1  46 0.03700366 0.84830432       0.0002104965\n",
       "3       task   1  46 1.95804988 0.16842945       0.0304680535\n",
       "4 group:task   1  46 3.17517741 0.08136696       0.0484887256\n",
       "\n"
      ]
     },
     "metadata": {},
     "output_type": "display_data"
    }
   ],
   "source": [
    "%Rpush df4\n",
    "\n",
    "%R uv_par <- ezANOVA(dv=value, wid=subject, within=task, between=group, data=df4)\n",
    "%R print (uv_par)"
   ]
  },
  {
   "cell_type": "code",
   "execution_count": 98,
   "metadata": {
    "collapsed": false
   },
   "outputs": [
    {
     "name": "stdout",
     "output_type": "stream",
     "text": [
      "t(46) = -1.70, p = 0.096\n",
      "t(46) = 1.38, p = 0.175\n",
      "t(23) = -0.32, p = 0.749\n",
      "t(23) = 1.97, p = 0.061\n"
     ]
    },
    {
     "data": {
      "text/plain": [
       "(1.9711360791482013, 0.060857240700011667)"
      ]
     },
     "execution_count": 98,
     "metadata": {},
     "output_type": "execute_result"
    }
   ],
   "source": [
    "misc.ttest_2s(df4[(df4.group == 'control') & (df4.task == 'mobility')]['value'],\n",
    "             df4[(df4.group == 'MDD') & (df4.task == 'mobility')]['value'], paired=False)\n",
    "\n",
    "misc.ttest_2s(df4[(df4.group == 'control') & (df4.task == 'animacy')]['value'],\n",
    "             df4[(df4.group == 'MDD') & (df4.task == 'animacy')]['value'],paired = False)\n",
    "\n",
    "misc.ttest_2s(df4[(df4.group == 'control') & (df4.task == 'mobility')]['value'],\n",
    "             df4[(df4.group == 'control') & (df4.task == 'animacy')]['value'], paired = True)\n",
    "\n",
    "misc.ttest_2s(df4[(df4.group == 'MDD') & (df4.task == 'mobility')]['value'],\n",
    "             df4[(df4.group == 'MDD') & (df4.task == 'animacy')]['value'], paired = True)"
   ]
  },
  {
   "cell_type": "code",
   "execution_count": 99,
   "metadata": {
    "collapsed": false
   },
   "outputs": [
    {
     "data": {
      "image/png": "[encoded data removed]",
      "text/plain": [
       "<matplotlib.figure.Figure at 0x12c8c9f10>"
      ]
     },
     "metadata": {},
     "output_type": "display_data"
    }
   ],
   "source": [
    "sns.factorplot(y='animacy q-s',x='group',units='subject',ci=68,kind='bar',data=df3, order =['MDD','control'])\n",
    "sns.plt.savefig(path2figs + 'Par_uV_animacy_diff.pdf')"
   ]
  },
  {
   "cell_type": "code",
   "execution_count": 100,
   "metadata": {
    "collapsed": false
   },
   "outputs": [
    {
     "data": {
      "image/png": "[encoded data removed]",
      "text/plain": [
       "<matplotlib.figure.Figure at 0x12ce54810>"
      ]
     },
     "metadata": {},
     "output_type": "display_data"
    }
   ],
   "source": [
    "sns.factorplot(y='mobility q-s',x='group',units='subject',ci=68,kind='bar',data=df3, order = ['MDD','control'])\n",
    "sns.plt.savefig(path2figs + 'Par_uV_mobility_diff.pdf')"
   ]
  },
  {
   "cell_type": "code",
   "execution_count": 101,
   "metadata": {
    "collapsed": false,
    "scrolled": true
   },
   "outputs": [],
   "source": [
    "g = all_par.groupby(['subject','group','cue','task'])['uV'].mean()\n",
    "df5=pd.DataFrame(g)\n",
    "df5.reset_index(inplace=True)"
   ]
  },
  {
   "cell_type": "code",
   "execution_count": 102,
   "metadata": {
    "collapsed": false
   },
   "outputs": [],
   "source": [
    "#New table for mobility accuracy\n",
    "MI_acc = table_MI[['subject', 'group', 'Question','Side','Q-S']].copy()\n",
    "\n",
    "MI_acc.columns = ['subject','group','mobility question acc','mobility side acc','mobility Q-S acc']"
   ]
  },
  {
   "cell_type": "code",
   "execution_count": 103,
   "metadata": {
    "collapsed": false,
    "scrolled": true
   },
   "outputs": [],
   "source": [
    "#New table for animacy accuracy\n",
    "LNL_acc = table_LNL[['subject', 'group', 'Question','Side','Q-S']].copy()\n",
    "\n",
    "LNL_acc.columns = ['subject','group','animacy question acc','animacy side acc','animacy Q-S acc']"
   ]
  },
  {
   "cell_type": "code",
   "execution_count": 104,
   "metadata": {
    "collapsed": false
   },
   "outputs": [],
   "source": [
    "#merging mobility and animacy tables to make full accruacy table with relevant information\n",
    "\n",
    "acc_table = pd.merge(MI_acc,LNL_acc,on=['subject','group'])"
   ]
  },
  {
   "cell_type": "code",
   "execution_count": 105,
   "metadata": {
    "collapsed": false,
    "scrolled": false
   },
   "outputs": [
    {
     "data": {
      "text/html": [
       "<div>\n",
       "<table border=\"1\" class=\"dataframe\">\n",
       "  <thead>\n",
       "    <tr style=\"text-align: right;\">\n",
       "      <th></th>\n",
       "      <th>subject</th>\n",
       "      <th>group</th>\n",
       "      <th>animacy question</th>\n",
       "      <th>animacy side</th>\n",
       "      <th>mobility question</th>\n",
       "      <th>mobility side</th>\n",
       "      <th>animacy q-s</th>\n",
       "      <th>mobility q-s</th>\n",
       "      <th>mobility question acc</th>\n",
       "      <th>mobility side acc</th>\n",
       "      <th>mobility Q-S acc</th>\n",
       "      <th>animacy question acc</th>\n",
       "      <th>animacy side acc</th>\n",
       "      <th>animacy Q-S acc</th>\n",
       "    </tr>\n",
       "  </thead>\n",
       "  <tbody>\n",
       "    <tr>\n",
       "      <th>0</th>\n",
       "      <td>SM011</td>\n",
       "      <td>control</td>\n",
       "      <td>1.505500</td>\n",
       "      <td>-0.317625</td>\n",
       "      <td>1.684625</td>\n",
       "      <td>0.959875</td>\n",
       "      <td>1.823125</td>\n",
       "      <td>0.72475</td>\n",
       "      <td>0.304348</td>\n",
       "      <td>0.434783</td>\n",
       "      <td>-0.130435</td>\n",
       "      <td>0.702128</td>\n",
       "      <td>0.437500</td>\n",
       "      <td>0.264628</td>\n",
       "    </tr>\n",
       "    <tr>\n",
       "      <th>1</th>\n",
       "      <td>SM013</td>\n",
       "      <td>control</td>\n",
       "      <td>1.938375</td>\n",
       "      <td>1.436750</td>\n",
       "      <td>3.152250</td>\n",
       "      <td>1.768750</td>\n",
       "      <td>0.501625</td>\n",
       "      <td>1.38350</td>\n",
       "      <td>0.717391</td>\n",
       "      <td>0.700000</td>\n",
       "      <td>0.017391</td>\n",
       "      <td>0.476190</td>\n",
       "      <td>0.790698</td>\n",
       "      <td>-0.314507</td>\n",
       "    </tr>\n",
       "    <tr>\n",
       "      <th>2</th>\n",
       "      <td>SM014</td>\n",
       "      <td>control</td>\n",
       "      <td>-0.235000</td>\n",
       "      <td>-1.564125</td>\n",
       "      <td>-1.428875</td>\n",
       "      <td>-0.442625</td>\n",
       "      <td>1.329125</td>\n",
       "      <td>-0.98625</td>\n",
       "      <td>0.744186</td>\n",
       "      <td>0.869565</td>\n",
       "      <td>-0.125379</td>\n",
       "      <td>0.723404</td>\n",
       "      <td>0.941176</td>\n",
       "      <td>-0.217772</td>\n",
       "    </tr>\n",
       "    <tr>\n",
       "      <th>3</th>\n",
       "      <td>SM015</td>\n",
       "      <td>MDD</td>\n",
       "      <td>1.306375</td>\n",
       "      <td>0.613625</td>\n",
       "      <td>1.887500</td>\n",
       "      <td>1.378250</td>\n",
       "      <td>0.692750</td>\n",
       "      <td>0.50925</td>\n",
       "      <td>0.765957</td>\n",
       "      <td>0.541667</td>\n",
       "      <td>0.224291</td>\n",
       "      <td>0.413043</td>\n",
       "      <td>0.541667</td>\n",
       "      <td>-0.128623</td>\n",
       "    </tr>\n",
       "    <tr>\n",
       "      <th>4</th>\n",
       "      <td>SM017</td>\n",
       "      <td>control</td>\n",
       "      <td>3.690625</td>\n",
       "      <td>4.321750</td>\n",
       "      <td>4.313875</td>\n",
       "      <td>4.182875</td>\n",
       "      <td>-0.631125</td>\n",
       "      <td>0.13100</td>\n",
       "      <td>0.854167</td>\n",
       "      <td>0.860465</td>\n",
       "      <td>-0.006298</td>\n",
       "      <td>0.652174</td>\n",
       "      <td>0.780488</td>\n",
       "      <td>-0.128314</td>\n",
       "    </tr>\n",
       "  </tbody>\n",
       "</table>\n",
       "</div>"
      ],
      "text/plain": [
       "  subject    group  animacy question  animacy side  mobility question  \\\n",
       "0   SM011  control          1.505500     -0.317625           1.684625   \n",
       "1   SM013  control          1.938375      1.436750           3.152250   \n",
       "2   SM014  control         -0.235000     -1.564125          -1.428875   \n",
       "3   SM015      MDD          1.306375      0.613625           1.887500   \n",
       "4   SM017  control          3.690625      4.321750           4.313875   \n",
       "\n",
       "   mobility side  animacy q-s  mobility q-s  mobility question acc  \\\n",
       "0       0.959875     1.823125       0.72475               0.304348   \n",
       "1       1.768750     0.501625       1.38350               0.717391   \n",
       "2      -0.442625     1.329125      -0.98625               0.744186   \n",
       "3       1.378250     0.692750       0.50925               0.765957   \n",
       "4       4.182875    -0.631125       0.13100               0.854167   \n",
       "\n",
       "   mobility side acc  mobility Q-S acc  animacy question acc  \\\n",
       "0           0.434783         -0.130435              0.702128   \n",
       "1           0.700000          0.017391              0.476190   \n",
       "2           0.869565         -0.125379              0.723404   \n",
       "3           0.541667          0.224291              0.413043   \n",
       "4           0.860465         -0.006298              0.652174   \n",
       "\n",
       "   animacy side acc  animacy Q-S acc  \n",
       "0          0.437500         0.264628  \n",
       "1          0.790698        -0.314507  \n",
       "2          0.941176        -0.217772  \n",
       "3          0.541667        -0.128623  \n",
       "4          0.780488        -0.128314  "
      ]
     },
     "execution_count": 105,
     "metadata": {},
     "output_type": "execute_result"
    }
   ],
   "source": [
    "# Table with accuracy and uV for task+cue and task question-side\n",
    "uv_acc= pd.merge(df3,acc_table,on=['subject','group'])\n",
    "uv_acc.head()"
   ]
  },
  {
   "cell_type": "code",
   "execution_count": 106,
   "metadata": {
    "collapsed": false
   },
   "outputs": [
    {
     "name": "stderr",
     "output_type": "stream",
     "text": [
      "/Users/ebarrick/anaconda/lib/python2.7/site-packages/matplotlib/collections.py:590: FutureWarning: elementwise comparison failed; returning scalar instead, but in the future will perform elementwise comparison\n",
      "  if self._edgecolors == str('face'):\n"
     ]
    },
    {
     "data": {
      "image/png": "[encoded data removed]",
      "text/plain": [
       "<matplotlib.figure.Figure at 0x12d9adfd0>"
      ]
     },
     "metadata": {},
     "output_type": "display_data"
    }
   ],
   "source": [
    "corr = uv_acc.corr()\n",
    "\n",
    "\n",
    "f, ax = plt.subplots(figsize=(12, 9))\n",
    "sns.heatmap(corr, annot=True, linewidths=.5)\n",
    "plt.show()\n"
   ]
  },
  {
   "cell_type": "code",
   "execution_count": 107,
   "metadata": {
    "collapsed": false
   },
   "outputs": [
    {
     "data": {
      "text/plain": [
       "$ANOVA\n",
       "     Effect DFn DFd         F          p p<.05          ges\n",
       "2     group   1  46 3.7527604 0.05887524       0.0664434521\n",
       "3       cue   1  46 0.1817824 0.67183458       0.0005039715\n",
       "4 group:cue   1  46 1.9007287 0.17466481       0.0052445657\n",
       "\n"
      ]
     },
     "metadata": {},
     "output_type": "display_data"
    }
   ],
   "source": [
    "df5_LNL = df5[df5.task == 'animacy']\n",
    "%Rpush df5_LNL\n",
    "\n",
    "%R df5_LNL <- ezANOVA(dv=uV, wid=subject, within=cue, between=group, data=df5_LNL)\n",
    "%R print(df5_LNL)"
   ]
  },
  {
   "cell_type": "code",
   "execution_count": 108,
   "metadata": {
    "collapsed": false
   },
   "outputs": [
    {
     "data": {
      "text/plain": [
       "$ANOVA\n",
       "     Effect DFn DFd        F           p p<.05         ges\n",
       "2     group   1  46 4.800646 0.033552522     * 0.084032749\n",
       "3       cue   1  46 8.812984 0.004736857     * 0.022642716\n",
       "4 group:cue   1  46 2.885562 0.096131828       0.007528365\n",
       "\n"
      ]
     },
     "metadata": {},
     "output_type": "display_data"
    }
   ],
   "source": [
    "df5_MI = df5[df5.task == 'mobility']\n",
    "%Rpush df5_MI\n",
    "\n",
    "%R df5_MI <- ezANOVA(dv=uV, wid=subject, within=cue, between=group, data=df5_MI)\n",
    "%R print(df5_MI)"
   ]
  },
  {
   "cell_type": "markdown",
   "metadata": {
    "collapsed": true
   },
   "source": [
    "### The following analyses are conducted using the electrodes found to be siginificant under Question-Side/Depressed-Controls for the MUT analysis."
   ]
  },
  {
   "cell_type": "markdown",
   "metadata": {},
   "source": [
    "A couple of issues . . .  looks like the same electrodes were used for the 400-800 and 800-1400 ms analysis, and they should be different based on our Table 2. Also, since we did not find any signficant group differences in Q-S/mobility from 1400-2000 ms in the MUT, we should not have any analyses for that time window. "
   ]
  },
  {
   "cell_type": "code",
   "execution_count": 155,
   "metadata": {
    "collapsed": false
   },
   "outputs": [
    {
     "data": {
      "text/plain": [
       "array([34, 35, 40, 41, 42, 46, 47, 51, 52, 53])"
      ]
     },
     "execution_count": 155,
     "metadata": {},
     "output_type": "execute_result"
    }
   ],
   "source": [
    "all_par3.electrode.unique()"
   ]
  },
  {
   "cell_type": "code",
   "execution_count": 156,
   "metadata": {
    "collapsed": false
   },
   "outputs": [
    {
     "data": {
      "text/plain": [
       "array([40, 41, 42, 46, 47, 51, 52, 53, 61])"
      ]
     },
     "execution_count": 156,
     "metadata": {},
     "output_type": "execute_result"
    }
   ],
   "source": [
    "all_par4.electrode.unique()"
   ]
  },
  {
   "cell_type": "code",
   "execution_count": 111,
   "metadata": {
    "collapsed": false,
    "scrolled": true
   },
   "outputs": [
    {
     "data": {
      "text/html": [
       "<div>\n",
       "<table border=\"1\" class=\"dataframe\">\n",
       "  <thead>\n",
       "    <tr style=\"text-align: right;\">\n",
       "      <th></th>\n",
       "      <th>subject</th>\n",
       "      <th>time</th>\n",
       "      <th>condition</th>\n",
       "      <th>cue</th>\n",
       "      <th>task</th>\n",
       "      <th>laterality</th>\n",
       "      <th>electrode</th>\n",
       "      <th>electrode_label</th>\n",
       "      <th>uV</th>\n",
       "      <th>group</th>\n",
       "    </tr>\n",
       "  </thead>\n",
       "  <tbody>\n",
       "    <tr>\n",
       "      <th>0</th>\n",
       "      <td>SM011</td>\n",
       "      <td>[400.0  800.0]</td>\n",
       "      <td>animacy side hit</td>\n",
       "      <td>Side</td>\n",
       "      <td>animacy</td>\n",
       "      <td>left</td>\n",
       "      <td>34</td>\n",
       "      <td>E34</td>\n",
       "      <td>-0.081</td>\n",
       "      <td>control</td>\n",
       "    </tr>\n",
       "    <tr>\n",
       "      <th>1</th>\n",
       "      <td>SM011</td>\n",
       "      <td>[400.0  800.0]</td>\n",
       "      <td>animacy side hit</td>\n",
       "      <td>Side</td>\n",
       "      <td>animacy</td>\n",
       "      <td>left</td>\n",
       "      <td>35</td>\n",
       "      <td>E35</td>\n",
       "      <td>2.240</td>\n",
       "      <td>control</td>\n",
       "    </tr>\n",
       "    <tr>\n",
       "      <th>2</th>\n",
       "      <td>SM011</td>\n",
       "      <td>[400.0  800.0]</td>\n",
       "      <td>animacy side hit</td>\n",
       "      <td>Side</td>\n",
       "      <td>animacy</td>\n",
       "      <td>left</td>\n",
       "      <td>40</td>\n",
       "      <td>E40</td>\n",
       "      <td>2.227</td>\n",
       "      <td>control</td>\n",
       "    </tr>\n",
       "    <tr>\n",
       "      <th>3</th>\n",
       "      <td>SM011</td>\n",
       "      <td>[400.0  800.0]</td>\n",
       "      <td>animacy side hit</td>\n",
       "      <td>Side</td>\n",
       "      <td>animacy</td>\n",
       "      <td>left</td>\n",
       "      <td>41</td>\n",
       "      <td>E41</td>\n",
       "      <td>2.679</td>\n",
       "      <td>control</td>\n",
       "    </tr>\n",
       "    <tr>\n",
       "      <th>4</th>\n",
       "      <td>SM011</td>\n",
       "      <td>[400.0  800.0]</td>\n",
       "      <td>animacy side hit</td>\n",
       "      <td>Side</td>\n",
       "      <td>animacy</td>\n",
       "      <td>left</td>\n",
       "      <td>42</td>\n",
       "      <td>E42</td>\n",
       "      <td>1.070</td>\n",
       "      <td>control</td>\n",
       "    </tr>\n",
       "  </tbody>\n",
       "</table>\n",
       "</div>"
      ],
      "text/plain": [
       "  subject            time         condition   cue     task laterality  \\\n",
       "0   SM011  [400.0  800.0]  animacy side hit  Side  animacy       left   \n",
       "1   SM011  [400.0  800.0]  animacy side hit  Side  animacy       left   \n",
       "2   SM011  [400.0  800.0]  animacy side hit  Side  animacy       left   \n",
       "3   SM011  [400.0  800.0]  animacy side hit  Side  animacy       left   \n",
       "4   SM011  [400.0  800.0]  animacy side hit  Side  animacy       left   \n",
       "\n",
       "   electrode electrode_label     uV    group  \n",
       "0         34             E34 -0.081  control  \n",
       "1         35             E35  2.240  control  \n",
       "2         40             E40  2.227  control  \n",
       "3         41             E41  2.679  control  \n",
       "4         42             E42  1.070  control  "
      ]
     },
     "execution_count": 111,
     "metadata": {},
     "output_type": "execute_result"
    }
   ],
   "source": [
    "# for 400-800 ms\n",
    "hc_par3 = make_clean_df(path2erps + 'MeanAmps/HC/HC_cueDiff_taskDiff_Par_400_800.txt')\n",
    "mdd_par3 = make_clean_df(path2erps + 'MeanAmps/MDD/MDD_cueDiff_taskDiff_Par_400_800.txt')\n",
    "hc_par3['group'] = 'control'\n",
    "mdd_par3['group'] = 'MDD'\n",
    "all_par3 = pd.concat([hc_par3,mdd_par3],axis=0)\n",
    "all_par3.head()"
   ]
  },
  {
   "cell_type": "code",
   "execution_count": 112,
   "metadata": {
    "collapsed": false
   },
   "outputs": [
    {
     "data": {
      "text/plain": [
       "$ANOVA\n",
       "          Effect DFn DFd          F           p p<.05          ges\n",
       "2          group   1  46 0.94028767 0.337275081       0.0149390168\n",
       "3           task   1  46 1.97737574 0.166386680       0.0031922415\n",
       "5            cue   1  46 0.97872320 0.327689725       0.0014590983\n",
       "4     group:task   1  46 0.08057854 0.777788725       0.0001304842\n",
       "6      group:cue   1  46 3.35132826 0.073633382       0.0049786109\n",
       "7       task:cue   1  46 1.88499988 0.176423282       0.0046865230\n",
       "8 group:task:cue   1  46 8.23300448 0.006193663     * 0.0201510200\n",
       "\n"
      ]
     },
     "metadata": {},
     "output_type": "display_data"
    }
   ],
   "source": [
    "# Group x Cue X Task within significant electrodes in MUT analysis\n",
    "%Rpush all_par3\n",
    "\n",
    "%R uv_par3 <- ezANOVA(dv=uV, wid=subject, within=.(task, cue), between=group, data=all_par3)\n",
    "%R print(uv_par3)"
   ]
  },
  {
   "cell_type": "code",
   "execution_count": 113,
   "metadata": {
    "collapsed": false
   },
   "outputs": [
    {
     "data": {
      "text/plain": [
       "$ANOVA\n",
       "     Effect DFn DFd          F            p p<.05         ges\n",
       "2     group   1  46  1.1112776 2.973102e-01       0.020536590\n",
       "3       cue   1  46  0.3724535 5.446734e-01       0.001068354\n",
       "4 group:cue   1  46 18.4895152 8.799006e-05     * 0.050415769\n",
       "\n"
      ]
     },
     "metadata": {},
     "output_type": "display_data"
    }
   ],
   "source": [
    "all_par3_MI = all_par3[all_par3.task == 'mobility']\n",
    "%Rpush all_par3_MI\n",
    "%R uv_par_MI <- ezANOVA(dv=uV, wid=subject, within=cue, between=group, data=all_par3_MI)\n",
    "%R print(uv_par_MI)"
   ]
  },
  {
   "cell_type": "code",
   "execution_count": 114,
   "metadata": {
    "collapsed": false
   },
   "outputs": [
    {
     "data": {
      "text/html": [
       "<div>\n",
       "<table border=\"1\" class=\"dataframe\">\n",
       "  <thead>\n",
       "    <tr style=\"text-align: right;\">\n",
       "      <th></th>\n",
       "      <th>subject</th>\n",
       "      <th>time</th>\n",
       "      <th>condition</th>\n",
       "      <th>cue</th>\n",
       "      <th>task</th>\n",
       "      <th>laterality</th>\n",
       "      <th>electrode</th>\n",
       "      <th>electrode_label</th>\n",
       "      <th>uV</th>\n",
       "      <th>group</th>\n",
       "    </tr>\n",
       "  </thead>\n",
       "  <tbody>\n",
       "    <tr>\n",
       "      <th>0</th>\n",
       "      <td>SM011</td>\n",
       "      <td>[800.0  1400.0]</td>\n",
       "      <td>animacy side hit</td>\n",
       "      <td>Side</td>\n",
       "      <td>animacy</td>\n",
       "      <td>left</td>\n",
       "      <td>40</td>\n",
       "      <td>E40</td>\n",
       "      <td>4.433</td>\n",
       "      <td>control</td>\n",
       "    </tr>\n",
       "    <tr>\n",
       "      <th>1</th>\n",
       "      <td>SM011</td>\n",
       "      <td>[800.0  1400.0]</td>\n",
       "      <td>animacy side hit</td>\n",
       "      <td>Side</td>\n",
       "      <td>animacy</td>\n",
       "      <td>left</td>\n",
       "      <td>41</td>\n",
       "      <td>E41</td>\n",
       "      <td>4.129</td>\n",
       "      <td>control</td>\n",
       "    </tr>\n",
       "    <tr>\n",
       "      <th>2</th>\n",
       "      <td>SM011</td>\n",
       "      <td>[800.0  1400.0]</td>\n",
       "      <td>animacy side hit</td>\n",
       "      <td>Side</td>\n",
       "      <td>animacy</td>\n",
       "      <td>left</td>\n",
       "      <td>42</td>\n",
       "      <td>E42</td>\n",
       "      <td>0.124</td>\n",
       "      <td>control</td>\n",
       "    </tr>\n",
       "    <tr>\n",
       "      <th>3</th>\n",
       "      <td>SM011</td>\n",
       "      <td>[800.0  1400.0]</td>\n",
       "      <td>animacy side hit</td>\n",
       "      <td>Side</td>\n",
       "      <td>animacy</td>\n",
       "      <td>left</td>\n",
       "      <td>46</td>\n",
       "      <td>E46</td>\n",
       "      <td>-1.663</td>\n",
       "      <td>control</td>\n",
       "    </tr>\n",
       "    <tr>\n",
       "      <th>4</th>\n",
       "      <td>SM011</td>\n",
       "      <td>[800.0  1400.0]</td>\n",
       "      <td>animacy side hit</td>\n",
       "      <td>Side</td>\n",
       "      <td>animacy</td>\n",
       "      <td>left</td>\n",
       "      <td>47</td>\n",
       "      <td>E47</td>\n",
       "      <td>0.768</td>\n",
       "      <td>control</td>\n",
       "    </tr>\n",
       "  </tbody>\n",
       "</table>\n",
       "</div>"
      ],
      "text/plain": [
       "  subject             time         condition   cue     task laterality  \\\n",
       "0   SM011  [800.0  1400.0]  animacy side hit  Side  animacy       left   \n",
       "1   SM011  [800.0  1400.0]  animacy side hit  Side  animacy       left   \n",
       "2   SM011  [800.0  1400.0]  animacy side hit  Side  animacy       left   \n",
       "3   SM011  [800.0  1400.0]  animacy side hit  Side  animacy       left   \n",
       "4   SM011  [800.0  1400.0]  animacy side hit  Side  animacy       left   \n",
       "\n",
       "   electrode electrode_label     uV    group  \n",
       "0         40             E40  4.433  control  \n",
       "1         41             E41  4.129  control  \n",
       "2         42             E42  0.124  control  \n",
       "3         46             E46 -1.663  control  \n",
       "4         47             E47  0.768  control  "
      ]
     },
     "execution_count": 114,
     "metadata": {},
     "output_type": "execute_result"
    }
   ],
   "source": [
    "# for 800-1400 ms\n",
    "hc_par4 = make_clean_df(path2erps + 'MeanAmps/HC/HC_cueDiff_taskDiff_Par_800_1400.txt')\n",
    "mdd_par4 = make_clean_df(path2erps + 'MeanAmps/MDD/MDD_cueDiff_taskDiff_Par_800_1400.txt')\n",
    "hc_par4['group'] = 'control'\n",
    "mdd_par4['group'] = 'MDD'\n",
    "all_par4 = pd.concat([hc_par4,mdd_par4],axis=0)\n",
    "all_par4.head()"
   ]
  },
  {
   "cell_type": "code",
   "execution_count": 115,
   "metadata": {
    "collapsed": false
   },
   "outputs": [
    {
     "data": {
      "text/plain": [
       "$ANOVA\n",
       "          Effect DFn DFd          F          p p<.05          ges\n",
       "2          group   1  46 3.79681628 0.05746528       5.385817e-02\n",
       "3           task   1  46 0.64197789 0.42711490       8.165703e-04\n",
       "5            cue   1  46 0.02565892 0.87343748       6.084949e-05\n",
       "4     group:task   1  46 0.34636788 0.55905531       4.407319e-04\n",
       "6      group:cue   1  46 4.07048101 0.04949491     * 9.561330e-03\n",
       "7       task:cue   1  46 3.29361322 0.07607339       1.011331e-02\n",
       "8 group:task:cue   1  46 4.97834148 0.03058194     * 1.520773e-02\n",
       "\n"
      ]
     },
     "metadata": {},
     "output_type": "display_data"
    }
   ],
   "source": [
    "%Rpush all_par4\n",
    "\n",
    "%R uv_par4 <- ezANOVA(dv=uV, wid=subject, within=.(task, cue), between=group, data=all_par4)\n",
    "%R print(uv_par4)"
   ]
  },
  {
   "cell_type": "code",
   "execution_count": 116,
   "metadata": {
    "collapsed": false
   },
   "outputs": [
    {
     "data": {
      "text/plain": [
       "$ANOVA\n",
       "     Effect DFn DFd         F            p p<.05        ges\n",
       "2     group   1  46  3.019594 0.0889555476       0.05229132\n",
       "3       cue   1  46  3.985636 0.0518282025       0.01362708\n",
       "4 group:cue   1  46 16.647845 0.0001771435     * 0.05455783\n",
       "\n"
      ]
     },
     "metadata": {},
     "output_type": "display_data"
    }
   ],
   "source": [
    "all_par4_MI = all_par4[all_par4.task == 'mobility']\n",
    "%Rpush all_par4_MI\n",
    "%R uv_par4_MI <- ezANOVA(dv=uV, wid=subject, within=cue, between=group, data=all_par4_MI)\n",
    "%R print(uv_par4_MI)"
   ]
  },
  {
   "cell_type": "markdown",
   "metadata": {},
   "source": [
    "###Follow-up tests on the group difference in Q-S uV in each time window . . .  "
   ]
  },
  {
   "cell_type": "markdown",
   "metadata": {},
   "source": [
    "#### 400-800 ms "
   ]
  },
  {
   "cell_type": "code",
   "execution_count": 117,
   "metadata": {
    "collapsed": false
   },
   "outputs": [
    {
     "data": {
      "text/plain": [
       "<seaborn.axisgrid.FacetGrid at 0x12d8fbd90>"
      ]
     },
     "execution_count": 117,
     "metadata": {},
     "output_type": "execute_result"
    },
    {
     "data": {
      "image/png": "[encoded data removed]",
      "text/plain": [
       "<matplotlib.figure.Figure at 0x12d8fb050>"
      ]
     },
     "metadata": {},
     "output_type": "display_data"
    }
   ],
   "source": [
    "sns.factorplot(y='uV', x='task', hue='cue',col='group',units='subject',ci=68, kind='bar', data=all_par3,\n",
    "              hue_order=['Question','Side'])"
   ]
  },
  {
   "cell_type": "code",
   "execution_count": 118,
   "metadata": {
    "collapsed": false
   },
   "outputs": [
    {
     "data": {
      "text/html": [
       "<div>\n",
       "<table border=\"1\" class=\"dataframe\">\n",
       "  <thead>\n",
       "    <tr style=\"text-align: right;\">\n",
       "      <th></th>\n",
       "      <th>subject</th>\n",
       "      <th>group</th>\n",
       "      <th>question</th>\n",
       "      <th>side</th>\n",
       "      <th>Q-S</th>\n",
       "      <th>condition</th>\n",
       "    </tr>\n",
       "  </thead>\n",
       "  <tbody>\n",
       "    <tr>\n",
       "      <th>0</th>\n",
       "      <td>SM011</td>\n",
       "      <td>control</td>\n",
       "      <td>0.9477</td>\n",
       "      <td>0.9382</td>\n",
       "      <td>0.0095</td>\n",
       "      <td>mobility</td>\n",
       "    </tr>\n",
       "    <tr>\n",
       "      <th>1</th>\n",
       "      <td>SM013</td>\n",
       "      <td>control</td>\n",
       "      <td>0.7688</td>\n",
       "      <td>1.0773</td>\n",
       "      <td>-0.3085</td>\n",
       "      <td>mobility</td>\n",
       "    </tr>\n",
       "    <tr>\n",
       "      <th>2</th>\n",
       "      <td>SM014</td>\n",
       "      <td>control</td>\n",
       "      <td>0.1516</td>\n",
       "      <td>0.0330</td>\n",
       "      <td>0.1186</td>\n",
       "      <td>mobility</td>\n",
       "    </tr>\n",
       "    <tr>\n",
       "      <th>3</th>\n",
       "      <td>SM015</td>\n",
       "      <td>MDD</td>\n",
       "      <td>1.0759</td>\n",
       "      <td>1.3718</td>\n",
       "      <td>-0.2959</td>\n",
       "      <td>mobility</td>\n",
       "    </tr>\n",
       "    <tr>\n",
       "      <th>4</th>\n",
       "      <td>SM017</td>\n",
       "      <td>control</td>\n",
       "      <td>1.8646</td>\n",
       "      <td>3.3084</td>\n",
       "      <td>-1.4438</td>\n",
       "      <td>mobility</td>\n",
       "    </tr>\n",
       "  </tbody>\n",
       "</table>\n",
       "</div>"
      ],
      "text/plain": [
       "  subject    group  question    side     Q-S condition\n",
       "0   SM011  control    0.9477  0.9382  0.0095  mobility\n",
       "1   SM013  control    0.7688  1.0773 -0.3085  mobility\n",
       "2   SM014  control    0.1516  0.0330  0.1186  mobility\n",
       "3   SM015      MDD    1.0759  1.3718 -0.2959  mobility\n",
       "4   SM017  control    1.8646  3.3084 -1.4438  mobility"
      ]
     },
     "execution_count": 118,
     "metadata": {},
     "output_type": "execute_result"
    }
   ],
   "source": [
    "all_par3_MI.head()\n",
    "g = all_par3_MI.groupby(['subject','group','cue'])['uV'].mean()\n",
    "df = g.to_frame()\n",
    "df.reset_index(inplace=True)\n",
    "par_table_MI = df.pivot_table(index=['subject','group'],columns='cue',values='uV')\n",
    "par_table_MI.reset_index(inplace=True)\n",
    "new_cols = ['subject','group','question','side']\n",
    "par_table_MI.columns = new_cols\n",
    "par_table_MI['Q-S'] = par_table_MI['question']-par_table_MI['side']\n",
    "par_table_MI['condition'] = 'mobility'\n",
    "par_table_MI.head()"
   ]
  },
  {
   "cell_type": "code",
   "execution_count": 119,
   "metadata": {
    "collapsed": false
   },
   "outputs": [
    {
     "data": {
      "text/plain": [
       "<seaborn.axisgrid.FacetGrid at 0x12ca74c50>"
      ]
     },
     "execution_count": 119,
     "metadata": {},
     "output_type": "execute_result"
    },
    {
     "data": {
      "image/png": "[encoded data removed]",
      "text/plain": [
       "<matplotlib.figure.Figure at 0x12dcecb50>"
      ]
     },
     "metadata": {},
     "output_type": "display_data"
    }
   ],
   "source": [
    "#Question-side for mobility uV 400-800 ms\n",
    "sns.factorplot(y='Q-S',x='group',units='subject',ci=68,kind='bar',data=par_table_MI,\n",
    "              order = ['MDD','control'])"
   ]
  },
  {
   "cell_type": "code",
   "execution_count": 120,
   "metadata": {
    "collapsed": false
   },
   "outputs": [
    {
     "name": "stdout",
     "output_type": "stream",
     "text": [
      "t(46) = -4.30, p = 0.000\n"
     ]
    },
    {
     "data": {
      "text/plain": [
       "(-4.2999436302497998, 8.7990055988736857e-05)"
      ]
     },
     "execution_count": 120,
     "metadata": {},
     "output_type": "execute_result"
    }
   ],
   "source": [
    "misc.ttest_2s(par_table_MI[par_table_MI.group == 'control']['Q-S'],\n",
    "             par_table_MI[par_table_MI.group == 'MDD']['Q-S'])"
   ]
  },
  {
   "cell_type": "markdown",
   "metadata": {},
   "source": [
    "#### 800-1400 ms "
   ]
  },
  {
   "cell_type": "code",
   "execution_count": 121,
   "metadata": {
    "collapsed": false
   },
   "outputs": [
    {
     "data": {
      "text/html": [
       "<div>\n",
       "<table border=\"1\" class=\"dataframe\">\n",
       "  <thead>\n",
       "    <tr style=\"text-align: right;\">\n",
       "      <th></th>\n",
       "      <th>subject</th>\n",
       "      <th>time</th>\n",
       "      <th>condition</th>\n",
       "      <th>cue</th>\n",
       "      <th>task</th>\n",
       "      <th>laterality</th>\n",
       "      <th>electrode</th>\n",
       "      <th>electrode_label</th>\n",
       "      <th>uV</th>\n",
       "      <th>group</th>\n",
       "    </tr>\n",
       "  </thead>\n",
       "  <tbody>\n",
       "    <tr>\n",
       "      <th>9</th>\n",
       "      <td>SM011</td>\n",
       "      <td>[800.0  1400.0]</td>\n",
       "      <td>mobility side hit</td>\n",
       "      <td>Side</td>\n",
       "      <td>mobility</td>\n",
       "      <td>left</td>\n",
       "      <td>40</td>\n",
       "      <td>E40</td>\n",
       "      <td>0.303</td>\n",
       "      <td>control</td>\n",
       "    </tr>\n",
       "    <tr>\n",
       "      <th>10</th>\n",
       "      <td>SM011</td>\n",
       "      <td>[800.0  1400.0]</td>\n",
       "      <td>mobility side hit</td>\n",
       "      <td>Side</td>\n",
       "      <td>mobility</td>\n",
       "      <td>left</td>\n",
       "      <td>41</td>\n",
       "      <td>E41</td>\n",
       "      <td>-0.100</td>\n",
       "      <td>control</td>\n",
       "    </tr>\n",
       "    <tr>\n",
       "      <th>11</th>\n",
       "      <td>SM011</td>\n",
       "      <td>[800.0  1400.0]</td>\n",
       "      <td>mobility side hit</td>\n",
       "      <td>Side</td>\n",
       "      <td>mobility</td>\n",
       "      <td>left</td>\n",
       "      <td>42</td>\n",
       "      <td>E42</td>\n",
       "      <td>1.710</td>\n",
       "      <td>control</td>\n",
       "    </tr>\n",
       "    <tr>\n",
       "      <th>12</th>\n",
       "      <td>SM011</td>\n",
       "      <td>[800.0  1400.0]</td>\n",
       "      <td>mobility side hit</td>\n",
       "      <td>Side</td>\n",
       "      <td>mobility</td>\n",
       "      <td>left</td>\n",
       "      <td>46</td>\n",
       "      <td>E46</td>\n",
       "      <td>6.849</td>\n",
       "      <td>control</td>\n",
       "    </tr>\n",
       "    <tr>\n",
       "      <th>13</th>\n",
       "      <td>SM011</td>\n",
       "      <td>[800.0  1400.0]</td>\n",
       "      <td>mobility side hit</td>\n",
       "      <td>Side</td>\n",
       "      <td>mobility</td>\n",
       "      <td>left</td>\n",
       "      <td>47</td>\n",
       "      <td>E47</td>\n",
       "      <td>0.103</td>\n",
       "      <td>control</td>\n",
       "    </tr>\n",
       "  </tbody>\n",
       "</table>\n",
       "</div>"
      ],
      "text/plain": [
       "   subject             time          condition   cue      task laterality  \\\n",
       "9    SM011  [800.0  1400.0]  mobility side hit  Side  mobility       left   \n",
       "10   SM011  [800.0  1400.0]  mobility side hit  Side  mobility       left   \n",
       "11   SM011  [800.0  1400.0]  mobility side hit  Side  mobility       left   \n",
       "12   SM011  [800.0  1400.0]  mobility side hit  Side  mobility       left   \n",
       "13   SM011  [800.0  1400.0]  mobility side hit  Side  mobility       left   \n",
       "\n",
       "    electrode electrode_label     uV    group  \n",
       "9          40             E40  0.303  control  \n",
       "10         41             E41 -0.100  control  \n",
       "11         42             E42  1.710  control  \n",
       "12         46             E46  6.849  control  \n",
       "13         47             E47  0.103  control  "
      ]
     },
     "execution_count": 121,
     "metadata": {},
     "output_type": "execute_result"
    }
   ],
   "source": [
    "all_par4_MI.head()"
   ]
  },
  {
   "cell_type": "code",
   "execution_count": 122,
   "metadata": {
    "collapsed": false
   },
   "outputs": [
    {
     "data": {
      "text/plain": [
       "<seaborn.axisgrid.FacetGrid at 0x12ca74510>"
      ]
     },
     "execution_count": 122,
     "metadata": {},
     "output_type": "execute_result"
    },
    {
     "data": {
      "image/png": "[encoded data removed]",
      "text/plain": [
       "<matplotlib.figure.Figure at 0x12dd95dd0>"
      ]
     },
     "metadata": {},
     "output_type": "display_data"
    }
   ],
   "source": [
    "sns.factorplot(y='uV', x='group',hue='cue',units='subject',ci=68, kind='bar', data=all_par4_MI,\n",
    "              hue_order=['Question','Side'])"
   ]
  },
  {
   "cell_type": "code",
   "execution_count": 123,
   "metadata": {
    "collapsed": false
   },
   "outputs": [
    {
     "data": {
      "text/html": [
       "<div>\n",
       "<table border=\"1\" class=\"dataframe\">\n",
       "  <thead>\n",
       "    <tr style=\"text-align: right;\">\n",
       "      <th>cue</th>\n",
       "      <th>subject</th>\n",
       "      <th>group</th>\n",
       "      <th>Question</th>\n",
       "      <th>Side</th>\n",
       "      <th>Q-S</th>\n",
       "    </tr>\n",
       "  </thead>\n",
       "  <tbody>\n",
       "    <tr>\n",
       "      <th>0</th>\n",
       "      <td>SM011</td>\n",
       "      <td>control</td>\n",
       "      <td>-0.049444</td>\n",
       "      <td>1.324889</td>\n",
       "      <td>-1.374333</td>\n",
       "    </tr>\n",
       "    <tr>\n",
       "      <th>1</th>\n",
       "      <td>SM013</td>\n",
       "      <td>control</td>\n",
       "      <td>0.833333</td>\n",
       "      <td>0.194444</td>\n",
       "      <td>0.638889</td>\n",
       "    </tr>\n",
       "    <tr>\n",
       "      <th>2</th>\n",
       "      <td>SM014</td>\n",
       "      <td>control</td>\n",
       "      <td>-1.124111</td>\n",
       "      <td>-0.557667</td>\n",
       "      <td>-0.566444</td>\n",
       "    </tr>\n",
       "    <tr>\n",
       "      <th>3</th>\n",
       "      <td>SM015</td>\n",
       "      <td>MDD</td>\n",
       "      <td>-0.372000</td>\n",
       "      <td>0.328778</td>\n",
       "      <td>-0.700778</td>\n",
       "    </tr>\n",
       "    <tr>\n",
       "      <th>4</th>\n",
       "      <td>SM017</td>\n",
       "      <td>control</td>\n",
       "      <td>2.431222</td>\n",
       "      <td>3.437000</td>\n",
       "      <td>-1.005778</td>\n",
       "    </tr>\n",
       "  </tbody>\n",
       "</table>\n",
       "</div>"
      ],
      "text/plain": [
       "cue subject    group  Question      Side       Q-S\n",
       "0     SM011  control -0.049444  1.324889 -1.374333\n",
       "1     SM013  control  0.833333  0.194444  0.638889\n",
       "2     SM014  control -1.124111 -0.557667 -0.566444\n",
       "3     SM015      MDD -0.372000  0.328778 -0.700778\n",
       "4     SM017  control  2.431222  3.437000 -1.005778"
      ]
     },
     "execution_count": 123,
     "metadata": {},
     "output_type": "execute_result"
    }
   ],
   "source": [
    "g = all_par4_MI.groupby(['subject','group','cue'])['uV'].mean()\n",
    "df = g.to_frame()\n",
    "df.reset_index(inplace=True)\n",
    "par_MI_800_1400 = df.pivot_table(index=['subject','group'],columns='cue',values='uV')\n",
    "par_MI_800_1400.reset_index(inplace=True)\n",
    "par_MI_800_1400['Q-S'] = par_MI_800_1400.Question - par_MI_800_1400.Side\n",
    "par_MI_800_1400.head()"
   ]
  },
  {
   "cell_type": "code",
   "execution_count": 124,
   "metadata": {
    "collapsed": false
   },
   "outputs": [
    {
     "data": {
      "text/plain": [
       "<seaborn.axisgrid.FacetGrid at 0x12c77c990>"
      ]
     },
     "execution_count": 124,
     "metadata": {},
     "output_type": "execute_result"
    },
    {
     "data": {
      "image/png": "[encoded data removed]",
      "text/plain": [
       "<matplotlib.figure.Figure at 0x12c77c890>"
      ]
     },
     "metadata": {},
     "output_type": "display_data"
    }
   ],
   "source": [
    "sns.factorplot(y='Q-S',x='group',units='subject',ci=68,kind='bar',data=par_MI_800_1400,\n",
    "              order = ['MDD','control'])"
   ]
  },
  {
   "cell_type": "code",
   "execution_count": 125,
   "metadata": {
    "collapsed": false
   },
   "outputs": [
    {
     "name": "stdout",
     "output_type": "stream",
     "text": [
      "t(46) = -4.08, p = 0.000\n"
     ]
    },
    {
     "data": {
      "text/plain": [
       "(-4.0801770853882777, 0.00017714351111066122)"
      ]
     },
     "execution_count": 125,
     "metadata": {},
     "output_type": "execute_result"
    }
   ],
   "source": [
    "misc.ttest_2s(par_MI_800_1400[par_MI_800_1400.group == 'control']['Q-S'],\n",
    "              par_MI_800_1400[par_MI_800_1400.group == 'MDD']['Q-S'],\n",
    "              paired=False)"
   ]
  },
  {
   "cell_type": "code",
   "execution_count": null,
   "metadata": {
    "collapsed": true
   },
   "outputs": [],
   "source": []
  },
  {
   "cell_type": "markdown",
   "metadata": {},
   "source": [
    "### ANOVAs: uV from the MUT Q-S/animacy electrodes"
   ]
  },
  {
   "cell_type": "markdown",
   "metadata": {},
   "source": [
    "#### 400-800 ms"
   ]
  },
  {
   "cell_type": "code",
   "execution_count": 143,
   "metadata": {
    "collapsed": false,
    "scrolled": true
   },
   "outputs": [
    {
     "data": {
      "text/html": [
       "<div>\n",
       "<table border=\"1\" class=\"dataframe\">\n",
       "  <thead>\n",
       "    <tr style=\"text-align: right;\">\n",
       "      <th></th>\n",
       "      <th>subject</th>\n",
       "      <th>time</th>\n",
       "      <th>condition</th>\n",
       "      <th>cue</th>\n",
       "      <th>task</th>\n",
       "      <th>laterality</th>\n",
       "      <th>electrode</th>\n",
       "      <th>electrode_label</th>\n",
       "      <th>uV</th>\n",
       "      <th>group</th>\n",
       "    </tr>\n",
       "  </thead>\n",
       "  <tbody>\n",
       "    <tr>\n",
       "      <th>0</th>\n",
       "      <td>SM011</td>\n",
       "      <td>[400.0  800.0]</td>\n",
       "      <td>animacy side hit</td>\n",
       "      <td>Side</td>\n",
       "      <td>animacy</td>\n",
       "      <td>midline</td>\n",
       "      <td>6</td>\n",
       "      <td>E6</td>\n",
       "      <td>-0.345</td>\n",
       "      <td>control</td>\n",
       "    </tr>\n",
       "    <tr>\n",
       "      <th>1</th>\n",
       "      <td>SM011</td>\n",
       "      <td>[400.0  800.0]</td>\n",
       "      <td>animacy side hit</td>\n",
       "      <td>Side</td>\n",
       "      <td>animacy</td>\n",
       "      <td>left</td>\n",
       "      <td>7</td>\n",
       "      <td>E7</td>\n",
       "      <td>0.998</td>\n",
       "      <td>control</td>\n",
       "    </tr>\n",
       "    <tr>\n",
       "      <th>2</th>\n",
       "      <td>SM011</td>\n",
       "      <td>[400.0  800.0]</td>\n",
       "      <td>animacy side hit</td>\n",
       "      <td>Side</td>\n",
       "      <td>animacy</td>\n",
       "      <td>midline</td>\n",
       "      <td>11</td>\n",
       "      <td>E11</td>\n",
       "      <td>-0.202</td>\n",
       "      <td>control</td>\n",
       "    </tr>\n",
       "    <tr>\n",
       "      <th>3</th>\n",
       "      <td>SM011</td>\n",
       "      <td>[400.0  800.0]</td>\n",
       "      <td>animacy side hit</td>\n",
       "      <td>Side</td>\n",
       "      <td>animacy</td>\n",
       "      <td>left</td>\n",
       "      <td>12</td>\n",
       "      <td>E12</td>\n",
       "      <td>-2.039</td>\n",
       "      <td>control</td>\n",
       "    </tr>\n",
       "    <tr>\n",
       "      <th>4</th>\n",
       "      <td>SM011</td>\n",
       "      <td>[400.0  800.0]</td>\n",
       "      <td>animacy side hit</td>\n",
       "      <td>Side</td>\n",
       "      <td>animacy</td>\n",
       "      <td>left</td>\n",
       "      <td>13</td>\n",
       "      <td>E13</td>\n",
       "      <td>-0.400</td>\n",
       "      <td>control</td>\n",
       "    </tr>\n",
       "  </tbody>\n",
       "</table>\n",
       "</div>"
      ],
      "text/plain": [
       "  subject            time         condition   cue     task laterality  \\\n",
       "0   SM011  [400.0  800.0]  animacy side hit  Side  animacy    midline   \n",
       "1   SM011  [400.0  800.0]  animacy side hit  Side  animacy       left   \n",
       "2   SM011  [400.0  800.0]  animacy side hit  Side  animacy    midline   \n",
       "3   SM011  [400.0  800.0]  animacy side hit  Side  animacy       left   \n",
       "4   SM011  [400.0  800.0]  animacy side hit  Side  animacy       left   \n",
       "\n",
       "   electrode electrode_label     uV    group  \n",
       "0          6              E6 -0.345  control  \n",
       "1          7              E7  0.998  control  \n",
       "2         11             E11 -0.202  control  \n",
       "3         12             E12 -2.039  control  \n",
       "4         13             E13 -0.400  control  "
      ]
     },
     "execution_count": 143,
     "metadata": {},
     "output_type": "execute_result"
    }
   ],
   "source": [
    "hc_par6 = make_clean_df(path2erps + 'MeanAmps/HC/HC_cueDiff_taskDiff_Par_400_800_2.txt')\n",
    "mdd_par6 = make_clean_df(path2erps + 'MeanAmps/MDD/MDD_cueDiff_taskDiff_Par_400_800_2.txt')\n",
    "hc_par6['group'] = 'control'\n",
    "mdd_par6['group'] = 'MDD'\n",
    "all_par6 = pd.concat([hc_par6,mdd_par6],axis=0)\n",
    "all_par6.head()"
   ]
  },
  {
   "cell_type": "code",
   "execution_count": 150,
   "metadata": {
    "collapsed": false
   },
   "outputs": [
    {
     "data": {
      "text/plain": [
       "array([ 6,  7, 11, 12, 13, 16, 19, 21, 24, 25, 28, 29, 30, 31, 32, 34, 35,\n",
       "       36])"
      ]
     },
     "execution_count": 150,
     "metadata": {},
     "output_type": "execute_result"
    }
   ],
   "source": [
    "all_par6.electrode.unique()"
   ]
  },
  {
   "cell_type": "code",
   "execution_count": 146,
   "metadata": {
    "collapsed": false
   },
   "outputs": [
    {
     "data": {
      "text/plain": [
       "$ANOVA\n",
       "          Effect DFn DFd           F            p p<.05          ges\n",
       "2          group   1  46  1.15559996 0.2879863221       1.932221e-02\n",
       "3           task   1  46  2.07281796 0.1567154012       1.972247e-03\n",
       "5            cue   1  46 15.60424006 0.0002661978     * 2.264693e-02\n",
       "4     group:task   1  46  0.10444415 0.7480248845       9.956307e-05\n",
       "6      group:cue   1  46  0.03925868 0.8438101217       5.829425e-05\n",
       "7       task:cue   1  46  2.58701998 0.1145856737       5.789323e-03\n",
       "8 group:task:cue   1  46  2.23450528 0.1417888835       5.004401e-03\n",
       "\n"
      ]
     },
     "metadata": {},
     "output_type": "display_data"
    }
   ],
   "source": [
    "%Rpush all_par6\n",
    "\n",
    "%R uv_par6 <- ezANOVA(dv=uV, wid=subject, within=.(task, cue), between=group, data=all_par6)\n",
    "%R print(uv_par6)"
   ]
  },
  {
   "cell_type": "code",
   "execution_count": null,
   "metadata": {
    "collapsed": true
   },
   "outputs": [],
   "source": []
  },
  {
   "cell_type": "markdown",
   "metadata": {},
   "source": [
    "#### 800-1400"
   ]
  },
  {
   "cell_type": "code",
   "execution_count": 144,
   "metadata": {
    "collapsed": false
   },
   "outputs": [
    {
     "data": {
      "text/html": [
       "<div>\n",
       "<table border=\"1\" class=\"dataframe\">\n",
       "  <thead>\n",
       "    <tr style=\"text-align: right;\">\n",
       "      <th></th>\n",
       "      <th>subject</th>\n",
       "      <th>time</th>\n",
       "      <th>condition</th>\n",
       "      <th>cue</th>\n",
       "      <th>task</th>\n",
       "      <th>laterality</th>\n",
       "      <th>electrode</th>\n",
       "      <th>electrode_label</th>\n",
       "      <th>uV</th>\n",
       "      <th>group</th>\n",
       "    </tr>\n",
       "  </thead>\n",
       "  <tbody>\n",
       "    <tr>\n",
       "      <th>0</th>\n",
       "      <td>SM011</td>\n",
       "      <td>[800.0  1400.0]</td>\n",
       "      <td>animacy side hit</td>\n",
       "      <td>Side</td>\n",
       "      <td>animacy</td>\n",
       "      <td>right</td>\n",
       "      <td>2</td>\n",
       "      <td>AF8</td>\n",
       "      <td>3.820</td>\n",
       "      <td>control</td>\n",
       "    </tr>\n",
       "    <tr>\n",
       "      <th>1</th>\n",
       "      <td>SM011</td>\n",
       "      <td>[800.0  1400.0]</td>\n",
       "      <td>animacy side hit</td>\n",
       "      <td>Side</td>\n",
       "      <td>animacy</td>\n",
       "      <td>right</td>\n",
       "      <td>5</td>\n",
       "      <td>E5</td>\n",
       "      <td>-2.095</td>\n",
       "      <td>control</td>\n",
       "    </tr>\n",
       "    <tr>\n",
       "      <th>2</th>\n",
       "      <td>SM011</td>\n",
       "      <td>[800.0  1400.0]</td>\n",
       "      <td>animacy side hit</td>\n",
       "      <td>Side</td>\n",
       "      <td>animacy</td>\n",
       "      <td>midline</td>\n",
       "      <td>6</td>\n",
       "      <td>E6</td>\n",
       "      <td>0.084</td>\n",
       "      <td>control</td>\n",
       "    </tr>\n",
       "    <tr>\n",
       "      <th>3</th>\n",
       "      <td>SM011</td>\n",
       "      <td>[800.0  1400.0]</td>\n",
       "      <td>animacy side hit</td>\n",
       "      <td>Side</td>\n",
       "      <td>animacy</td>\n",
       "      <td>left</td>\n",
       "      <td>7</td>\n",
       "      <td>E7</td>\n",
       "      <td>1.161</td>\n",
       "      <td>control</td>\n",
       "    </tr>\n",
       "    <tr>\n",
       "      <th>4</th>\n",
       "      <td>SM011</td>\n",
       "      <td>[800.0  1400.0]</td>\n",
       "      <td>animacy side hit</td>\n",
       "      <td>Side</td>\n",
       "      <td>animacy</td>\n",
       "      <td>midline</td>\n",
       "      <td>11</td>\n",
       "      <td>E11</td>\n",
       "      <td>0.722</td>\n",
       "      <td>control</td>\n",
       "    </tr>\n",
       "  </tbody>\n",
       "</table>\n",
       "</div>"
      ],
      "text/plain": [
       "  subject             time         condition   cue     task laterality  \\\n",
       "0   SM011  [800.0  1400.0]  animacy side hit  Side  animacy      right   \n",
       "1   SM011  [800.0  1400.0]  animacy side hit  Side  animacy      right   \n",
       "2   SM011  [800.0  1400.0]  animacy side hit  Side  animacy    midline   \n",
       "3   SM011  [800.0  1400.0]  animacy side hit  Side  animacy       left   \n",
       "4   SM011  [800.0  1400.0]  animacy side hit  Side  animacy    midline   \n",
       "\n",
       "   electrode electrode_label     uV    group  \n",
       "0          2             AF8  3.820  control  \n",
       "1          5              E5 -2.095  control  \n",
       "2          6              E6  0.084  control  \n",
       "3          7              E7  1.161  control  \n",
       "4         11             E11  0.722  control  "
      ]
     },
     "execution_count": 144,
     "metadata": {},
     "output_type": "execute_result"
    }
   ],
   "source": [
    "hc_par7 = make_clean_df(path2erps + 'MeanAmps/HC/HC_cueDiff_taskDiff_Par_800_1400_2.txt')\n",
    "mdd_par7 = make_clean_df(path2erps + 'MeanAmps/MDD/MDD_cueDiff_taskDiff_Par_800_1400_2.txt')\n",
    "hc_par7['group'] = 'control'\n",
    "mdd_par7['group'] = 'MDD'\n",
    "all_par7 = pd.concat([hc_par7,mdd_par7],axis=0)\n",
    "all_par7.head()"
   ]
  },
  {
   "cell_type": "code",
   "execution_count": 151,
   "metadata": {
    "collapsed": false
   },
   "outputs": [
    {
     "data": {
      "text/plain": [
       "array([  2,   5,   6,   7,  11,  12,  13,  16,  19,  20,  24,  27,  28,\n",
       "        29,  30,  31,  35,  36,  37,  42,  79,  80,  86,  87,  92,  93,\n",
       "        98, 102, 103, 104, 105, 106, 109, 111, 112, 117, 118, 123, 124])"
      ]
     },
     "execution_count": 151,
     "metadata": {},
     "output_type": "execute_result"
    }
   ],
   "source": [
    "all_par7.electrode.unique()"
   ]
  },
  {
   "cell_type": "code",
   "execution_count": 147,
   "metadata": {
    "collapsed": false
   },
   "outputs": [
    {
     "data": {
      "text/plain": [
       "$ANOVA\n",
       "          Effect DFn DFd           F            p p<.05          ges\n",
       "2          group   1  46  0.05406794 8.171616e-01       0.0007519829\n",
       "3           task   1  46  0.36217757 5.502542e-01       0.0004678693\n",
       "5            cue   1  46 27.86368098 3.431976e-06     * 0.0825690940\n",
       "4     group:task   1  46  0.19351283 6.620689e-01       0.0002500388\n",
       "6      group:cue   1  46  0.08841650 7.675387e-01       0.0002855058\n",
       "7       task:cue   1  46  3.70479481 6.045373e-02       0.0120712988\n",
       "8 group:task:cue   1  46  2.46405598 1.233316e-01       0.0080611998\n",
       "\n"
      ]
     },
     "metadata": {},
     "output_type": "display_data"
    }
   ],
   "source": [
    "%Rpush all_par7\n",
    "\n",
    "%R uv_par7 <- ezANOVA(dv=uV, wid=subject, within=.(task, cue), between=group, data=all_par7)\n",
    "%R print(uv_par7)"
   ]
  },
  {
   "cell_type": "code",
   "execution_count": null,
   "metadata": {
    "collapsed": true
   },
   "outputs": [],
   "source": []
  },
  {
   "cell_type": "markdown",
   "metadata": {},
   "source": [
    "#### 1400-2000"
   ]
  },
  {
   "cell_type": "code",
   "execution_count": 145,
   "metadata": {
    "collapsed": false
   },
   "outputs": [
    {
     "data": {
      "text/html": [
       "<div>\n",
       "<table border=\"1\" class=\"dataframe\">\n",
       "  <thead>\n",
       "    <tr style=\"text-align: right;\">\n",
       "      <th></th>\n",
       "      <th>subject</th>\n",
       "      <th>time</th>\n",
       "      <th>condition</th>\n",
       "      <th>cue</th>\n",
       "      <th>task</th>\n",
       "      <th>laterality</th>\n",
       "      <th>electrode</th>\n",
       "      <th>electrode_label</th>\n",
       "      <th>uV</th>\n",
       "      <th>group</th>\n",
       "    </tr>\n",
       "  </thead>\n",
       "  <tbody>\n",
       "    <tr>\n",
       "      <th>0</th>\n",
       "      <td>SM011</td>\n",
       "      <td>[1400.0  1999.0]</td>\n",
       "      <td>animacy side hit</td>\n",
       "      <td>Side</td>\n",
       "      <td>animacy</td>\n",
       "      <td>midline</td>\n",
       "      <td>6</td>\n",
       "      <td>E6</td>\n",
       "      <td>-2.143</td>\n",
       "      <td>control</td>\n",
       "    </tr>\n",
       "    <tr>\n",
       "      <th>1</th>\n",
       "      <td>SM011</td>\n",
       "      <td>[1400.0  1999.0]</td>\n",
       "      <td>animacy side hit</td>\n",
       "      <td>Side</td>\n",
       "      <td>animacy</td>\n",
       "      <td>left</td>\n",
       "      <td>7</td>\n",
       "      <td>E7</td>\n",
       "      <td>0.114</td>\n",
       "      <td>control</td>\n",
       "    </tr>\n",
       "    <tr>\n",
       "      <th>2</th>\n",
       "      <td>SM011</td>\n",
       "      <td>[1400.0  1999.0]</td>\n",
       "      <td>animacy side hit</td>\n",
       "      <td>Side</td>\n",
       "      <td>animacy</td>\n",
       "      <td>left</td>\n",
       "      <td>12</td>\n",
       "      <td>E12</td>\n",
       "      <td>-7.094</td>\n",
       "      <td>control</td>\n",
       "    </tr>\n",
       "    <tr>\n",
       "      <th>3</th>\n",
       "      <td>SM011</td>\n",
       "      <td>[1400.0  1999.0]</td>\n",
       "      <td>animacy side hit</td>\n",
       "      <td>Side</td>\n",
       "      <td>animacy</td>\n",
       "      <td>left</td>\n",
       "      <td>13</td>\n",
       "      <td>E13</td>\n",
       "      <td>-0.446</td>\n",
       "      <td>control</td>\n",
       "    </tr>\n",
       "    <tr>\n",
       "      <th>4</th>\n",
       "      <td>SM011</td>\n",
       "      <td>[1400.0  1999.0]</td>\n",
       "      <td>animacy side hit</td>\n",
       "      <td>Side</td>\n",
       "      <td>animacy</td>\n",
       "      <td>left</td>\n",
       "      <td>19</td>\n",
       "      <td>F1</td>\n",
       "      <td>-1.212</td>\n",
       "      <td>control</td>\n",
       "    </tr>\n",
       "  </tbody>\n",
       "</table>\n",
       "</div>"
      ],
      "text/plain": [
       "  subject              time         condition   cue     task laterality  \\\n",
       "0   SM011  [1400.0  1999.0]  animacy side hit  Side  animacy    midline   \n",
       "1   SM011  [1400.0  1999.0]  animacy side hit  Side  animacy       left   \n",
       "2   SM011  [1400.0  1999.0]  animacy side hit  Side  animacy       left   \n",
       "3   SM011  [1400.0  1999.0]  animacy side hit  Side  animacy       left   \n",
       "4   SM011  [1400.0  1999.0]  animacy side hit  Side  animacy       left   \n",
       "\n",
       "   electrode electrode_label     uV    group  \n",
       "0          6              E6 -2.143  control  \n",
       "1          7              E7  0.114  control  \n",
       "2         12             E12 -7.094  control  \n",
       "3         13             E13 -0.446  control  \n",
       "4         19              F1 -1.212  control  "
      ]
     },
     "execution_count": 145,
     "metadata": {},
     "output_type": "execute_result"
    }
   ],
   "source": [
    "hc_par8 = make_clean_df(path2erps + 'MeanAmps/HC/HC_cueDiff_taskDiff_Par_1400_2000_2.txt')\n",
    "mdd_par8 = make_clean_df(path2erps + 'MeanAmps/MDD/MDD_cueDiff_taskDiff_Par_1400_2000_2.txt')\n",
    "hc_par8['group'] = 'control'\n",
    "mdd_par8['group'] = 'MDD'\n",
    "all_par8 = pd.concat([hc_par8,mdd_par8],axis=0)\n",
    "all_par8.head()"
   ]
  },
  {
   "cell_type": "code",
   "execution_count": 152,
   "metadata": {
    "collapsed": false
   },
   "outputs": [
    {
     "data": {
      "text/plain": [
       "array([ 6,  7, 12, 13, 19, 24, 27, 28, 29, 30, 31, 35, 36, 37, 79, 80, 86,\n",
       "       87, 92, 93, 98])"
      ]
     },
     "execution_count": 152,
     "metadata": {},
     "output_type": "execute_result"
    }
   ],
   "source": [
    "all_par8.electrode.unique()"
   ]
  },
  {
   "cell_type": "code",
   "execution_count": 148,
   "metadata": {
    "collapsed": false
   },
   "outputs": [
    {
     "data": {
      "text/plain": [
       "$ANOVA\n",
       "          Effect DFn DFd            F            p p<.05          ges\n",
       "2          group   1  46  0.198438932 0.6580733383       2.690584e-03\n",
       "3           task   1  46  0.198177938 0.6582835252       3.766360e-04\n",
       "5            cue   1  46 20.637055532 0.0000400311     * 7.131706e-02\n",
       "4     group:task   1  46  0.001143264 0.9731732151       2.173580e-06\n",
       "6      group:cue   1  46  0.483350788 0.4904057708       1.795396e-03\n",
       "7       task:cue   1  46  4.626216322 0.0367744550     * 1.153018e-02\n",
       "8 group:task:cue   1  46  0.075390981 0.7848728125       1.900569e-04\n",
       "\n"
      ]
     },
     "metadata": {},
     "output_type": "display_data"
    }
   ],
   "source": [
    "%Rpush all_par8\n",
    "\n",
    "%R uv_par8 <- ezANOVA(dv=uV, wid=subject, within=.(task, cue), between=group, data=all_par8)\n",
    "%R print(uv_par8)"
   ]
  },
  {
   "cell_type": "code",
   "execution_count": null,
   "metadata": {
    "collapsed": true
   },
   "outputs": [],
   "source": []
  },
  {
   "cell_type": "code",
   "execution_count": null,
   "metadata": {
    "collapsed": true
   },
   "outputs": [],
   "source": []
  },
  {
   "cell_type": "markdown",
   "metadata": {},
   "source": [
    "### Correlations b/w behavior and uV from the MUT Q-S/mobility electrodes"
   ]
  },
  {
   "cell_type": "code",
   "execution_count": 126,
   "metadata": {
    "collapsed": false
   },
   "outputs": [
    {
     "data": {
      "text/html": [
       "<div>\n",
       "<table border=\"1\" class=\"dataframe\">\n",
       "  <thead>\n",
       "    <tr style=\"text-align: right;\">\n",
       "      <th></th>\n",
       "      <th>subject</th>\n",
       "      <th>group</th>\n",
       "      <th>condition</th>\n",
       "      <th>uV</th>\n",
       "    </tr>\n",
       "  </thead>\n",
       "  <tbody>\n",
       "    <tr>\n",
       "      <th>0</th>\n",
       "      <td>SM011</td>\n",
       "      <td>control</td>\n",
       "      <td>animacy question hit</td>\n",
       "      <td>0.9291</td>\n",
       "    </tr>\n",
       "    <tr>\n",
       "      <th>1</th>\n",
       "      <td>SM011</td>\n",
       "      <td>control</td>\n",
       "      <td>animacy side hit</td>\n",
       "      <td>1.1225</td>\n",
       "    </tr>\n",
       "    <tr>\n",
       "      <th>2</th>\n",
       "      <td>SM011</td>\n",
       "      <td>control</td>\n",
       "      <td>mobility question hit</td>\n",
       "      <td>0.9477</td>\n",
       "    </tr>\n",
       "    <tr>\n",
       "      <th>3</th>\n",
       "      <td>SM011</td>\n",
       "      <td>control</td>\n",
       "      <td>mobility side hit</td>\n",
       "      <td>0.9382</td>\n",
       "    </tr>\n",
       "    <tr>\n",
       "      <th>4</th>\n",
       "      <td>SM013</td>\n",
       "      <td>control</td>\n",
       "      <td>animacy question hit</td>\n",
       "      <td>0.4599</td>\n",
       "    </tr>\n",
       "  </tbody>\n",
       "</table>\n",
       "</div>"
      ],
      "text/plain": [
       "  subject    group              condition      uV\n",
       "0   SM011  control   animacy question hit  0.9291\n",
       "1   SM011  control       animacy side hit  1.1225\n",
       "2   SM011  control  mobility question hit  0.9477\n",
       "3   SM011  control      mobility side hit  0.9382\n",
       "4   SM013  control   animacy question hit  0.4599"
      ]
     },
     "execution_count": 126,
     "metadata": {},
     "output_type": "execute_result"
    }
   ],
   "source": [
    "g = all_par3.groupby(['subject','group','condition'])['uV'].mean()\n",
    "\n",
    "df6=pd.DataFrame(g)\n",
    "df6.reset_index(inplace=True)\n",
    "df6.head()"
   ]
  },
  {
   "cell_type": "code",
   "execution_count": 127,
   "metadata": {
    "collapsed": false
   },
   "outputs": [
    {
     "data": {
      "text/html": [
       "<div>\n",
       "<table border=\"1\" class=\"dataframe\">\n",
       "  <thead>\n",
       "    <tr style=\"text-align: right;\">\n",
       "      <th></th>\n",
       "      <th>subject</th>\n",
       "      <th>group</th>\n",
       "      <th>animacy question</th>\n",
       "      <th>animacy side</th>\n",
       "      <th>mobility question</th>\n",
       "      <th>mobility side</th>\n",
       "      <th>animacy q-s</th>\n",
       "      <th>mobility q-s</th>\n",
       "    </tr>\n",
       "  </thead>\n",
       "  <tbody>\n",
       "    <tr>\n",
       "      <th>0</th>\n",
       "      <td>SM011</td>\n",
       "      <td>control</td>\n",
       "      <td>0.9291</td>\n",
       "      <td>1.1225</td>\n",
       "      <td>0.9477</td>\n",
       "      <td>0.9382</td>\n",
       "      <td>-0.1934</td>\n",
       "      <td>0.0095</td>\n",
       "    </tr>\n",
       "    <tr>\n",
       "      <th>1</th>\n",
       "      <td>SM013</td>\n",
       "      <td>control</td>\n",
       "      <td>0.4599</td>\n",
       "      <td>-0.1960</td>\n",
       "      <td>0.7688</td>\n",
       "      <td>1.0773</td>\n",
       "      <td>0.6559</td>\n",
       "      <td>-0.3085</td>\n",
       "    </tr>\n",
       "    <tr>\n",
       "      <th>2</th>\n",
       "      <td>SM014</td>\n",
       "      <td>control</td>\n",
       "      <td>0.7871</td>\n",
       "      <td>0.1999</td>\n",
       "      <td>0.1516</td>\n",
       "      <td>0.0330</td>\n",
       "      <td>0.5872</td>\n",
       "      <td>0.1186</td>\n",
       "    </tr>\n",
       "    <tr>\n",
       "      <th>3</th>\n",
       "      <td>SM015</td>\n",
       "      <td>MDD</td>\n",
       "      <td>0.8339</td>\n",
       "      <td>1.4947</td>\n",
       "      <td>1.0759</td>\n",
       "      <td>1.3718</td>\n",
       "      <td>-0.6608</td>\n",
       "      <td>-0.2959</td>\n",
       "    </tr>\n",
       "    <tr>\n",
       "      <th>4</th>\n",
       "      <td>SM017</td>\n",
       "      <td>control</td>\n",
       "      <td>0.5303</td>\n",
       "      <td>1.1543</td>\n",
       "      <td>1.8646</td>\n",
       "      <td>3.3084</td>\n",
       "      <td>-0.6240</td>\n",
       "      <td>-1.4438</td>\n",
       "    </tr>\n",
       "  </tbody>\n",
       "</table>\n",
       "</div>"
      ],
      "text/plain": [
       "  subject    group  animacy question  animacy side  mobility question  \\\n",
       "0   SM011  control            0.9291        1.1225             0.9477   \n",
       "1   SM013  control            0.4599       -0.1960             0.7688   \n",
       "2   SM014  control            0.7871        0.1999             0.1516   \n",
       "3   SM015      MDD            0.8339        1.4947             1.0759   \n",
       "4   SM017  control            0.5303        1.1543             1.8646   \n",
       "\n",
       "   mobility side  animacy q-s  mobility q-s  \n",
       "0         0.9382      -0.1934        0.0095  \n",
       "1         1.0773       0.6559       -0.3085  \n",
       "2         0.0330       0.5872        0.1186  \n",
       "3         1.3718      -0.6608       -0.2959  \n",
       "4         3.3084      -0.6240       -1.4438  "
      ]
     },
     "execution_count": 127,
     "metadata": {},
     "output_type": "execute_result"
    }
   ],
   "source": [
    "df7 = df6.pivot_table(index=['subject','group'], columns='condition', values='uV')\n",
    "df7.reset_index(drop=False,inplace=True)\n",
    "df7.columns = ['subject','group','animacy question','animacy side','mobility question','mobility side']\n",
    "\n",
    "\n",
    "df7['animacy q-s'] = df7['animacy question']-df7['animacy side']\n",
    "df7['mobility q-s'] = df7['mobility question']-df7['mobility side']\n",
    "df7.head()"
   ]
  },
  {
   "cell_type": "code",
   "execution_count": 128,
   "metadata": {
    "collapsed": false
   },
   "outputs": [
    {
     "data": {
      "text/plain": [
       "48"
      ]
     },
     "execution_count": 128,
     "metadata": {},
     "output_type": "execute_result"
    }
   ],
   "source": [
    "df7.subject.nunique()"
   ]
  },
  {
   "cell_type": "code",
   "execution_count": 129,
   "metadata": {
    "collapsed": false
   },
   "outputs": [
    {
     "data": {
      "text/html": [
       "<div>\n",
       "<table border=\"1\" class=\"dataframe\">\n",
       "  <thead>\n",
       "    <tr style=\"text-align: right;\">\n",
       "      <th></th>\n",
       "      <th>subject</th>\n",
       "      <th>group</th>\n",
       "      <th>mobility question acc</th>\n",
       "      <th>mobility side acc</th>\n",
       "      <th>mobility Q-S acc</th>\n",
       "      <th>animacy question acc</th>\n",
       "      <th>animacy side acc</th>\n",
       "      <th>animacy Q-S acc</th>\n",
       "    </tr>\n",
       "  </thead>\n",
       "  <tbody>\n",
       "    <tr>\n",
       "      <th>0</th>\n",
       "      <td>SM011</td>\n",
       "      <td>control</td>\n",
       "      <td>0.304348</td>\n",
       "      <td>0.434783</td>\n",
       "      <td>-0.130435</td>\n",
       "      <td>0.702128</td>\n",
       "      <td>0.437500</td>\n",
       "      <td>0.264628</td>\n",
       "    </tr>\n",
       "    <tr>\n",
       "      <th>1</th>\n",
       "      <td>SM013</td>\n",
       "      <td>control</td>\n",
       "      <td>0.717391</td>\n",
       "      <td>0.700000</td>\n",
       "      <td>0.017391</td>\n",
       "      <td>0.476190</td>\n",
       "      <td>0.790698</td>\n",
       "      <td>-0.314507</td>\n",
       "    </tr>\n",
       "    <tr>\n",
       "      <th>2</th>\n",
       "      <td>SM014</td>\n",
       "      <td>control</td>\n",
       "      <td>0.744186</td>\n",
       "      <td>0.869565</td>\n",
       "      <td>-0.125379</td>\n",
       "      <td>0.723404</td>\n",
       "      <td>0.941176</td>\n",
       "      <td>-0.217772</td>\n",
       "    </tr>\n",
       "    <tr>\n",
       "      <th>3</th>\n",
       "      <td>SM015</td>\n",
       "      <td>MDD</td>\n",
       "      <td>0.765957</td>\n",
       "      <td>0.541667</td>\n",
       "      <td>0.224291</td>\n",
       "      <td>0.413043</td>\n",
       "      <td>0.541667</td>\n",
       "      <td>-0.128623</td>\n",
       "    </tr>\n",
       "    <tr>\n",
       "      <th>4</th>\n",
       "      <td>SM017</td>\n",
       "      <td>control</td>\n",
       "      <td>0.854167</td>\n",
       "      <td>0.860465</td>\n",
       "      <td>-0.006298</td>\n",
       "      <td>0.652174</td>\n",
       "      <td>0.780488</td>\n",
       "      <td>-0.128314</td>\n",
       "    </tr>\n",
       "  </tbody>\n",
       "</table>\n",
       "</div>"
      ],
      "text/plain": [
       "  subject    group  mobility question acc  mobility side acc  \\\n",
       "0   SM011  control               0.304348           0.434783   \n",
       "1   SM013  control               0.717391           0.700000   \n",
       "2   SM014  control               0.744186           0.869565   \n",
       "3   SM015      MDD               0.765957           0.541667   \n",
       "4   SM017  control               0.854167           0.860465   \n",
       "\n",
       "   mobility Q-S acc  animacy question acc  animacy side acc  animacy Q-S acc  \n",
       "0         -0.130435              0.702128          0.437500         0.264628  \n",
       "1          0.017391              0.476190          0.790698        -0.314507  \n",
       "2         -0.125379              0.723404          0.941176        -0.217772  \n",
       "3          0.224291              0.413043          0.541667        -0.128623  \n",
       "4         -0.006298              0.652174          0.780488        -0.128314  "
      ]
     },
     "execution_count": 129,
     "metadata": {},
     "output_type": "execute_result"
    }
   ],
   "source": [
    "acc_table_new = acc_table.copy()\n",
    "acc_table_new.head()"
   ]
  },
  {
   "cell_type": "code",
   "execution_count": 130,
   "metadata": {
    "collapsed": false
   },
   "outputs": [
    {
     "data": {
      "text/html": [
       "<div>\n",
       "<table border=\"1\" class=\"dataframe\">\n",
       "  <thead>\n",
       "    <tr style=\"text-align: right;\">\n",
       "      <th></th>\n",
       "      <th>subject</th>\n",
       "      <th>group</th>\n",
       "      <th>animacy question</th>\n",
       "      <th>animacy side</th>\n",
       "      <th>mobility question</th>\n",
       "      <th>mobility side</th>\n",
       "      <th>animacy q-s</th>\n",
       "      <th>mobility q-s</th>\n",
       "      <th>mobility question acc</th>\n",
       "      <th>mobility side acc</th>\n",
       "      <th>mobility Q-S acc</th>\n",
       "      <th>animacy question acc</th>\n",
       "      <th>animacy side acc</th>\n",
       "      <th>animacy Q-S acc</th>\n",
       "    </tr>\n",
       "  </thead>\n",
       "  <tbody>\n",
       "    <tr>\n",
       "      <th>0</th>\n",
       "      <td>SM011</td>\n",
       "      <td>control</td>\n",
       "      <td>0.9291</td>\n",
       "      <td>1.1225</td>\n",
       "      <td>0.9477</td>\n",
       "      <td>0.9382</td>\n",
       "      <td>-0.1934</td>\n",
       "      <td>0.0095</td>\n",
       "      <td>0.304348</td>\n",
       "      <td>0.434783</td>\n",
       "      <td>-0.130435</td>\n",
       "      <td>0.702128</td>\n",
       "      <td>0.437500</td>\n",
       "      <td>0.264628</td>\n",
       "    </tr>\n",
       "    <tr>\n",
       "      <th>1</th>\n",
       "      <td>SM013</td>\n",
       "      <td>control</td>\n",
       "      <td>0.4599</td>\n",
       "      <td>-0.1960</td>\n",
       "      <td>0.7688</td>\n",
       "      <td>1.0773</td>\n",
       "      <td>0.6559</td>\n",
       "      <td>-0.3085</td>\n",
       "      <td>0.717391</td>\n",
       "      <td>0.700000</td>\n",
       "      <td>0.017391</td>\n",
       "      <td>0.476190</td>\n",
       "      <td>0.790698</td>\n",
       "      <td>-0.314507</td>\n",
       "    </tr>\n",
       "    <tr>\n",
       "      <th>2</th>\n",
       "      <td>SM014</td>\n",
       "      <td>control</td>\n",
       "      <td>0.7871</td>\n",
       "      <td>0.1999</td>\n",
       "      <td>0.1516</td>\n",
       "      <td>0.0330</td>\n",
       "      <td>0.5872</td>\n",
       "      <td>0.1186</td>\n",
       "      <td>0.744186</td>\n",
       "      <td>0.869565</td>\n",
       "      <td>-0.125379</td>\n",
       "      <td>0.723404</td>\n",
       "      <td>0.941176</td>\n",
       "      <td>-0.217772</td>\n",
       "    </tr>\n",
       "    <tr>\n",
       "      <th>3</th>\n",
       "      <td>SM015</td>\n",
       "      <td>MDD</td>\n",
       "      <td>0.8339</td>\n",
       "      <td>1.4947</td>\n",
       "      <td>1.0759</td>\n",
       "      <td>1.3718</td>\n",
       "      <td>-0.6608</td>\n",
       "      <td>-0.2959</td>\n",
       "      <td>0.765957</td>\n",
       "      <td>0.541667</td>\n",
       "      <td>0.224291</td>\n",
       "      <td>0.413043</td>\n",
       "      <td>0.541667</td>\n",
       "      <td>-0.128623</td>\n",
       "    </tr>\n",
       "    <tr>\n",
       "      <th>4</th>\n",
       "      <td>SM017</td>\n",
       "      <td>control</td>\n",
       "      <td>0.5303</td>\n",
       "      <td>1.1543</td>\n",
       "      <td>1.8646</td>\n",
       "      <td>3.3084</td>\n",
       "      <td>-0.6240</td>\n",
       "      <td>-1.4438</td>\n",
       "      <td>0.854167</td>\n",
       "      <td>0.860465</td>\n",
       "      <td>-0.006298</td>\n",
       "      <td>0.652174</td>\n",
       "      <td>0.780488</td>\n",
       "      <td>-0.128314</td>\n",
       "    </tr>\n",
       "  </tbody>\n",
       "</table>\n",
       "</div>"
      ],
      "text/plain": [
       "  subject    group  animacy question  animacy side  mobility question  \\\n",
       "0   SM011  control            0.9291        1.1225             0.9477   \n",
       "1   SM013  control            0.4599       -0.1960             0.7688   \n",
       "2   SM014  control            0.7871        0.1999             0.1516   \n",
       "3   SM015      MDD            0.8339        1.4947             1.0759   \n",
       "4   SM017  control            0.5303        1.1543             1.8646   \n",
       "\n",
       "   mobility side  animacy q-s  mobility q-s  mobility question acc  \\\n",
       "0         0.9382      -0.1934        0.0095               0.304348   \n",
       "1         1.0773       0.6559       -0.3085               0.717391   \n",
       "2         0.0330       0.5872        0.1186               0.744186   \n",
       "3         1.3718      -0.6608       -0.2959               0.765957   \n",
       "4         3.3084      -0.6240       -1.4438               0.854167   \n",
       "\n",
       "   mobility side acc  mobility Q-S acc  animacy question acc  \\\n",
       "0           0.434783         -0.130435              0.702128   \n",
       "1           0.700000          0.017391              0.476190   \n",
       "2           0.869565         -0.125379              0.723404   \n",
       "3           0.541667          0.224291              0.413043   \n",
       "4           0.860465         -0.006298              0.652174   \n",
       "\n",
       "   animacy side acc  animacy Q-S acc  \n",
       "0          0.437500         0.264628  \n",
       "1          0.790698        -0.314507  \n",
       "2          0.941176        -0.217772  \n",
       "3          0.541667        -0.128623  \n",
       "4          0.780488        -0.128314  "
      ]
     },
     "execution_count": 130,
     "metadata": {},
     "output_type": "execute_result"
    }
   ],
   "source": [
    "uv_acc_new= pd.merge(df7,acc_table_new,on=['subject','group'])\n",
    "uv_acc_new.head()"
   ]
  },
  {
   "cell_type": "code",
   "execution_count": 131,
   "metadata": {
    "collapsed": false
   },
   "outputs": [
    {
     "data": {
      "image/png": "[encoded data removed]",
      "text/plain": [
       "<matplotlib.figure.Figure at 0x12ce9fc10>"
      ]
     },
     "metadata": {},
     "output_type": "display_data"
    }
   ],
   "source": [
    "# Correlation map with 10 electrodes from MUT analysis and retrieval accuracy data\n",
    "corr2 = uv_acc_new.corr()\n",
    "\n",
    "f, ax = plt.subplots(figsize=(12, 9))\n",
    "sns.heatmap(corr2, annot=True, linewidths=.5)\n",
    "plt.show()"
   ]
  },
  {
   "cell_type": "markdown",
   "metadata": {},
   "source": [
    "### Correlations with self-report and ERPs"
   ]
  },
  {
   "cell_type": "code",
   "execution_count": null,
   "metadata": {
    "collapsed": true
   },
   "outputs": [],
   "source": []
  },
  {
   "cell_type": "code",
   "execution_count": null,
   "metadata": {
    "collapsed": true
   },
   "outputs": [],
   "source": []
  },
  {
   "cell_type": "code",
   "execution_count": null,
   "metadata": {
    "collapsed": true
   },
   "outputs": [],
   "source": []
  },
  {
   "cell_type": "code",
   "execution_count": null,
   "metadata": {
    "collapsed": true
   },
   "outputs": [],
   "source": []
  },
  {
   "cell_type": "markdown",
   "metadata": {},
   "source": [
    "### Congruency sequence "
   ]
  },
  {
   "cell_type": "markdown",
   "metadata": {},
   "source": [
    "This is **low priority**--only one reviewer mentioned it and I've never found anything great with this . . . "
   ]
  },
  {
   "cell_type": "markdown",
   "metadata": {},
   "source": [
    "One way this will differ from what I did before is that this time, at the reviewer's suggestion, I'm including the Odd/Even trials . . . "
   ]
  },
  {
   "cell_type": "markdown",
   "metadata": {},
   "source": [
    "The basic question is, can healthy and depressed adults reconfigure set just as easily or no? Let's keep it simple at first, just add a 'cue_1back' column that is either \"same\" or \"different\". May ultimately be worthwhile to split this up further to look at switches into or out of an episodic (or conceptual/perceptual) set, but let's start with the basics."
   ]
  },
  {
   "cell_type": "code",
   "execution_count": 132,
   "metadata": {
    "collapsed": false
   },
   "outputs": [
    {
     "name": "stderr",
     "output_type": "stream",
     "text": [
      "/Users/ebarrick/anaconda/lib/python2.7/site-packages/ipykernel/__main__.py:4: SettingWithCopyWarning: \n",
      "A value is trying to be set on a copy of a slice from a DataFrame.\n",
      "Try using .loc[row_indexer,col_indexer] = value instead\n",
      "\n",
      "See the the caveats in the documentation: http://pandas.pydata.org/pandas-docs/stable/indexing.html#indexing-view-versus-copy\n"
     ]
    },
    {
     "data": {
      "text/html": [
       "<div>\n",
       "<table border=\"1\" class=\"dataframe\">\n",
       "  <thead>\n",
       "    <tr style=\"text-align: right;\">\n",
       "      <th></th>\n",
       "      <th>cue</th>\n",
       "      <th>cue_1b</th>\n",
       "    </tr>\n",
       "  </thead>\n",
       "  <tbody>\n",
       "    <tr>\n",
       "      <th>0</th>\n",
       "      <td>Question</td>\n",
       "      <td>NaN</td>\n",
       "    </tr>\n",
       "    <tr>\n",
       "      <th>1</th>\n",
       "      <td>Question</td>\n",
       "      <td>Question</td>\n",
       "    </tr>\n",
       "    <tr>\n",
       "      <th>2</th>\n",
       "      <td>Odd_even</td>\n",
       "      <td>Question</td>\n",
       "    </tr>\n",
       "    <tr>\n",
       "      <th>3</th>\n",
       "      <td>Question</td>\n",
       "      <td>Odd_even</td>\n",
       "    </tr>\n",
       "    <tr>\n",
       "      <th>4</th>\n",
       "      <td>Odd_even</td>\n",
       "      <td>Question</td>\n",
       "    </tr>\n",
       "  </tbody>\n",
       "</table>\n",
       "</div>"
      ],
      "text/plain": [
       "        cue    cue_1b\n",
       "0  Question       NaN\n",
       "1  Question  Question\n",
       "2  Odd_even  Question\n",
       "3  Question  Odd_even\n",
       "4  Odd_even  Question"
      ]
     },
     "execution_count": 132,
     "metadata": {},
     "output_type": "execute_result"
    }
   ],
   "source": [
    "dfs = []\n",
    "for sub in erp_ret.subject.unique():\n",
    "    df = erp_ret[erp_ret.subject == sub]\n",
    "    df['cue_1b'] = df.cue.shift(1)\n",
    "    dfs.append(df)\n",
    "erp_ret = pd.concat(dfs)\n",
    "erp_ret[['cue','cue_1b']].head()"
   ]
  },
  {
   "cell_type": "code",
   "execution_count": 133,
   "metadata": {
    "collapsed": true
   },
   "outputs": [],
   "source": [
    "def AddSetSwitch(data):\n",
    "    '''If cue on current trial and trial 1back are same, no switch, otherwise switch.'''\n",
    "    cue, cue_1b = data\n",
    "    if pd.isnull(cue) or pd.isnull(cue_1b):\n",
    "        switch = np.nan\n",
    "    elif cue == cue_1b:\n",
    "        switch = 'no'\n",
    "    else:\n",
    "        switch = 'yes'\n",
    "    \n",
    "    return switch"
   ]
  },
  {
   "cell_type": "code",
   "execution_count": 134,
   "metadata": {
    "collapsed": true
   },
   "outputs": [],
   "source": [
    "erp_ret['switch'] = erp_ret[['cue','cue_1b']].apply(AddSetSwitch,axis=1)"
   ]
  },
  {
   "cell_type": "code",
   "execution_count": 135,
   "metadata": {
    "collapsed": false
   },
   "outputs": [
    {
     "data": {
      "text/html": [
       "<div>\n",
       "<table border=\"1\" class=\"dataframe\">\n",
       "  <thead>\n",
       "    <tr style=\"text-align: right;\">\n",
       "      <th></th>\n",
       "      <th>cue</th>\n",
       "      <th>cue_1b</th>\n",
       "      <th>switch</th>\n",
       "    </tr>\n",
       "  </thead>\n",
       "  <tbody>\n",
       "    <tr>\n",
       "      <th>0</th>\n",
       "      <td>Question</td>\n",
       "      <td>NaN</td>\n",
       "      <td>NaN</td>\n",
       "    </tr>\n",
       "    <tr>\n",
       "      <th>1</th>\n",
       "      <td>Question</td>\n",
       "      <td>Question</td>\n",
       "      <td>no</td>\n",
       "    </tr>\n",
       "    <tr>\n",
       "      <th>2</th>\n",
       "      <td>Odd_even</td>\n",
       "      <td>Question</td>\n",
       "      <td>yes</td>\n",
       "    </tr>\n",
       "    <tr>\n",
       "      <th>3</th>\n",
       "      <td>Question</td>\n",
       "      <td>Odd_even</td>\n",
       "      <td>yes</td>\n",
       "    </tr>\n",
       "    <tr>\n",
       "      <th>4</th>\n",
       "      <td>Odd_even</td>\n",
       "      <td>Question</td>\n",
       "      <td>yes</td>\n",
       "    </tr>\n",
       "  </tbody>\n",
       "</table>\n",
       "</div>"
      ],
      "text/plain": [
       "        cue    cue_1b switch\n",
       "0  Question       NaN    NaN\n",
       "1  Question  Question     no\n",
       "2  Odd_even  Question    yes\n",
       "3  Question  Odd_even    yes\n",
       "4  Odd_even  Question    yes"
      ]
     },
     "execution_count": 135,
     "metadata": {},
     "output_type": "execute_result"
    }
   ],
   "source": [
    "erp_ret[['cue','cue_1b','switch']].head()"
   ]
  },
  {
   "cell_type": "code",
   "execution_count": 136,
   "metadata": {
    "collapsed": false
   },
   "outputs": [
    {
     "data": {
      "text/plain": [
       "<seaborn.axisgrid.FacetGrid at 0x12d9d92d0>"
      ]
     },
     "execution_count": 136,
     "metadata": {},
     "output_type": "execute_result"
    },
    {
     "data": {
      "image/png": "[encoded data removed]",
      "text/plain": [
       "<matplotlib.figure.Figure at 0x12d9d9e50>"
      ]
     },
     "metadata": {},
     "output_type": "display_data"
    }
   ],
   "source": [
    "# First question: is guessing affected by switching? Looks like you might have a Group x Switch interaction there.\n",
    "sns.factorplot(y='guess',x='switch',hue='group',units='subject',ci=68,kind='bar',\n",
    "               data=erp_ret)"
   ]
  },
  {
   "cell_type": "code",
   "execution_count": 137,
   "metadata": {
    "collapsed": false
   },
   "outputs": [
    {
     "name": "stdout",
     "output_type": "stream",
     "text": [
      "\n",
      "Error in `$<-.data.frame`(`*tmp*`, \"group_FX\", value = integer(0)) : \n",
      "  replacement has 0 rows, data has 13554\n",
      "\n",
      "Error in `$<-.data.frame`(`*tmp*`, \"gender_FX\", value = integer(0)) : \n",
      "  replacement has 0 rows, data has 13554\n",
      "\n",
      "Error in eval(expr, envir, enclos) : object 'gender_FX' not found\n",
      "\n",
      "Error in summary(switch_guess) : object 'switch_guess' not found\n"
     ]
    },
    {
     "name": "stderr",
     "output_type": "stream",
     "text": [
      "/Users/ebarrick/anaconda/lib/python2.7/site-packages/rpy2/robjects/functions.py:106: UserWarning: Error in `$<-.data.frame`(`*tmp*`, \"group_FX\", value = integer(0)) : \n",
      "  replacement has 0 rows, data has 13554\n",
      "\n",
      "  res = super(Function, self).__call__(*new_args, **new_kwargs)\n",
      "/Users/ebarrick/anaconda/lib/python2.7/site-packages/rpy2/robjects/functions.py:106: UserWarning: 1: \n",
      "  res = super(Function, self).__call__(*new_args, **new_kwargs)\n",
      "/Users/ebarrick/anaconda/lib/python2.7/site-packages/rpy2/robjects/functions.py:106: UserWarning: In aov_car(formula = as.formula(formula), data = data, fun.aggregate = fun.aggregate,  :\n",
      "  res = super(Function, self).__call__(*new_args, **new_kwargs)\n",
      "/Users/ebarrick/anaconda/lib/python2.7/site-packages/rpy2/robjects/functions.py:106: UserWarning: \n",
      " \n",
      "  res = super(Function, self).__call__(*new_args, **new_kwargs)\n",
      "/Users/ebarrick/anaconda/lib/python2.7/site-packages/rpy2/robjects/functions.py:106: UserWarning:  More than one observation per cell, aggregating the data using mean (i.e, fun.aggregate = mean)!\n",
      "\n",
      "  res = super(Function, self).__call__(*new_args, **new_kwargs)\n",
      "/Users/ebarrick/anaconda/lib/python2.7/site-packages/rpy2/robjects/functions.py:106: UserWarning: 2: \n",
      "  res = super(Function, self).__call__(*new_args, **new_kwargs)\n",
      "/Users/ebarrick/anaconda/lib/python2.7/site-packages/rpy2/robjects/functions.py:106: UserWarning: 3: \n",
      "  res = super(Function, self).__call__(*new_args, **new_kwargs)\n",
      "/Users/ebarrick/anaconda/lib/python2.7/site-packages/rpy2/robjects/functions.py:106: UserWarning: 4: \n",
      "  res = super(Function, self).__call__(*new_args, **new_kwargs)\n",
      "/Users/ebarrick/anaconda/lib/python2.7/site-packages/rpy2/robjects/functions.py:106: UserWarning: 5: \n",
      "  res = super(Function, self).__call__(*new_args, **new_kwargs)\n",
      "/Users/ebarrick/anaconda/lib/python2.7/site-packages/rpy2/robjects/functions.py:106: UserWarning: 6: \n",
      "  res = super(Function, self).__call__(*new_args, **new_kwargs)\n",
      "/Users/ebarrick/anaconda/lib/python2.7/site-packages/rpy2/robjects/functions.py:106: UserWarning: Error in `$<-.data.frame`(`*tmp*`, \"gender_FX\", value = integer(0)) : \n",
      "  replacement has 0 rows, data has 13554\n",
      "\n",
      "  res = super(Function, self).__call__(*new_args, **new_kwargs)\n",
      "/Users/ebarrick/anaconda/lib/python2.7/site-packages/rpy2/robjects/functions.py:106: UserWarning: Error in eval(expr, envir, enclos) : object 'gender_FX' not found\n",
      "\n",
      "  res = super(Function, self).__call__(*new_args, **new_kwargs)\n",
      "/Users/ebarrick/anaconda/lib/python2.7/site-packages/rpy2/robjects/functions.py:106: UserWarning: Error in summary(switch_guess) : object 'switch_guess' not found\n",
      "\n",
      "  res = super(Function, self).__call__(*new_args, **new_kwargs)\n"
     ]
    }
   ],
   "source": [
    "# This shows a trend for a group difference in guessing, but neither the switch effect nor the GxS is sig.\n",
    "erp_ret['switch_FX'] = erp_ret.switch.replace(to_replace={'no':-1,'yes':1})\n",
    "erp_switch = erp_ret[(erp_ret.switch == 'no') | (erp_ret.switch == 'yes')]\n",
    "\n",
    "%Rpush erp_switch\n",
    "%R erp_switch$group_FX <- as.factor(erp_switch$group_FX)\n",
    "%R erp_switch$gender_FX <- as.factor(erp_switch$gender_FX)\n",
    "%R erp_switch$switch_FX <- as.factor(erp_switch$switch_FX)\n",
    "\n",
    "%R switch_guess <- glmer(guess ~ Age + gender_FX + group_FX*switch_FX + (1|word) + (1|subject),\\\n",
    "                         glmerControl(optimizer=\"bobyqa\", optCtrl = list(maxfun = 100000)),\\\n",
    "                         family=binomial, data=erp_switch)\n",
    "\n",
    "%R print(summary(switch_guess))                         "
   ]
  },
  {
   "cell_type": "code",
   "execution_count": 138,
   "metadata": {
    "collapsed": false
   },
   "outputs": [
    {
     "data": {
      "text/plain": [
       "<seaborn.axisgrid.FacetGrid at 0x12cf86d50>"
      ]
     },
     "execution_count": 138,
     "metadata": {},
     "output_type": "execute_result"
    },
    {
     "data": {
      "image/png": "[encoded data removed]",
      "text/plain": [
       "<matplotlib.figure.Figure at 0x12cf86dd0>"
      ]
     },
     "metadata": {},
     "output_type": "display_data"
    }
   ],
   "source": [
    "# How about accuracy once guesses are removed? Maybe a tiny negative effect . . . \n",
    "sns.factorplot(y='accuracy',x='switch',hue='group',units='subject',ci=68,kind='bar',\n",
    "               data=erp_switch[~(erp_switch.response == 3)])"
   ]
  },
  {
   "cell_type": "code",
   "execution_count": 139,
   "metadata": {
    "collapsed": false
   },
   "outputs": [
    {
     "name": "stdout",
     "output_type": "stream",
     "text": [
      "\n",
      "Error in `$<-.data.frame`(`*tmp*`, \"group_FX\", value = integer(0)) : \n",
      "  replacement has 0 rows, data has 12677\n",
      "\n",
      "Error in `$<-.data.frame`(`*tmp*`, \"gender_FX\", value = integer(0)) : \n",
      "  replacement has 0 rows, data has 12677\n",
      "\n",
      "Error in eval(expr, envir, enclos) : object 'gender_FX' not found\n",
      "\n",
      "Error in summary(switch_acc) : object 'switch_acc' not found\n"
     ]
    },
    {
     "name": "stderr",
     "output_type": "stream",
     "text": [
      "/Users/ebarrick/anaconda/lib/python2.7/site-packages/rpy2/robjects/functions.py:106: UserWarning: Error in `$<-.data.frame`(`*tmp*`, \"group_FX\", value = integer(0)) : \n",
      "  replacement has 0 rows, data has 12677\n",
      "\n",
      "  res = super(Function, self).__call__(*new_args, **new_kwargs)\n",
      "/Users/ebarrick/anaconda/lib/python2.7/site-packages/rpy2/robjects/functions.py:106: UserWarning: Error in `$<-.data.frame`(`*tmp*`, \"gender_FX\", value = integer(0)) : \n",
      "  replacement has 0 rows, data has 12677\n",
      "\n",
      "  res = super(Function, self).__call__(*new_args, **new_kwargs)\n",
      "/Users/ebarrick/anaconda/lib/python2.7/site-packages/rpy2/robjects/functions.py:106: UserWarning: Error in summary(switch_acc) : object 'switch_acc' not found\n",
      "\n",
      "  res = super(Function, self).__call__(*new_args, **new_kwargs)\n"
     ]
    }
   ],
   "source": [
    "# Big effects of Age and Gender on accuracy, but no effect of Group or Switch and no interaction . . . \n",
    "erp_switch_nog = erp_switch[~(erp_switch.response == 3)]\n",
    "\n",
    "%Rpush erp_switch_nog\n",
    "%R erp_switch_nog$group_FX <- as.factor(erp_switch_nog$group_FX)\n",
    "%R erp_switch_nog$gender_FX <- as.factor(erp_switch_nog$gender_FX)\n",
    "%R erp_switch_nog$switch_FX <- as.factor(erp_switch_nog$switch_FX)\n",
    "\n",
    "%R switch_acc <- glmer(accuracy ~ Age + gender_FX + group_FX*switch_FX + (1|word) + (1|subject),\\\n",
    "                         glmerControl(optimizer=\"bobyqa\", optCtrl = list(maxfun = 100000)),\\\n",
    "                         family=binomial, data=erp_switch_nog)\n",
    "\n",
    "%R print(summary(switch_acc))                         "
   ]
  },
  {
   "cell_type": "code",
   "execution_count": 140,
   "metadata": {
    "collapsed": false
   },
   "outputs": [
    {
     "data": {
      "text/plain": [
       "<seaborn.axisgrid.FacetGrid at 0x12e5b1e50>"
      ]
     },
     "execution_count": 140,
     "metadata": {},
     "output_type": "execute_result"
    },
    {
     "data": {
      "image/png": "[encoded data removed]",
      "text/plain": [
       "<matplotlib.figure.Figure at 0x12e5b1190>"
      ]
     },
     "metadata": {},
     "output_type": "display_data"
    }
   ],
   "source": [
    "# How about RT? Looks like a slow-down\n",
    "sns.factorplot(y='RT',x='switch',hue='group',units='subject',ci=68,kind='bar',\n",
    "               data=erp_switch_nog)"
   ]
  },
  {
   "cell_type": "code",
   "execution_count": 141,
   "metadata": {
    "collapsed": false
   },
   "outputs": [
    {
     "name": "stdout",
     "output_type": "stream",
     "text": [
      "\n",
      "Error in eval(expr, envir, enclos) : object 'gender_FX' not found\n",
      "\n",
      "Error in summary(switch_RT) : object 'switch_RT' not found\n"
     ]
    },
    {
     "name": "stderr",
     "output_type": "stream",
     "text": [
      "/Users/ebarrick/anaconda/lib/python2.7/site-packages/rpy2/robjects/functions.py:106: UserWarning: Error in summary(switch_RT) : object 'switch_RT' not found\n",
      "\n",
      "  res = super(Function, self).__call__(*new_args, **new_kwargs)\n"
     ]
    }
   ],
   "source": [
    "# Strong effects of Gender and Switch on RT, there is also a Group x Switch interaction but judging by the graph,\n",
    "# the follow-ups would not be significant.\n",
    "\n",
    "%R switch_RT <- lmer(RT ~ Age + gender_FX + group_FX*switch_FX + (1|word) + (1|subject), data=erp_switch_nog)\n",
    "\n",
    "%R print(summary(switch_RT))                         "
   ]
  },
  {
   "cell_type": "code",
   "execution_count": 142,
   "metadata": {
    "collapsed": false
   },
   "outputs": [
    {
     "ename": "ValueError",
     "evalue": "Could not interpret input 'high_confidence'",
     "output_type": "error",
     "traceback": [
      "\u001b[0;31m---------------------------------------------------------------------------\u001b[0m",
      "\u001b[0;31mValueError\u001b[0m                                Traceback (most recent call last)",
      "\u001b[0;32m<ipython-input-142-2d6aeef6b86b>\u001b[0m in \u001b[0;36m<module>\u001b[0;34m()\u001b[0m\n\u001b[1;32m      1\u001b[0m \u001b[0;31m# How about confidence? doesn't look like much of an effect there . . .\u001b[0m\u001b[0;34m\u001b[0m\u001b[0;34m\u001b[0m\u001b[0m\n\u001b[1;32m      2\u001b[0m sns.factorplot(y='high_confidence',x='switch',hue='group',units='subject',ci=68,kind='bar',\n\u001b[0;32m----> 3\u001b[0;31m                data=erp_switch_nog)\n\u001b[0m",
      "\u001b[0;32m/Users/ebarrick/anaconda/lib/python2.7/site-packages/seaborn/categorical.pyc\u001b[0m in \u001b[0;36mfactorplot\u001b[0;34m(x, y, hue, data, row, col, col_wrap, estimator, ci, n_boot, units, order, hue_order, row_order, col_order, kind, size, aspect, orient, color, palette, legend, legend_out, sharex, sharey, margin_titles, facet_kws, **kwargs)\u001b[0m\n\u001b[1;32m   3326\u001b[0m     \u001b[0;31m# facets to ensure representation of all data in the final plot\u001b[0m\u001b[0;34m\u001b[0m\u001b[0;34m\u001b[0m\u001b[0m\n\u001b[1;32m   3327\u001b[0m     \u001b[0mp\u001b[0m \u001b[0;34m=\u001b[0m \u001b[0m_CategoricalPlotter\u001b[0m\u001b[0;34m(\u001b[0m\u001b[0;34m)\u001b[0m\u001b[0;34m\u001b[0m\u001b[0m\n\u001b[0;32m-> 3328\u001b[0;31m     \u001b[0mp\u001b[0m\u001b[0;34m.\u001b[0m\u001b[0mestablish_variables\u001b[0m\u001b[0;34m(\u001b[0m\u001b[0mx_\u001b[0m\u001b[0;34m,\u001b[0m \u001b[0my_\u001b[0m\u001b[0;34m,\u001b[0m \u001b[0mhue\u001b[0m\u001b[0;34m,\u001b[0m \u001b[0mdata\u001b[0m\u001b[0;34m,\u001b[0m \u001b[0morient\u001b[0m\u001b[0;34m,\u001b[0m \u001b[0morder\u001b[0m\u001b[0;34m,\u001b[0m \u001b[0mhue_order\u001b[0m\u001b[0;34m)\u001b[0m\u001b[0;34m\u001b[0m\u001b[0m\n\u001b[0m\u001b[1;32m   3329\u001b[0m     \u001b[0morder\u001b[0m \u001b[0;34m=\u001b[0m \u001b[0mp\u001b[0m\u001b[0;34m.\u001b[0m\u001b[0mgroup_names\u001b[0m\u001b[0;34m\u001b[0m\u001b[0m\n\u001b[1;32m   3330\u001b[0m     \u001b[0mhue_order\u001b[0m \u001b[0;34m=\u001b[0m \u001b[0mp\u001b[0m\u001b[0;34m.\u001b[0m\u001b[0mhue_names\u001b[0m\u001b[0;34m\u001b[0m\u001b[0m\n",
      "\u001b[0;32m/Users/ebarrick/anaconda/lib/python2.7/site-packages/seaborn/categorical.pyc\u001b[0m in \u001b[0;36mestablish_variables\u001b[0;34m(self, x, y, hue, data, orient, order, hue_order, units)\u001b[0m\n\u001b[1;32m    145\u001b[0m                 \u001b[0;32mif\u001b[0m \u001b[0misinstance\u001b[0m\u001b[0;34m(\u001b[0m\u001b[0minput\u001b[0m\u001b[0;34m,\u001b[0m \u001b[0mstring_types\u001b[0m\u001b[0;34m)\u001b[0m\u001b[0;34m:\u001b[0m\u001b[0;34m\u001b[0m\u001b[0m\n\u001b[1;32m    146\u001b[0m                     \u001b[0merr\u001b[0m \u001b[0;34m=\u001b[0m \u001b[0;34m\"Could not interpret input '{}'\"\u001b[0m\u001b[0;34m.\u001b[0m\u001b[0mformat\u001b[0m\u001b[0;34m(\u001b[0m\u001b[0minput\u001b[0m\u001b[0;34m)\u001b[0m\u001b[0;34m\u001b[0m\u001b[0m\n\u001b[0;32m--> 147\u001b[0;31m                     \u001b[0;32mraise\u001b[0m \u001b[0mValueError\u001b[0m\u001b[0;34m(\u001b[0m\u001b[0merr\u001b[0m\u001b[0;34m)\u001b[0m\u001b[0;34m\u001b[0m\u001b[0m\n\u001b[0m\u001b[1;32m    148\u001b[0m \u001b[0;34m\u001b[0m\u001b[0m\n\u001b[1;32m    149\u001b[0m             \u001b[0;31m# Figure out the plotting orientation\u001b[0m\u001b[0;34m\u001b[0m\u001b[0;34m\u001b[0m\u001b[0m\n",
      "\u001b[0;31mValueError\u001b[0m: Could not interpret input 'high_confidence'"
     ]
    }
   ],
   "source": [
    "# How about confidence? doesn't look like much of an effect there . . . \n",
    "sns.factorplot(y='high_confidence',x='switch',hue='group',units='subject',ci=68,kind='bar',\n",
    "               data=erp_switch_nog)"
   ]
  },
  {
   "cell_type": "code",
   "execution_count": null,
   "metadata": {
    "collapsed": false
   },
   "outputs": [],
   "source": [
    "# There is a reliable effect of switching on confidence . . . \n",
    "%R switch_conf <- glmer(high_confidence ~ Age + gender_FX + group_FX*switch_FX + (1|word) + (1|subject),\\\n",
    "                         glmerControl(optimizer=\"bobyqa\", optCtrl = list(maxfun = 100000)),\\\n",
    "                         family=binomial, data=erp_switch_nog)\n",
    "\n",
    "%R print(summary(switch_conf))                         "
   ]
  }
 ],
 "metadata": {
  "kernelspec": {
   "display_name": "Python 2",
   "language": "python",
   "name": "python2"
  },
  "language_info": {
   "codemirror_mode": {
    "name": "ipython",
    "version": 2
   },
   "file_extension": ".py",
   "mimetype": "text/x-python",
   "name": "python",
   "nbconvert_exporter": "python",
   "pygments_lexer": "ipython2",
   "version": "2.7.12"
  }
 },
 "nbformat": 4,
 "nbformat_minor": 0
}
